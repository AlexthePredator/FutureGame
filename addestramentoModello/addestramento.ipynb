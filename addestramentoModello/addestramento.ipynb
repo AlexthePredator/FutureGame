{
 "cells": [
  {
   "cell_type": "markdown",
   "id": "c29b3e87",
   "metadata": {},
   "source": [
    "# Librerie\n",
    "caricamento librerie"
   ]
  },
  {
   "cell_type": "code",
   "execution_count": 1,
   "id": "c04bc75e",
   "metadata": {},
   "outputs": [],
   "source": [
    "import pandas as pd"
   ]
  },
  {
   "cell_type": "markdown",
   "id": "a7b0b3f3",
   "metadata": {},
   "source": [
    "### Carica DataSet\n",
    "games_march2025_cleaned"
   ]
  },
  {
   "cell_type": "code",
   "execution_count": 4,
   "id": "b5168750",
   "metadata": {},
   "outputs": [],
   "source": [
    "dataset = pd.read_csv(\"DataSet/games_march2025_cleaned.csv\")\n",
    "\n",
    "#dataset"
   ]
  },
  {
   "cell_type": "markdown",
   "id": "81b071e6",
   "metadata": {},
   "source": [
    "# Data Understanding"
   ]
  },
  {
   "cell_type": "code",
   "execution_count": 7,
   "id": "9c813b25",
   "metadata": {},
   "outputs": [
    {
     "name": "stdout",
     "output_type": "stream",
     "text": [
      "<class 'pandas.core.frame.DataFrame'>\n",
      "RangeIndex: 89618 entries, 0 to 89617\n",
      "Data columns (total 47 columns):\n",
      " #   Column                    Non-Null Count  Dtype  \n",
      "---  ------                    --------------  -----  \n",
      " 0   appid                     89618 non-null  int64  \n",
      " 1   name                      89618 non-null  object \n",
      " 2   release_date              89618 non-null  object \n",
      " 3   required_age              89618 non-null  int64  \n",
      " 4   price                     89618 non-null  float64\n",
      " 5   dlc_count                 89618 non-null  int64  \n",
      " 6   detailed_description      89421 non-null  object \n",
      " 7   about_the_game            89398 non-null  object \n",
      " 8   short_description         89498 non-null  object \n",
      " 9   reviews                   10401 non-null  object \n",
      " 10  header_image              89618 non-null  object \n",
      " 11  website                   41114 non-null  object \n",
      " 12  support_url               44110 non-null  object \n",
      " 13  support_email             78798 non-null  object \n",
      " 14  windows                   89618 non-null  bool   \n",
      " 15  mac                       89618 non-null  bool   \n",
      " 16  linux                     89618 non-null  bool   \n",
      " 17  metacritic_score          89618 non-null  int64  \n",
      " 18  metacritic_url            3547 non-null   object \n",
      " 19  achievements              89618 non-null  int64  \n",
      " 20  recommendations           89618 non-null  int64  \n",
      " 21  notes                     16643 non-null  object \n",
      " 22  supported_languages       89618 non-null  object \n",
      " 23  full_audio_languages      89618 non-null  object \n",
      " 24  packages                  89618 non-null  object \n",
      " 25  developers                89618 non-null  object \n",
      " 26  publishers                89618 non-null  object \n",
      " 27  categories                89618 non-null  object \n",
      " 28  genres                    89618 non-null  object \n",
      " 29  screenshots               89618 non-null  object \n",
      " 30  movies                    89618 non-null  object \n",
      " 31  user_score                89618 non-null  int64  \n",
      " 32  score_rank                39 non-null     float64\n",
      " 33  positive                  89618 non-null  int64  \n",
      " 34  negative                  89618 non-null  int64  \n",
      " 35  estimated_owners          89618 non-null  object \n",
      " 36  average_playtime_forever  89618 non-null  int64  \n",
      " 37  average_playtime_2weeks   89618 non-null  int64  \n",
      " 38  median_playtime_forever   89618 non-null  int64  \n",
      " 39  median_playtime_2weeks    89618 non-null  int64  \n",
      " 40  discount                  89618 non-null  int64  \n",
      " 41  peak_ccu                  89618 non-null  int64  \n",
      " 42  tags                      89618 non-null  object \n",
      " 43  pct_pos_total             89618 non-null  int64  \n",
      " 44  num_reviews_total         89618 non-null  int64  \n",
      " 45  pct_pos_recent            89618 non-null  int64  \n",
      " 46  num_reviews_recent        89618 non-null  int64  \n",
      "dtypes: bool(3), float64(2), int64(19), object(23)\n",
      "memory usage: 30.3+ MB\n"
     ]
    }
   ],
   "source": [
    "#dataset.describe()\n",
    "#statistiche del dataset\n",
    "\n",
    "dataset.info()"
   ]
  },
  {
   "cell_type": "markdown",
   "id": "9adb9c47",
   "metadata": {},
   "source": [
    "score_rank troppi null\n",
    "metacritic_url non significativo\n",
    "\n"
   ]
  }
 ],
 "metadata": {
  "kernelspec": {
   "display_name": "Python 3",
   "language": "python",
   "name": "python3"
  },
  "language_info": {
   "codemirror_mode": {
    "name": "ipython",
    "version": 3
   },
   "file_extension": ".py",
   "mimetype": "text/x-python",
   "name": "python",
   "nbconvert_exporter": "python",
   "pygments_lexer": "ipython3",
   "version": "3.12.0"
  }
 },
 "nbformat": 4,
 "nbformat_minor": 5
}
