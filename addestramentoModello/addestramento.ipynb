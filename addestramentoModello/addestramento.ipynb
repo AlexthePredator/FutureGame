{
 "cells": [
  {
   "cell_type": "markdown",
   "id": "c29b3e87",
   "metadata": {},
   "source": [
    "# Librerie\n",
    "caricamento librerie"
   ]
  },
  {
   "cell_type": "code",
   "execution_count": 1,
   "id": "c04bc75e",
   "metadata": {},
   "outputs": [],
   "source": [
    "import pandas as pd"
   ]
  },
  {
   "cell_type": "markdown",
   "id": "a7b0b3f3",
   "metadata": {},
   "source": [
    "### Carica DataSet\n",
    "games_march2025_cleaned"
   ]
  },
  {
   "cell_type": "code",
   "execution_count": 62,
   "id": "b5168750",
   "metadata": {},
   "outputs": [],
   "source": [
    "dataset = pd.read_csv(\"DataSet/games_march2025_cleaned.csv\")\n",
    "\n",
    "#dataset"
   ]
  },
  {
   "cell_type": "markdown",
   "id": "81b071e6",
   "metadata": {},
   "source": [
    "# Data Understanding"
   ]
  },
  {
   "cell_type": "code",
   "execution_count": null,
   "id": "9c813b25",
   "metadata": {},
   "outputs": [],
   "source": [
    "dataset.info()"
   ]
  },
  {
   "cell_type": "markdown",
   "id": "9adb9c47",
   "metadata": {},
   "source": [
    "score_rank troppi null \n",
    "metacritic_url non significativo\n",
    "\n"
   ]
  },
  {
   "cell_type": "code",
   "execution_count": null,
   "id": "eabfe770",
   "metadata": {},
   "outputs": [],
   "source": [
    "dataset.describe()\n",
    "#statistiche del dataset"
   ]
  },
  {
   "cell_type": "markdown",
   "id": "15f996b5",
   "metadata": {},
   "source": [
    "* Eliminiamo colonna 'appid', id interno al dataset di steam, non utile alla prediizione\n",
    "* Eliminiamo colonna della descrizione e raccomandazioni, sono testuali e non utili alla predizione.\n",
    "    * 'detailed_description' , 'about_the_game', 'short_description', 'reviews'\n",
    "* Eliminiamo url dell'immagine del gioco\n",
    "    * 'header_image'\n",
    "* Eliminiamo colonne testuali per supporto clienti e url vari\n",
    "    * 'website', 'support_url', 'support_email', 'metacritic_url', 'notes'\n",
    "* Eliminiamo colonne per trailer video e foto del gioco\n",
    "    * 'movies' , 'screenshots'\n",
    "* Elimino i punteggi che hanno troppi valori null\n",
    "    * 'user_score', 'score_rank'\n",
    "* Elimino le liste delle lingue supportate e dei pacchetti che non danno utilità\n",
    "    * 'supported_languages', 'full_audio_languages', 'packages'\n",
    "* Elimino numero di dlc e sconti che non danno informazioni o con molti valori nulli\n",
    "    * 'discount', 'dlc_count', 'tags'"
   ]
  },
  {
   "cell_type": "code",
   "execution_count": 63,
   "id": "bbe0cde5",
   "metadata": {},
   "outputs": [],
   "source": [
    "# drop elimina colonna, per eliminare più colonne contemporaneamente [ , ]\n",
    "dataset.drop('appid', axis=1, inplace=True)\n",
    "dataset.drop('name', axis=1, inplace=True)\n",
    "dataset.drop(['detailed_description','about_the_game', 'short_description', 'reviews', 'header_image'], axis=1, inplace=True)\n",
    "dataset.drop(['website', 'support_url', 'support_email', 'metacritic_url', 'notes'], axis=1, inplace=True)\n",
    "dataset.drop(['screenshots','movies'], axis=1, inplace=True)\n",
    "dataset.drop(['user_score', 'score_rank', 'metacritic_score'], axis=1, inplace=True)\n",
    "dataset.drop(['supported_languages', 'full_audio_languages', 'packages', 'tags'], axis=1, inplace=True)\n",
    "dataset.drop(['discount', 'dlc_count'], axis=1, inplace=True)"
   ]
  },
  {
   "cell_type": "code",
   "execution_count": null,
   "id": "bae5ea13",
   "metadata": {},
   "outputs": [],
   "source": [
    "#dataset.describe(include=['O'])\n",
    "dataset['user_score'].value_counts()\n",
    "dataset['metacritic_score'].value_counts()\n",
    "dataset['score_rank'].value_counts()\n",
    "dataset['positive'].value_counts()\n",
    "dataset.info()"
   ]
  },
  {
   "cell_type": "markdown",
   "id": "15ed7809",
   "metadata": {},
   "source": [
    "### Salvo su nuovo dataset da poter usare comodamente"
   ]
  },
  {
   "cell_type": "code",
   "execution_count": 64,
   "id": "4943de8e",
   "metadata": {},
   "outputs": [],
   "source": [
    "# salvo dataset modificato in uno nuovo per poter ripartire da lì\n",
    "dataset.to_csv('DataSet/games1.csv', index=False)\n"
   ]
  },
  {
   "cell_type": "markdown",
   "id": "88aab6c0",
   "metadata": {},
   "source": [
    "##### Salvo le modifiche in un nuovo dataset per poterlo utilizzare\n",
    "* Inizializzare da QUI"
   ]
  },
  {
   "cell_type": "code",
   "execution_count": 65,
   "id": "e2bf9cc3",
   "metadata": {},
   "outputs": [],
   "source": [
    "#NUOVO DATASET CON MODIFICHE\n",
    "\n",
    "ds = pd.read_csv(\"DataSet/games1.csv\")"
   ]
  },
  {
   "cell_type": "markdown",
   "id": "4b801b6d",
   "metadata": {},
   "source": [
    "* Creo nuova variabile che include differenza tra positivi e negativi\n",
    "    * elimino le due colonne di positivi e negativi"
   ]
  },
  {
   "cell_type": "code",
   "execution_count": 66,
   "id": "e62fe23b",
   "metadata": {},
   "outputs": [],
   "source": [
    "ds['absolute_score'] = ds['positive'] - ds['negative']\n",
    "\n",
    "ds.drop(['positive', 'negative'], axis=1, inplace=True)\n",
    "ds.to_csv('DataSet/games1.csv', index=False)\n"
   ]
  },
  {
   "cell_type": "markdown",
   "id": "4ec38423",
   "metadata": {},
   "source": [
    "### Taglio dataset sugli ultimi 10 anni:\n",
    "* taglio tutti i giochi usciti prima del 2015\n",
    "    * dataset arriva fino al 2025"
   ]
  },
  {
   "cell_type": "code",
   "execution_count": 67,
   "id": "b492b0e6",
   "metadata": {},
   "outputs": [
    {
     "name": "stdout",
     "output_type": "stream",
     "text": [
      "Righe rimanenti: 86847\n"
     ]
    }
   ],
   "source": [
    "ds['release_date'] = pd.to_datetime(ds['release_date'], format='%Y-%m-%d', errors='coerce')\n",
    "\n",
    "cutoff_date = pd.Timestamp('2015-01-01')\n",
    "\n",
    "# Filtriamo solo le righe dal 2015 in poi\n",
    "ds = ds[ds['release_date'] >= cutoff_date]\n",
    "\n",
    "print(f\"Righe rimanenti: {len(ds)}\")\n"
   ]
  },
  {
   "cell_type": "markdown",
   "id": "e7058b14",
   "metadata": {},
   "source": [
    "### Variabile Target num giocatori che hanno acquistato il gioco\n",
    "* per decretare successo del gioco"
   ]
  },
  {
   "cell_type": "code",
   "execution_count": 68,
   "id": "63f5c535",
   "metadata": {},
   "outputs": [
    {
     "data": {
      "text/plain": [
       "estimated_owners\n",
       "0            67288\n",
       "20000         9144\n",
       "50000         4130\n",
       "100000        2586\n",
       "200000        2022\n",
       "500000         833\n",
       "1000000        441\n",
       "2000000        263\n",
       "5000000         78\n",
       "10000000        34\n",
       "20000000        18\n",
       "50000000        10\n",
       "Name: count, dtype: int64"
      ]
     },
     "execution_count": 68,
     "metadata": {},
     "output_type": "execute_result"
    }
   ],
   "source": [
    "ds['estimated_owners'] = ds['estimated_owners'].apply(lambda x: x.split('-')[0])\n",
    "ds['estimated_owners'].value_counts()"
   ]
  },
  {
   "cell_type": "markdown",
   "id": "180ae5d7",
   "metadata": {},
   "source": [
    "### Raggruppamento\n",
    "* Faccio raggruppamento\n",
    "    * raggruppo per 4 valori quindi 4 intervalli"
   ]
  },
  {
   "cell_type": "code",
   "execution_count": 69,
   "id": "4d59ccf5",
   "metadata": {},
   "outputs": [
    {
     "name": "stdout",
     "output_type": "stream",
     "text": [
      "success_class\n",
      "insuccesso        67288\n",
      "basso_successo    13274\n",
      "medio_successo     5441\n",
      "alto_successo       844\n",
      "Name: count, dtype: int64\n"
     ]
    }
   ],
   "source": [
    "# dopo il taglio era diventato stringhe\n",
    "ds['estimated_owners'] = pd.to_numeric(ds['estimated_owners'], errors='coerce')\n",
    "\n",
    "intervalli = [0, 5000, 50000, 500000, float('inf')]\n",
    "etichette = ['insuccesso', 'basso_successo', 'medio_successo', 'alto_successo']\n",
    "\n",
    "ds['success_class'] = pd.cut(ds['estimated_owners'], bins=intervalli, labels=etichette, include_lowest=True)\n",
    "\n",
    "print(ds['success_class'].value_counts())"
   ]
  },
  {
   "cell_type": "markdown",
   "id": "70d7dae6",
   "metadata": {},
   "source": [
    "### Eseguo Undersampling\n",
    "* Dataset troppo sbilanciato meglio eseguire undersampling e portare tutte le classi di successo allo stesso valore della più piccola."
   ]
  },
  {
   "cell_type": "code",
   "execution_count": 70,
   "id": "76109e84",
   "metadata": {},
   "outputs": [
    {
     "name": "stdout",
     "output_type": "stream",
     "text": [
      "Distribuzione originale:\n",
      "success_class\n",
      "insuccesso        67288\n",
      "basso_successo    13274\n",
      "medio_successo     5441\n",
      "alto_successo       844\n",
      "Name: count, dtype: int64\n",
      "\n",
      "Distribuzione dopo undersampling:\n",
      "success_class\n",
      "insuccesso        844\n",
      "basso_successo    844\n",
      "medio_successo    844\n",
      "alto_successo     844\n",
      "Name: count, dtype: int64\n"
     ]
    }
   ],
   "source": [
    "from imblearn.under_sampling import RandomUnderSampler\n",
    "\n",
    "# X = tutte le colonne tranne la target\n",
    "X = ds.drop(columns=['success_class'])\n",
    "\n",
    "# y = la target\n",
    "y = ds['success_class']\n",
    "\n",
    "undersampler = RandomUnderSampler( sampling_strategy='auto', random_state=42)\n",
    "\n",
    "# Eseguo Undersampling\n",
    "X_resampled, y_resampled = undersampler.fit_resample(X, y)\n",
    "\n",
    "# Ricombino in un nuovo DataFrame\n",
    "ds = pd.concat([X_resampled, y_resampled], axis=1)\n",
    "\n",
    "# elimino colonna 'estimated_owners' non serve più - sostituita da 'success_class'\n",
    "ds.drop('estimated_owners', axis=1, inplace=True)\n",
    "\n",
    "print(\"Distribuzione originale:\")\n",
    "print(y.value_counts())\n",
    "\n",
    "print(\"\\nDistribuzione dopo undersampling:\")\n",
    "print(y_resampled.value_counts())\n"
   ]
  },
  {
   "cell_type": "markdown",
   "id": "0ac48550",
   "metadata": {},
   "source": [
    "### Elimino colonne che hanno troppe variabili nulle e che vanno a squilibrare il dataset\n",
    "* 'pct_pos_total', 'pct_pos_recent', 'num_reviews_total', 'num_reviews_recent', 'peak_ccu'\n",
    "    * hanno varibile nulla => 800"
   ]
  },
  {
   "cell_type": "code",
   "execution_count": 71,
   "id": "6a7a9782",
   "metadata": {},
   "outputs": [
    {
     "name": "stdout",
     "output_type": "stream",
     "text": [
      "num_reviews_recent\n",
      "-1       2154\n",
      " 10        25\n",
      " 11        23\n",
      " 12        23\n",
      " 13        23\n",
      "         ... \n",
      " 854        1\n",
      " 108        1\n",
      " 889        1\n",
      " 139        1\n",
      " 1101       1\n",
      "Name: count, Length: 577, dtype: int64\n"
     ]
    }
   ],
   "source": [
    "print(ds['num_reviews_recent'].value_counts())\n",
    "ds.drop(['pct_pos_total', 'pct_pos_recent', 'num_reviews_total', 'num_reviews_recent', 'peak_ccu'] , axis=1, inplace=True)\n",
    "\n",
    "ds.to_csv('DataSet/games1.csv', index=False)"
   ]
  },
  {
   "cell_type": "markdown",
   "id": "1ff263d9",
   "metadata": {},
   "source": [
    "# Lettura da games1.csv"
   ]
  },
  {
   "cell_type": "code",
   "execution_count": 9,
   "id": "92e84b38",
   "metadata": {},
   "outputs": [],
   "source": [
    "ds = pd.read_csv(\"DataSet/games1.csv\")\n",
    "#print(ds)"
   ]
  },
  {
   "cell_type": "markdown",
   "id": "2d9ce91f",
   "metadata": {},
   "source": [
    "# Encoding delle variabili\n",
    "* Ci sono colonne che contengono liste di variabili.\n",
    "    * Eseguo Encoding su 'genres' e 'categories'"
   ]
  },
  {
   "cell_type": "code",
   "execution_count": 10,
   "id": "451476df",
   "metadata": {},
   "outputs": [
    {
     "name": "stdout",
     "output_type": "stream",
     "text": [
      "[0 1 1 0 0 0 0 0 0 1 0 0 0 1 0 0 0 0 0 0 0 0 0 0 0 0 0]\n",
      "[0 0 0 0 0 0 0 0 0 0 0 0 0 1 0 1 0 1 0 1 0 1 0 0 0 0 1 0 0 0 0 0 0 0 0 0 0\n",
      " 0 0 0]\n"
     ]
    }
   ],
   "source": [
    "import ast\n",
    "import numpy as np\n",
    "from sklearn.preprocessing import MultiLabelBinarizer\n",
    "\n",
    "# Per 'genres'\n",
    "# Converto le stringhe in liste\n",
    "ds['genres'] = ds['genres'].apply(ast.literal_eval)\n",
    "\n",
    "# mlb classe contiene ordine dei generi\n",
    "mlb = MultiLabelBinarizer()\n",
    "genres_encoded = mlb.fit_transform(ds['genres'])\n",
    "\n",
    "# Salvo in una colonna come array\n",
    "ds['genres_vector'] = list(genres_encoded)\n",
    "\n",
    "# Per 'categories'\n",
    "ds['categories'] = ds['categories'].apply(ast.literal_eval)\n",
    "\n",
    "mlb_categories = MultiLabelBinarizer()\n",
    "categories_encoded = mlb_categories.fit_transform(ds['categories'])\n",
    "\n",
    "ds['categories_vector'] = list(categories_encoded)\n",
    "\n",
    "# esempio\n",
    "print(ds['genres_vector'].iloc[0])\n",
    "print(ds['categories_vector'].iloc[0])\n"
   ]
  },
  {
   "cell_type": "code",
   "execution_count": 12,
   "id": "e444df16",
   "metadata": {},
   "outputs": [],
   "source": [
    "ds.drop(['genres', 'categories'], axis=1, inplace=True)"
   ]
  },
  {
   "cell_type": "code",
   "execution_count": 13,
   "id": "e11c5e59",
   "metadata": {},
   "outputs": [],
   "source": [
    "ds.to_csv('DataSet/games1.csv', index=False)"
   ]
  }
 ],
 "metadata": {
  "kernelspec": {
   "display_name": "Python 3",
   "language": "python",
   "name": "python3"
  },
  "language_info": {
   "codemirror_mode": {
    "name": "ipython",
    "version": 3
   },
   "file_extension": ".py",
   "mimetype": "text/x-python",
   "name": "python",
   "nbconvert_exporter": "python",
   "pygments_lexer": "ipython3",
   "version": "3.12.0"
  }
 },
 "nbformat": 4,
 "nbformat_minor": 5
}
