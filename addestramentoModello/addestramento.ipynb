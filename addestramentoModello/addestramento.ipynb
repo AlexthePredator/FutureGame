{
 "cells": [
  {
   "cell_type": "code",
   "execution_count": null,
   "id": "cf80f6bb",
   "metadata": {},
   "outputs": [],
   "source": [
    "import pandas as pd"
   ]
  },
  {
   "cell_type": "code",
   "execution_count": null,
   "id": "a41b6814",
   "metadata": {},
   "outputs": [],
   "source": [
    "ds = pd.read_csv(\"DataSet/games2.csv\", index_col=0)"
   ]
  },
  {
   "cell_type": "code",
   "execution_count": null,
   "id": "9d3f2b75",
   "metadata": {},
   "outputs": [],
   "source": [
    "ds.to_csv('DataSet/games2.csv', index=False)"
   ]
  },
  {
   "cell_type": "code",
   "execution_count": null,
   "id": "6e51b412",
   "metadata": {},
   "outputs": [],
   "source": [
    "from sklearn.tree import DecisionTreeClassifier\n",
    "from sklearn.model_selection import train_test_split\n",
    "from sklearn.metrics import accuracy_score, precision_score\n",
    "\n",
    "# Separiamo i nostri dati in dati di training e dati di test\n",
    "# Specifichiamo la proporzione fra i due con test_size; in questo caso abbiamo impostato il training set al 90% e il test set al 10%\n",
    "X = ds.drop(columns=['success_class_vector'])  # tutte le colonne tranne il target\n",
    "y = ds['success_class_vector']  \n",
    "X_train, X_test, y_train, y_test = train_test_split( X, y, test_size=0.1, random_state=42)\n",
    "\n",
    "# Utilizziamo il training set per addestrare il modello\n",
    "model = DecisionTreeClassifier()\n",
    "model.fit(X_train, y_train)"
   ]
  }
 ],
 "metadata": {
  "kernelspec": {
   "display_name": "Python 3",
   "language": "python",
   "name": "python3"
  },
  "language_info": {
   "name": "python",
   "version": "3.12.0"
  }
 },
 "nbformat": 4,
 "nbformat_minor": 5
}
