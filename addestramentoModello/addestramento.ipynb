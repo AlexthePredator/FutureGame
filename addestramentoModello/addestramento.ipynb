{
 "cells": [
  {
   "cell_type": "markdown",
   "id": "c29b3e87",
   "metadata": {},
   "source": [
    "# Librerie\n",
    "caricamento librerie"
   ]
  },
  {
   "cell_type": "code",
   "execution_count": 61,
   "id": "c04bc75e",
   "metadata": {},
   "outputs": [],
   "source": [
    "import pandas as pd"
   ]
  },
  {
   "cell_type": "markdown",
   "id": "a7b0b3f3",
   "metadata": {},
   "source": [
    "### Carica DataSet\n",
    "games_march2025_cleaned"
   ]
  },
  {
   "cell_type": "code",
   "execution_count": 62,
   "id": "b5168750",
   "metadata": {},
   "outputs": [],
   "source": [
    "dataset = pd.read_csv(\"DataSet/games_march2025_cleaned.csv\")\n",
    "\n",
    "#dataset"
   ]
  },
  {
   "cell_type": "markdown",
   "id": "81b071e6",
   "metadata": {},
   "source": [
    "# Data Understanding"
   ]
  },
  {
   "cell_type": "code",
   "execution_count": null,
   "id": "9c813b25",
   "metadata": {},
   "outputs": [],
   "source": [
    "dataset.info()"
   ]
  },
  {
   "cell_type": "markdown",
   "id": "9adb9c47",
   "metadata": {},
   "source": [
    "score_rank troppi null \n",
    "metacritic_url non significativo\n",
    "\n"
   ]
  },
  {
   "cell_type": "code",
   "execution_count": null,
   "id": "eabfe770",
   "metadata": {},
   "outputs": [],
   "source": [
    "dataset.describe()\n",
    "#statistiche del dataset"
   ]
  },
  {
   "cell_type": "markdown",
   "id": "15f996b5",
   "metadata": {},
   "source": [
    "* Eliminiamo colonna 'appid', id interno al dataset di steam, non utile alla prediizione\n",
    "* Eliminiamo colonna della descrizione e raccomandazioni, sono testuali e non utili alla predizione.\n",
    "    * 'detailed_description' , 'about_the_game', 'short_description', 'reviews'\n",
    "* Eliminiamo url dell'immagine del gioco\n",
    "    * 'header_image'\n",
    "* Eliminiamo colonne testuali per supporto clienti e url vari\n",
    "    * 'website', 'support_url', 'support_email', 'metacritic_url', 'notes'\n",
    "* Eliminiamo colonne per trailer video e foto del gioco\n",
    "    * 'movies' , 'screenshots'\n",
    "* Elimino i punteggi che hanno troppi valori null\n",
    "    * 'user_score', 'score_rank'\n",
    "* Elimino le liste delle lingue supportate e dei pacchetti che non danno utilità\n",
    "    * 'supported_languages', 'full_audio_languages', 'packages'\n",
    "* Elimino numero di dlc e sconti che non danno informazioni o con molti valori nulli\n",
    "    * 'discount', 'dlc_count', 'tags'"
   ]
  },
  {
   "cell_type": "code",
   "execution_count": 63,
   "id": "bbe0cde5",
   "metadata": {},
   "outputs": [],
   "source": [
    "# drop elimina colonna, per eliminare più colonne contemporaneamente [ , ]\n",
    "dataset.drop('appid', axis=1, inplace=True)\n",
    "dataset.drop('name', axis=1, inplace=True)\n",
    "dataset.drop(['detailed_description','about_the_game', 'short_description', 'reviews', 'header_image'], axis=1, inplace=True)\n",
    "dataset.drop(['website', 'support_url', 'support_email', 'metacritic_url', 'notes'], axis=1, inplace=True)\n",
    "dataset.drop(['screenshots','movies'], axis=1, inplace=True)\n",
    "dataset.drop(['user_score', 'score_rank', 'metacritic_score'], axis=1, inplace=True)\n",
    "dataset.drop(['supported_languages', 'full_audio_languages', 'packages', 'tags'], axis=1, inplace=True)\n",
    "dataset.drop(['discount', 'dlc_count'], axis=1, inplace=True)"
   ]
  },
  {
   "cell_type": "code",
   "execution_count": null,
   "id": "bae5ea13",
   "metadata": {},
   "outputs": [],
   "source": [
    "#dataset.describe(include=['O'])\n",
    "dataset['user_score'].value_counts()\n",
    "dataset['metacritic_score'].value_counts()\n",
    "dataset['score_rank'].value_counts()\n",
    "dataset['positive'].value_counts()\n",
    "dataset.info()"
   ]
  },
  {
   "cell_type": "markdown",
   "id": "15ed7809",
   "metadata": {},
   "source": [
    "### Salvo su nuovo dataset da poter usare comodamente"
   ]
  },
  {
   "cell_type": "code",
   "execution_count": 64,
   "id": "4943de8e",
   "metadata": {},
   "outputs": [],
   "source": [
    "# salvo dataset modificato in uno nuovo per poter ripartire da lì\n",
    "dataset.to_csv('DataSet/games1.csv', index=False)\n"
   ]
  },
  {
   "cell_type": "markdown",
   "id": "88aab6c0",
   "metadata": {},
   "source": [
    "##### Salvo le modifiche in un nuovo dataset per poterlo utilizzare\n",
    "* Inizializzare da QUI"
   ]
  },
  {
   "cell_type": "code",
   "execution_count": 65,
   "id": "e2bf9cc3",
   "metadata": {},
   "outputs": [],
   "source": [
    "#NUOVO DATASET CON MODIFICHE\n",
    "\n",
    "ds = pd.read_csv(\"DataSet/games1.csv\")"
   ]
  },
  {
   "cell_type": "markdown",
   "id": "4b801b6d",
   "metadata": {},
   "source": [
    "* Creo nuova variabile che include differenza tra positivi e negativi\n",
    "    * elimino le due colonne di positivi e negativi"
   ]
  },
  {
   "cell_type": "code",
   "execution_count": 66,
   "id": "e62fe23b",
   "metadata": {},
   "outputs": [],
   "source": [
    "ds['absolute_score'] = ds['positive'] - ds['negative']\n",
    "\n",
    "ds.drop(['positive', 'negative'], axis=1, inplace=True)\n",
    "ds.to_csv('DataSet/games1.csv', index=False)\n"
   ]
  },
  {
   "cell_type": "markdown",
   "id": "4ec38423",
   "metadata": {},
   "source": [
    "### Taglio dataset sugli ultimi 10 anni:\n",
    "* taglio tutti i giochi usciti prima del 2015\n",
    "    * dataset arriva fino al 2025"
   ]
  },
  {
   "cell_type": "code",
   "execution_count": 67,
   "id": "b492b0e6",
   "metadata": {},
   "outputs": [
    {
     "name": "stdout",
     "output_type": "stream",
     "text": [
      "Righe rimanenti: 86847\n"
     ]
    }
   ],
   "source": [
    "ds['release_date'] = pd.to_datetime(ds['release_date'], format='%Y-%m-%d', errors='coerce')\n",
    "\n",
    "cutoff_date = pd.Timestamp('2015-01-01')\n",
    "\n",
    "# Filtriamo solo le righe dal 2015 in poi\n",
    "ds = ds[ds['release_date'] >= cutoff_date]\n",
    "\n",
    "print(f\"Righe rimanenti: {len(ds)}\")\n"
   ]
  },
  {
   "cell_type": "markdown",
   "id": "e7058b14",
   "metadata": {},
   "source": [
    "### Variabile Target num giocatori che hanno acquistato il gioco\n",
    "* per decretare successo del gioco"
   ]
  },
  {
   "cell_type": "code",
   "execution_count": 68,
   "id": "63f5c535",
   "metadata": {},
   "outputs": [
    {
     "data": {
      "text/plain": [
       "estimated_owners\n",
       "0            67288\n",
       "20000         9144\n",
       "50000         4130\n",
       "100000        2586\n",
       "200000        2022\n",
       "500000         833\n",
       "1000000        441\n",
       "2000000        263\n",
       "5000000         78\n",
       "10000000        34\n",
       "20000000        18\n",
       "50000000        10\n",
       "Name: count, dtype: int64"
      ]
     },
     "execution_count": 68,
     "metadata": {},
     "output_type": "execute_result"
    }
   ],
   "source": [
    "ds['estimated_owners'] = ds['estimated_owners'].apply(lambda x: x.split('-')[0])\n",
    "ds['estimated_owners'].value_counts()"
   ]
  },
  {
   "cell_type": "markdown",
   "id": "180ae5d7",
   "metadata": {},
   "source": [
    "### Raggruppamento\n",
    "* Faccio raggruppamento\n",
    "    * raggruppo per 4 valori quindi 4 intervalli"
   ]
  },
  {
   "cell_type": "code",
   "execution_count": 69,
   "id": "4d59ccf5",
   "metadata": {},
   "outputs": [
    {
     "name": "stdout",
     "output_type": "stream",
     "text": [
      "success_class\n",
      "insuccesso        67288\n",
      "basso_successo    13274\n",
      "medio_successo     5441\n",
      "alto_successo       844\n",
      "Name: count, dtype: int64\n"
     ]
    }
   ],
   "source": [
    "# dopo il taglio era diventato stringhe\n",
    "ds['estimated_owners'] = pd.to_numeric(ds['estimated_owners'], errors='coerce')\n",
    "\n",
    "intervalli = [0, 5000, 50000, 500000, float('inf')]\n",
    "etichette = ['insuccesso', 'basso_successo', 'medio_successo', 'alto_successo']\n",
    "\n",
    "ds['success_class'] = pd.cut(ds['estimated_owners'], bins=intervalli, labels=etichette, include_lowest=True)\n",
    "\n",
    "print(ds['success_class'].value_counts())"
   ]
  },
  {
   "cell_type": "markdown",
   "id": "70d7dae6",
   "metadata": {},
   "source": [
    "### Eseguo Undersampling\n",
    "* Dataset troppo sbilanciato meglio eseguire undersampling e portare tutte le classi di successo allo stesso valore della più piccola."
   ]
  },
  {
   "cell_type": "code",
   "execution_count": 70,
   "id": "76109e84",
   "metadata": {},
   "outputs": [
    {
     "name": "stdout",
     "output_type": "stream",
     "text": [
      "Distribuzione originale:\n",
      "success_class\n",
      "insuccesso        67288\n",
      "basso_successo    13274\n",
      "medio_successo     5441\n",
      "alto_successo       844\n",
      "Name: count, dtype: int64\n",
      "\n",
      "Distribuzione dopo undersampling:\n",
      "success_class\n",
      "insuccesso        844\n",
      "basso_successo    844\n",
      "medio_successo    844\n",
      "alto_successo     844\n",
      "Name: count, dtype: int64\n"
     ]
    }
   ],
   "source": [
    "from imblearn.under_sampling import RandomUnderSampler\n",
    "\n",
    "# X = tutte le colonne tranne la target\n",
    "X = ds.drop(columns=['success_class'])\n",
    "\n",
    "# y = la target\n",
    "y = ds['success_class']\n",
    "\n",
    "undersampler = RandomUnderSampler( sampling_strategy='auto', random_state=42)\n",
    "\n",
    "# Eseguo Undersampling\n",
    "X_resampled, y_resampled = undersampler.fit_resample(X, y)\n",
    "\n",
    "# Ricombino in un nuovo DataFrame\n",
    "ds = pd.concat([X_resampled, y_resampled], axis=1)\n",
    "\n",
    "# elimino colonna 'estimated_owners' non serve più - sostituita da 'success_class'\n",
    "ds.drop('estimated_owners', axis=1, inplace=True)\n",
    "\n",
    "print(\"Distribuzione originale:\")\n",
    "print(y.value_counts())\n",
    "\n",
    "print(\"\\nDistribuzione dopo undersampling:\")\n",
    "print(y_resampled.value_counts())\n"
   ]
  },
  {
   "cell_type": "markdown",
   "id": "0ac48550",
   "metadata": {},
   "source": [
    "### Elimino colonne che hanno troppe variabili nulle e che vanno a squilibrare il dataset\n",
    "* 'pct_pos_total', 'pct_pos_recent', 'num_reviews_total', 'num_reviews_recent', 'peak_ccu'\n",
    "    * hanno varibile nulla => 800"
   ]
  },
  {
   "cell_type": "code",
   "execution_count": 71,
   "id": "6a7a9782",
   "metadata": {},
   "outputs": [
    {
     "name": "stdout",
     "output_type": "stream",
     "text": [
      "num_reviews_recent\n",
      "-1       2154\n",
      " 10        25\n",
      " 11        23\n",
      " 12        23\n",
      " 13        23\n",
      "         ... \n",
      " 854        1\n",
      " 108        1\n",
      " 889        1\n",
      " 139        1\n",
      " 1101       1\n",
      "Name: count, Length: 577, dtype: int64\n"
     ]
    }
   ],
   "source": [
    "print(ds['num_reviews_recent'].value_counts())\n",
    "ds.drop(['pct_pos_total', 'pct_pos_recent', 'num_reviews_total', 'num_reviews_recent', 'peak_ccu'] , axis=1, inplace=True)\n",
    "\n",
    "ds.to_csv('DataSet/games1.csv', index=False)"
   ]
  },
  {
   "cell_type": "markdown",
   "id": "1ff263d9",
   "metadata": {},
   "source": [
    "# Lettura da games1.csv"
   ]
  },
  {
   "cell_type": "code",
   "execution_count": 72,
   "id": "92e84b38",
   "metadata": {},
   "outputs": [
    {
     "name": "stdout",
     "output_type": "stream",
     "text": [
      "      release_date  required_age  price  windows    mac  linux  achievements  \\\n",
      "1       2017-12-21             0   0.00     True  False  False            37   \n",
      "3       2015-04-13            17   0.00     True  False  False            77   \n",
      "4       2015-12-01            17   3.99     True  False  False             0   \n",
      "7       2018-02-08             0  39.99     True   True  False            92   \n",
      "9       2020-11-04             0   0.00     True  False  False            12   \n",
      "...            ...           ...    ...      ...    ...    ...           ...   \n",
      "13920   2018-06-19             0   0.00     True   True  False             0   \n",
      "1461    2023-02-16            13  69.99     True  False  False            48   \n",
      "2724    2022-09-06             0  39.99     True  False  False           212   \n",
      "2206    2018-05-23             0   0.59     True   True  False             8   \n",
      "2406    2022-10-13             0  59.99     True  False  False            29   \n",
      "\n",
      "       recommendations                      developers  \\\n",
      "1              1732007            ['PUBG Corporation']   \n",
      "3              1803063              ['Rockstar North']   \n",
      "4              1165929            ['Ubisoft Montreal']   \n",
      "7               992825           ['Facepunch Studios']   \n",
      "9                 1548                     ['Respawn']   \n",
      "...                ...                             ...   \n",
      "13920                0      ['Blackthorn Media, Inc.']   \n",
      "1461              9593  ['KOEI TECMO GAMES CO., LTD.']   \n",
      "2724              3813              ['Dovetail Games']   \n",
      "2206              5237                    ['AsicxArt']   \n",
      "2406              4557                  ['HB Studios']   \n",
      "\n",
      "                       publishers  \\\n",
      "1               ['KRAFTON, Inc.']   \n",
      "3              ['Rockstar Games']   \n",
      "4                     ['Ubisoft']   \n",
      "7           ['Facepunch Studios']   \n",
      "9             ['Electronic Arts']   \n",
      "...                           ...   \n",
      "13920  ['Blackthorn Media, Inc.']   \n",
      "1461          ['Electronic Arts']   \n",
      "2724     ['Dovetail Games - TSW']   \n",
      "2206               ['SakuraGame']   \n",
      "2406                       ['2K']   \n",
      "\n",
      "                                              categories  \\\n",
      "1      ['Multi-player', 'PvP', 'Online PvP', 'Stats',...   \n",
      "3      ['Single-player', 'Multi-player', 'PvP', 'Onli...   \n",
      "4      ['Single-player', 'Multi-player', 'PvP', 'Onli...   \n",
      "7      ['Multi-player', 'MMO', 'PvP', 'Online PvP', '...   \n",
      "9      ['Multi-player', 'PvP', 'Online PvP', 'Co-op',...   \n",
      "...                                                  ...   \n",
      "13920  ['Single-player', 'Tracked Controller Support'...   \n",
      "1461   ['Single-player', 'Multi-player', 'Co-op', 'Cr...   \n",
      "2724   ['Single-player', 'Steam Achievements', 'Parti...   \n",
      "2206   ['Single-player', 'Steam Achievements', 'Steam...   \n",
      "2406   ['Single-player', 'Multi-player', 'PvP', 'Onli...   \n",
      "\n",
      "                                                  genres  \\\n",
      "1      ['Action', 'Adventure', 'Massively Multiplayer...   \n",
      "3                                ['Action', 'Adventure']   \n",
      "4                                             ['Action']   \n",
      "7      ['Action', 'Adventure', 'Indie', 'Massively Mu...   \n",
      "9                ['Action', 'Adventure', 'Free To Play']   \n",
      "...                                                  ...   \n",
      "13920   ['Adventure', 'Casual', 'Free To Play', 'Indie']   \n",
      "1461                             ['Action', 'Adventure']   \n",
      "2724                                      ['Simulation']   \n",
      "2206             ['Adventure', 'Casual', 'Indie', 'RPG']   \n",
      "2406                     ['RPG', 'Simulation', 'Sports']   \n",
      "\n",
      "       average_playtime_forever  average_playtime_2weeks  \\\n",
      "1                             0                        0   \n",
      "3                         19323                      771   \n",
      "4                         14204                      682   \n",
      "7                         21195                      836   \n",
      "9                          9450                      548   \n",
      "...                         ...                      ...   \n",
      "13920                         0                        0   \n",
      "1461                       3156                        0   \n",
      "2724                          0                        0   \n",
      "2206                        148                        0   \n",
      "2406                       1189                        0   \n",
      "\n",
      "       median_playtime_forever  median_playtime_2weeks  absolute_score  \\\n",
      "1                            0                       0          463524   \n",
      "3                         7101                      74         1469938   \n",
      "4                         2434                     306          934317   \n",
      "7                         3675                     231          891436   \n",
      "9                          667                     211          337787   \n",
      "...                        ...                     ...             ...   \n",
      "13920                        0                       0             187   \n",
      "1461                      4067                       0            -724   \n",
      "2724                         0                       0            2521   \n",
      "2206                       170                       0            5314   \n",
      "2406                      1551                       0            2949   \n",
      "\n",
      "        success_class  \n",
      "1       alto_successo  \n",
      "3       alto_successo  \n",
      "4       alto_successo  \n",
      "7       alto_successo  \n",
      "9       alto_successo  \n",
      "...               ...  \n",
      "13920  medio_successo  \n",
      "1461   medio_successo  \n",
      "2724   medio_successo  \n",
      "2206   medio_successo  \n",
      "2406   medio_successo  \n",
      "\n",
      "[3376 rows x 18 columns]\n"
     ]
    }
   ],
   "source": [
    "# ds = pd.read_csv(\"DataSet/games1.csv\")\n",
    "print(ds)"
   ]
  },
  {
   "cell_type": "markdown",
   "id": "2d9ce91f",
   "metadata": {},
   "source": [
    "# Encoding delle variabili\n",
    "* Ci sono colonne che contengono liste di variabili.\n",
    "    * Eseguo Encoding su 'genres' e 'categories'"
   ]
  }
 ],
 "metadata": {
  "kernelspec": {
   "display_name": "Python 3",
   "language": "python",
   "name": "python3"
  },
  "language_info": {
   "codemirror_mode": {
    "name": "ipython",
    "version": 3
   },
   "file_extension": ".py",
   "mimetype": "text/x-python",
   "name": "python",
   "nbconvert_exporter": "python",
   "pygments_lexer": "ipython3",
   "version": "3.12.0"
  }
 },
 "nbformat": 4,
 "nbformat_minor": 5
}
