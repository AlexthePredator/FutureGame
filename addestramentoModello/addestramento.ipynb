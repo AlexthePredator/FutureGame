{
 "cells": [
  {
   "cell_type": "markdown",
   "id": "c29b3e87",
   "metadata": {},
   "source": [
    "# Librerie\n",
    "caricamento librerie"
   ]
  },
  {
   "cell_type": "code",
   "execution_count": 38,
   "id": "c04bc75e",
   "metadata": {},
   "outputs": [],
   "source": [
    "import pandas as pd"
   ]
  },
  {
   "cell_type": "markdown",
   "id": "a7b0b3f3",
   "metadata": {},
   "source": [
    "### Carica DataSet\n",
    "games_march2025_cleaned"
   ]
  },
  {
   "cell_type": "code",
   "execution_count": 39,
   "id": "b5168750",
   "metadata": {},
   "outputs": [],
   "source": [
    "dataset = pd.read_csv(\"DataSet/games_march2025_cleaned.csv\")\n",
    "\n",
    "#dataset"
   ]
  },
  {
   "cell_type": "markdown",
   "id": "81b071e6",
   "metadata": {},
   "source": [
    "# Data Understanding"
   ]
  },
  {
   "cell_type": "code",
   "execution_count": null,
   "id": "9c813b25",
   "metadata": {},
   "outputs": [],
   "source": [
    "dataset.info()"
   ]
  },
  {
   "cell_type": "markdown",
   "id": "9adb9c47",
   "metadata": {},
   "source": [
    "score_rank troppi null \n",
    "metacritic_url non significativo\n",
    "\n"
   ]
  },
  {
   "cell_type": "code",
   "execution_count": null,
   "id": "eabfe770",
   "metadata": {},
   "outputs": [],
   "source": [
    "dataset.describe()\n",
    "#statistiche del dataset"
   ]
  },
  {
   "cell_type": "markdown",
   "id": "15f996b5",
   "metadata": {},
   "source": [
    "* Eliminiamo colonna 'appid', id interno al dataset di steam, non utile alla prediizione\n",
    "* Eliminiamo colonna della descrizione e raccomandazioni, sono testuali e non utili alla predizione.\n",
    "    * 'detailed_description' , 'about_the_game', 'short_description', 'reviews'\n",
    "* Eliminiamo url dell'immagine del gioco\n",
    "    * 'header_image'\n",
    "* Eliminiamo colonne testuali per supporto clienti e url vari\n",
    "    * 'website', 'support_url', 'support_email', 'metacritic_url', 'notes'\n",
    "* Eliminiamo colonne per trailer video e foto del gioco\n",
    "    * 'movies' , 'screenshots'\n",
    "* Elimino i punteggi che hanno troppi valori null\n",
    "    * 'user_score', 'score_rank'"
   ]
  },
  {
   "cell_type": "code",
   "execution_count": 40,
   "id": "bbe0cde5",
   "metadata": {},
   "outputs": [],
   "source": [
    "# drop elimina colonna, per eliminare più colonne contemporaneamente [ , ]\n",
    "dataset.drop('appid', axis=1, inplace=True)\n",
    "dataset.drop(['detailed_description','about_the_game', 'short_description', 'reviews', 'header_image'], axis=1, inplace=True)\n",
    "dataset.drop(['website', 'support_url', 'support_email', 'metacritic_url', 'notes'], axis=1, inplace=True)\n",
    "dataset.drop(['screenshots','movies'], axis=1, inplace=True)\n",
    "dataset.drop(['user_score', 'score_rank'], axis=1, inplace=True)"
   ]
  },
  {
   "cell_type": "code",
   "execution_count": null,
   "id": "bae5ea13",
   "metadata": {},
   "outputs": [],
   "source": [
    "#dataset.describe(include=['O'])\n",
    "dataset['user_score'].value_counts()\n",
    "dataset['metacritic_score'].value_counts()\n",
    "dataset['score_rank'].value_counts()\n",
    "dataset['positive'].value_counts()\n",
    "dataset.info()"
   ]
  },
  {
   "cell_type": "code",
   "execution_count": 41,
   "id": "4943de8e",
   "metadata": {},
   "outputs": [],
   "source": [
    "# salvo dataset modificato in uno nuovo per poter ripartire da lì\n",
    "dataset.to_csv('DataSet/games1.csv', index=False)\n"
   ]
  },
  {
   "cell_type": "markdown",
   "id": "88aab6c0",
   "metadata": {},
   "source": [
    "##### Salvo le modifiche in un nuovo dataset per poterlo utilizzare\n",
    "* Inizializzare da QUI"
   ]
  },
  {
   "cell_type": "code",
   "execution_count": 42,
   "id": "e2bf9cc3",
   "metadata": {},
   "outputs": [],
   "source": [
    "#NUOVO DATASET CON MODIFICHE\n",
    "\n",
    "ds = pd.read_csv(\"DataSet/games1.csv\")"
   ]
  },
  {
   "cell_type": "markdown",
   "id": "4b801b6d",
   "metadata": {},
   "source": [
    "* Creo nuova variabile che include differenza tra positivi e negativi\n",
    "    * elimino le due colonne di positivi e negativi"
   ]
  },
  {
   "cell_type": "code",
   "execution_count": 43,
   "id": "e62fe23b",
   "metadata": {},
   "outputs": [],
   "source": [
    "ds['absolute_score'] = ds['positive'] - ds['negative']\n",
    "\n",
    "ds.drop(['positive', 'negative'], axis=1, inplace=True)\n",
    "ds.to_csv('DataSet/games1.csv', index=False)\n"
   ]
  },
  {
   "cell_type": "markdown",
   "id": "e7058b14",
   "metadata": {},
   "source": [
    "### Variabile Target num giocatori che hanno acquistato il gioco\n",
    "* per decretare successo del gioco"
   ]
  },
  {
   "cell_type": "code",
   "execution_count": 44,
   "id": "63f5c535",
   "metadata": {},
   "outputs": [
    {
     "data": {
      "text/plain": [
       "estimated_owners\n",
       "0             67738\n",
       "20000          9683\n",
       "50000          4552\n",
       "100000         3005\n",
       "200000         2469\n",
       "500000         1038\n",
       "1000000         574\n",
       "2000000         373\n",
       "5000000         108\n",
       "10000000         42\n",
       "20000000         24\n",
       "50000000         10\n",
       "200000000         1\n",
       "100000000         1\n",
       "Name: count, dtype: int64"
      ]
     },
     "execution_count": 44,
     "metadata": {},
     "output_type": "execute_result"
    }
   ],
   "source": [
    "ds['estimated_owners'] = ds['estimated_owners'].apply(lambda x: x.split('-')[0])\n",
    "ds['estimated_owners'].value_counts()"
   ]
  },
  {
   "cell_type": "markdown",
   "id": "180ae5d7",
   "metadata": {},
   "source": [
    "faccio undersampling e raggruppamento"
   ]
  },
  {
   "cell_type": "code",
   "execution_count": 47,
   "id": "4d59ccf5",
   "metadata": {},
   "outputs": [
    {
     "name": "stdout",
     "output_type": "stream",
     "text": [
      "   estimated_owners  success_class\n",
      "0         100000000  alto_successo\n",
      "1          50000000  alto_successo\n",
      "2         200000000  alto_successo\n",
      "3          50000000  alto_successo\n",
      "4          20000000  alto_successo\n",
      "success_class\n",
      "insuccesso        67738\n",
      "basso_successo    14235\n",
      "medio_successo     6512\n",
      "alto_successo      1133\n",
      "Name: count, dtype: int64\n"
     ]
    }
   ],
   "source": [
    "# dopo il taglio era diventato stringhe\n",
    "ds['estimated_owners'] = pd.to_numeric(ds['estimated_owners'], errors='coerce')\n",
    "\n",
    "intervalli = [0, 5000, 50000, 500000, float('inf')]\n",
    "etichette = ['insuccesso', 'basso_successo', 'medio_successo', 'alto_successo']\n",
    "\n",
    "ds['success_class'] = pd.cut(\n",
    "    ds['estimated_owners'],\n",
    "    bins=intervalli,\n",
    "    labels=etichette,\n",
    "    include_lowest=True\n",
    ")\n",
    "\n",
    "print(ds[['estimated_owners', 'success_class']].head())\n",
    "\n",
    "print(ds['success_class'].value_counts())\n"
   ]
  },
  {
   "cell_type": "code",
   "execution_count": 49,
   "id": "76109e84",
   "metadata": {},
   "outputs": [
    {
     "name": "stdout",
     "output_type": "stream",
     "text": [
      "Distribuzione originale:\n",
      "success_class\n",
      "insuccesso        67738\n",
      "basso_successo    14235\n",
      "medio_successo     6512\n",
      "alto_successo      1133\n",
      "Name: count, dtype: int64\n",
      "\n",
      "Distribuzione dopo undersampling:\n",
      "success_class\n",
      "insuccesso        1133\n",
      "basso_successo    1133\n",
      "medio_successo    1133\n",
      "alto_successo     1133\n",
      "Name: count, dtype: int64\n"
     ]
    }
   ],
   "source": [
    "from imblearn.under_sampling import RandomUnderSampler\n",
    "\n",
    "# X = tutte le colonne tranne la target\n",
    "X = ds.drop(columns=['success_class'])\n",
    "\n",
    "# y = la target\n",
    "y = ds['success_class']\n",
    "\n",
    "# bilancia tutte le classi alla più piccola\n",
    "undersampler = RandomUnderSampler( sampling_strategy='auto', random_state=42)\n",
    "\n",
    "# Applichiamo l'undersampling\n",
    "X_resampled, y_resampled = undersampler.fit_resample(X, y)\n",
    "\n",
    "# Ricombiniamo in un nuovo DataFrame\n",
    "ds = pd.concat([X_resampled, y_resampled], axis=1)\n",
    "\n",
    "print(\"Distribuzione originale:\")\n",
    "print(y.value_counts())\n",
    "\n",
    "print(\"\\nDistribuzione dopo undersampling:\")\n",
    "print(y_resampled.value_counts())\n"
   ]
  }
 ],
 "metadata": {
  "kernelspec": {
   "display_name": "Python 3",
   "language": "python",
   "name": "python3"
  },
  "language_info": {
   "codemirror_mode": {
    "name": "ipython",
    "version": 3
   },
   "file_extension": ".py",
   "mimetype": "text/x-python",
   "name": "python",
   "nbconvert_exporter": "python",
   "pygments_lexer": "ipython3",
   "version": "3.12.0"
  }
 },
 "nbformat": 4,
 "nbformat_minor": 5
}
