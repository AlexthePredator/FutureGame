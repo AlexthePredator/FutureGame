{
 "cells": [
  {
   "cell_type": "markdown",
   "id": "c29b3e87",
   "metadata": {},
   "source": [
    "# Librerie\n",
    "caricamento librerie"
   ]
  },
  {
   "cell_type": "code",
   "execution_count": 63,
   "id": "c04bc75e",
   "metadata": {},
   "outputs": [],
   "source": [
    "import pandas as pd"
   ]
  },
  {
   "cell_type": "markdown",
   "id": "a7b0b3f3",
   "metadata": {},
   "source": [
    "### Carica DataSet\n",
    "games_march2025_cleaned"
   ]
  },
  {
   "cell_type": "code",
   "execution_count": 64,
   "id": "b5168750",
   "metadata": {},
   "outputs": [],
   "source": [
    "dataset = pd.read_csv(\"DataSet/games_march2025_cleaned.csv\")\n",
    "\n",
    "#dataset"
   ]
  },
  {
   "cell_type": "markdown",
   "id": "81b071e6",
   "metadata": {},
   "source": [
    "# Data Understanding"
   ]
  },
  {
   "cell_type": "code",
   "execution_count": 78,
   "id": "9c813b25",
   "metadata": {},
   "outputs": [
    {
     "name": "stdout",
     "output_type": "stream",
     "text": [
      "<class 'pandas.core.frame.DataFrame'>\n",
      "RangeIndex: 89618 entries, 0 to 89617\n",
      "Data columns (total 12 columns):\n",
      " #   Column            Non-Null Count  Dtype  \n",
      "---  ------            --------------  -----  \n",
      " 0   release_date      89618 non-null  object \n",
      " 1   required_age      89618 non-null  int64  \n",
      " 2   price             89618 non-null  float64\n",
      " 3   windows           89618 non-null  bool   \n",
      " 4   mac               89618 non-null  bool   \n",
      " 5   linux             89618 non-null  bool   \n",
      " 6   achievements      89618 non-null  int64  \n",
      " 7   developers        89618 non-null  object \n",
      " 8   publishers        89618 non-null  object \n",
      " 9   categories        89618 non-null  object \n",
      " 10  genres            89618 non-null  object \n",
      " 11  estimated_owners  89618 non-null  object \n",
      "dtypes: bool(3), float64(1), int64(2), object(6)\n",
      "memory usage: 6.4+ MB\n"
     ]
    }
   ],
   "source": [
    "dataset.info()"
   ]
  },
  {
   "cell_type": "markdown",
   "id": "9adb9c47",
   "metadata": {},
   "source": [
    "score_rank troppi null \n",
    "metacritic_url non significativo\n",
    "\n"
   ]
  },
  {
   "cell_type": "code",
   "execution_count": 79,
   "id": "eabfe770",
   "metadata": {},
   "outputs": [
    {
     "data": {
      "text/html": [
       "<div>\n",
       "<style scoped>\n",
       "    .dataframe tbody tr th:only-of-type {\n",
       "        vertical-align: middle;\n",
       "    }\n",
       "\n",
       "    .dataframe tbody tr th {\n",
       "        vertical-align: top;\n",
       "    }\n",
       "\n",
       "    .dataframe thead th {\n",
       "        text-align: right;\n",
       "    }\n",
       "</style>\n",
       "<table border=\"1\" class=\"dataframe\">\n",
       "  <thead>\n",
       "    <tr style=\"text-align: right;\">\n",
       "      <th></th>\n",
       "      <th>required_age</th>\n",
       "      <th>price</th>\n",
       "      <th>achievements</th>\n",
       "    </tr>\n",
       "  </thead>\n",
       "  <tbody>\n",
       "    <tr>\n",
       "      <th>count</th>\n",
       "      <td>89618.000000</td>\n",
       "      <td>89618.000000</td>\n",
       "      <td>89618.000000</td>\n",
       "    </tr>\n",
       "    <tr>\n",
       "      <th>mean</th>\n",
       "      <td>0.183624</td>\n",
       "      <td>7.309623</td>\n",
       "      <td>20.552333</td>\n",
       "    </tr>\n",
       "    <tr>\n",
       "      <th>std</th>\n",
       "      <td>1.725594</td>\n",
       "      <td>13.331073</td>\n",
       "      <td>163.562418</td>\n",
       "    </tr>\n",
       "    <tr>\n",
       "      <th>min</th>\n",
       "      <td>-1.000000</td>\n",
       "      <td>0.000000</td>\n",
       "      <td>0.000000</td>\n",
       "    </tr>\n",
       "    <tr>\n",
       "      <th>25%</th>\n",
       "      <td>0.000000</td>\n",
       "      <td>0.990000</td>\n",
       "      <td>0.000000</td>\n",
       "    </tr>\n",
       "    <tr>\n",
       "      <th>50%</th>\n",
       "      <td>0.000000</td>\n",
       "      <td>4.990000</td>\n",
       "      <td>5.000000</td>\n",
       "    </tr>\n",
       "    <tr>\n",
       "      <th>75%</th>\n",
       "      <td>0.000000</td>\n",
       "      <td>9.990000</td>\n",
       "      <td>20.000000</td>\n",
       "    </tr>\n",
       "    <tr>\n",
       "      <th>max</th>\n",
       "      <td>21.000000</td>\n",
       "      <td>999.980000</td>\n",
       "      <td>9821.000000</td>\n",
       "    </tr>\n",
       "  </tbody>\n",
       "</table>\n",
       "</div>"
      ],
      "text/plain": [
       "       required_age         price  achievements\n",
       "count  89618.000000  89618.000000  89618.000000\n",
       "mean       0.183624      7.309623     20.552333\n",
       "std        1.725594     13.331073    163.562418\n",
       "min       -1.000000      0.000000      0.000000\n",
       "25%        0.000000      0.990000      0.000000\n",
       "50%        0.000000      4.990000      5.000000\n",
       "75%        0.000000      9.990000     20.000000\n",
       "max       21.000000    999.980000   9821.000000"
      ]
     },
     "execution_count": 79,
     "metadata": {},
     "output_type": "execute_result"
    }
   ],
   "source": [
    "dataset.describe()\n",
    "#statistiche del dataset"
   ]
  },
  {
   "cell_type": "code",
   "execution_count": 80,
   "id": "8ae46b4c",
   "metadata": {},
   "outputs": [
    {
     "ename": "KeyError",
     "evalue": "'user_score'",
     "output_type": "error",
     "traceback": [
      "\u001b[31m---------------------------------------------------------------------------\u001b[39m",
      "\u001b[31mKeyError\u001b[39m                                  Traceback (most recent call last)",
      "\u001b[36mFile \u001b[39m\u001b[32mc:\\Users\\Alex\\AppData\\Local\\Programs\\Python\\Python312\\Lib\\site-packages\\pandas\\core\\indexes\\base.py:3812\u001b[39m, in \u001b[36mIndex.get_loc\u001b[39m\u001b[34m(self, key)\u001b[39m\n\u001b[32m   3811\u001b[39m \u001b[38;5;28;01mtry\u001b[39;00m:\n\u001b[32m-> \u001b[39m\u001b[32m3812\u001b[39m     \u001b[38;5;28;01mreturn\u001b[39;00m \u001b[38;5;28;43mself\u001b[39;49m\u001b[43m.\u001b[49m\u001b[43m_engine\u001b[49m\u001b[43m.\u001b[49m\u001b[43mget_loc\u001b[49m\u001b[43m(\u001b[49m\u001b[43mcasted_key\u001b[49m\u001b[43m)\u001b[49m\n\u001b[32m   3813\u001b[39m \u001b[38;5;28;01mexcept\u001b[39;00m \u001b[38;5;167;01mKeyError\u001b[39;00m \u001b[38;5;28;01mas\u001b[39;00m err:\n",
      "\u001b[36mFile \u001b[39m\u001b[32mpandas/_libs/index.pyx:167\u001b[39m, in \u001b[36mpandas._libs.index.IndexEngine.get_loc\u001b[39m\u001b[34m()\u001b[39m\n",
      "\u001b[36mFile \u001b[39m\u001b[32mpandas/_libs/index.pyx:196\u001b[39m, in \u001b[36mpandas._libs.index.IndexEngine.get_loc\u001b[39m\u001b[34m()\u001b[39m\n",
      "\u001b[36mFile \u001b[39m\u001b[32mpandas/_libs/hashtable_class_helper.pxi:7088\u001b[39m, in \u001b[36mpandas._libs.hashtable.PyObjectHashTable.get_item\u001b[39m\u001b[34m()\u001b[39m\n",
      "\u001b[36mFile \u001b[39m\u001b[32mpandas/_libs/hashtable_class_helper.pxi:7096\u001b[39m, in \u001b[36mpandas._libs.hashtable.PyObjectHashTable.get_item\u001b[39m\u001b[34m()\u001b[39m\n",
      "\u001b[31mKeyError\u001b[39m: 'user_score'",
      "\nThe above exception was the direct cause of the following exception:\n",
      "\u001b[31mKeyError\u001b[39m                                  Traceback (most recent call last)",
      "\u001b[36mCell\u001b[39m\u001b[36m \u001b[39m\u001b[32mIn[80]\u001b[39m\u001b[32m, line 2\u001b[39m\n\u001b[32m      1\u001b[39m \u001b[38;5;66;03m#dataset.describe(include=['O'])\u001b[39;00m\n\u001b[32m----> \u001b[39m\u001b[32m2\u001b[39m \u001b[43mdataset\u001b[49m\u001b[43m[\u001b[49m\u001b[33;43m'\u001b[39;49m\u001b[33;43muser_score\u001b[39;49m\u001b[33;43m'\u001b[39;49m\u001b[43m]\u001b[49m.value_counts()\n\u001b[32m      3\u001b[39m dataset[\u001b[33m'\u001b[39m\u001b[33mmetacritic_score\u001b[39m\u001b[33m'\u001b[39m].value_counts()\n\u001b[32m      4\u001b[39m dataset[\u001b[33m'\u001b[39m\u001b[33mscore_rank\u001b[39m\u001b[33m'\u001b[39m].value_counts()\n",
      "\u001b[36mFile \u001b[39m\u001b[32mc:\\Users\\Alex\\AppData\\Local\\Programs\\Python\\Python312\\Lib\\site-packages\\pandas\\core\\frame.py:4107\u001b[39m, in \u001b[36mDataFrame.__getitem__\u001b[39m\u001b[34m(self, key)\u001b[39m\n\u001b[32m   4105\u001b[39m \u001b[38;5;28;01mif\u001b[39;00m \u001b[38;5;28mself\u001b[39m.columns.nlevels > \u001b[32m1\u001b[39m:\n\u001b[32m   4106\u001b[39m     \u001b[38;5;28;01mreturn\u001b[39;00m \u001b[38;5;28mself\u001b[39m._getitem_multilevel(key)\n\u001b[32m-> \u001b[39m\u001b[32m4107\u001b[39m indexer = \u001b[38;5;28;43mself\u001b[39;49m\u001b[43m.\u001b[49m\u001b[43mcolumns\u001b[49m\u001b[43m.\u001b[49m\u001b[43mget_loc\u001b[49m\u001b[43m(\u001b[49m\u001b[43mkey\u001b[49m\u001b[43m)\u001b[49m\n\u001b[32m   4108\u001b[39m \u001b[38;5;28;01mif\u001b[39;00m is_integer(indexer):\n\u001b[32m   4109\u001b[39m     indexer = [indexer]\n",
      "\u001b[36mFile \u001b[39m\u001b[32mc:\\Users\\Alex\\AppData\\Local\\Programs\\Python\\Python312\\Lib\\site-packages\\pandas\\core\\indexes\\base.py:3819\u001b[39m, in \u001b[36mIndex.get_loc\u001b[39m\u001b[34m(self, key)\u001b[39m\n\u001b[32m   3814\u001b[39m     \u001b[38;5;28;01mif\u001b[39;00m \u001b[38;5;28misinstance\u001b[39m(casted_key, \u001b[38;5;28mslice\u001b[39m) \u001b[38;5;129;01mor\u001b[39;00m (\n\u001b[32m   3815\u001b[39m         \u001b[38;5;28misinstance\u001b[39m(casted_key, abc.Iterable)\n\u001b[32m   3816\u001b[39m         \u001b[38;5;129;01mand\u001b[39;00m \u001b[38;5;28many\u001b[39m(\u001b[38;5;28misinstance\u001b[39m(x, \u001b[38;5;28mslice\u001b[39m) \u001b[38;5;28;01mfor\u001b[39;00m x \u001b[38;5;129;01min\u001b[39;00m casted_key)\n\u001b[32m   3817\u001b[39m     ):\n\u001b[32m   3818\u001b[39m         \u001b[38;5;28;01mraise\u001b[39;00m InvalidIndexError(key)\n\u001b[32m-> \u001b[39m\u001b[32m3819\u001b[39m     \u001b[38;5;28;01mraise\u001b[39;00m \u001b[38;5;167;01mKeyError\u001b[39;00m(key) \u001b[38;5;28;01mfrom\u001b[39;00m\u001b[38;5;250m \u001b[39m\u001b[34;01merr\u001b[39;00m\n\u001b[32m   3820\u001b[39m \u001b[38;5;28;01mexcept\u001b[39;00m \u001b[38;5;167;01mTypeError\u001b[39;00m:\n\u001b[32m   3821\u001b[39m     \u001b[38;5;66;03m# If we have a listlike key, _check_indexing_error will raise\u001b[39;00m\n\u001b[32m   3822\u001b[39m     \u001b[38;5;66;03m#  InvalidIndexError. Otherwise we fall through and re-raise\u001b[39;00m\n\u001b[32m   3823\u001b[39m     \u001b[38;5;66;03m#  the TypeError.\u001b[39;00m\n\u001b[32m   3824\u001b[39m     \u001b[38;5;28mself\u001b[39m._check_indexing_error(key)\n",
      "\u001b[31mKeyError\u001b[39m: 'user_score'"
     ]
    }
   ],
   "source": [
    "#dataset.describe(include=['O'])\n",
    "dataset['user_score'].value_counts()\n",
    "dataset['metacritic_score'].value_counts()\n",
    "dataset['score_rank'].value_counts()\n",
    "dataset['positive'].value_counts()"
   ]
  },
  {
   "cell_type": "markdown",
   "id": "15f996b5",
   "metadata": {},
   "source": [
    "* Eliminiamo colonna 'appid', id interno al dataset di steam, non utile alla predizione\n",
    "* Eliminiamo colonna della descrizione e raccomandazioni, sono testuali e non utili alla predizione.\n",
    "    * 'detailed_description' , 'about_the_game', 'short_description', 'reviews'\n",
    "* Eliminiamo url dell'immagine del gioco\n",
    "    * 'header_image'\n",
    "* Eliminiamo colonne testuali per supporto clienti e url vari\n",
    "    * 'website', 'support_url', 'support_email', 'metacritic_url', 'notes'\n",
    "* Eliminiamo colonne per trailer video e foto del gioco\n",
    "    * 'movies' , 'screenshots'\n",
    "* Elimino i punteggi che hanno troppi valori null\n",
    "    * 'user_score', 'score_rank'\n",
    "* Elimino le liste delle lingue supportate e dei pacchetti che non danno utilità\n",
    "    * 'supported_languages', 'full_audio_languages', 'packages'\n",
    "* Elimino numero di dlc e sconti che non danno informazioni o con molti valori nulli\n",
    "    * 'discount', 'dlc_count', 'tags'\n",
    "* Elimino dall’input tutte le variabili post-lancio\n",
    "    * 'recommendations', 'average_playtime_forever', 'average_playtime_2weeks', 'median_playtime_2weeks', 'median_playtime_forever'\n",
    "    * 'positive', 'negative'\n",
    "    * 'peak_ccu', 'pct_pos_total', 'num_reviews_total', 'pct_pos_recent', 'num_reviews_recent\n",
    "        * hanno varibile nulla => 800"
   ]
  },
  {
   "cell_type": "code",
   "execution_count": null,
   "id": "bbe0cde5",
   "metadata": {},
   "outputs": [],
   "source": [
    "# drop elimina colonna, per eliminare più colonne contemporaneamente [ , ]\n",
    "dataset.drop('appid', axis=1, inplace=True)\n",
    "dataset.drop('name', axis=1, inplace=True)\n",
    "dataset.drop(['detailed_description','about_the_game', 'short_description', 'reviews', 'header_image'], axis=1, inplace=True)\n",
    "dataset.drop(['website', 'support_url', 'support_email', 'metacritic_url', 'notes'], axis=1, inplace=True)\n",
    "dataset.drop(['screenshots','movies'], axis=1, inplace=True)\n",
    "dataset.drop(['user_score', 'score_rank', 'metacritic_score'], axis=1, inplace=True)\n",
    "dataset.drop(['supported_languages', 'full_audio_languages', 'packages', 'tags'], axis=1, inplace=True)\n",
    "dataset.drop(['discount', 'dlc_count'], axis=1, inplace=True)\n",
    "dataset.drop(['recommendations', 'average_playtime_forever', 'average_playtime_2weeks'], axis=1, inplace=True)\n",
    "dataset.drop(['median_playtime_2weeks', 'median_playtime_forever'], axis=1, inplace=True)\n",
    "dataset.drop(['positive', 'negative'], axis=1, inplace=True)\n",
    "dataset.drop(['peak_ccu', 'pct_pos_total', 'num_reviews_total', 'pct_pos_recent', 'num_reviews_recent'], axis=1, inplace=True)"
   ]
  },
  {
   "cell_type": "markdown",
   "id": "15ed7809",
   "metadata": {},
   "source": [
    "### Salvo su nuovo dataset da poter usare comodamente"
   ]
  },
  {
   "cell_type": "code",
   "execution_count": 66,
   "id": "4943de8e",
   "metadata": {},
   "outputs": [],
   "source": [
    "# salvo dataset modificato in uno nuovo per poter ripartire da lì\n",
    "dataset.to_csv('DataSet/games1.csv', index=False)\n"
   ]
  },
  {
   "cell_type": "markdown",
   "id": "88aab6c0",
   "metadata": {},
   "source": [
    "# ds\n",
    "##### Salvo le modifiche in un nuovo dataset per poterlo utilizzare\n",
    "* Inizializzare da QUI"
   ]
  },
  {
   "cell_type": "code",
   "execution_count": 67,
   "id": "e2bf9cc3",
   "metadata": {},
   "outputs": [],
   "source": [
    "#NUOVO DATASET CON MODIFICHE\n",
    "\n",
    "ds = pd.read_csv(\"DataSet/games1.csv\")"
   ]
  },
  {
   "cell_type": "markdown",
   "id": "4ec38423",
   "metadata": {},
   "source": [
    "### Taglio dataset sugli ultimi 10 anni:\n",
    "* taglio tutti i giochi usciti prima del 2015\n",
    "    * dataset arriva fino al 2025"
   ]
  },
  {
   "cell_type": "code",
   "execution_count": 68,
   "id": "b492b0e6",
   "metadata": {},
   "outputs": [
    {
     "name": "stdout",
     "output_type": "stream",
     "text": [
      "Righe rimanenti: 86847\n"
     ]
    }
   ],
   "source": [
    "ds['release_date'] = pd.to_datetime(ds['release_date'], format='%Y-%m-%d', errors='coerce')\n",
    "\n",
    "cutoff_date = pd.Timestamp('2015-01-01')\n",
    "\n",
    "# Filtriamo solo le righe dal 2015 in poi\n",
    "ds = ds[ds['release_date'] >= cutoff_date]\n",
    "\n",
    "print(f\"Righe rimanenti: {len(ds)}\")\n"
   ]
  },
  {
   "cell_type": "markdown",
   "id": "e7058b14",
   "metadata": {},
   "source": [
    "## Variabile Target num giocatori che hanno acquistato il gioco\n",
    "* per decretare successo del gioco"
   ]
  },
  {
   "cell_type": "code",
   "execution_count": 69,
   "id": "63f5c535",
   "metadata": {},
   "outputs": [
    {
     "data": {
      "text/plain": [
       "estimated_owners\n",
       "0            67288\n",
       "20000         9144\n",
       "50000         4130\n",
       "100000        2586\n",
       "200000        2022\n",
       "500000         833\n",
       "1000000        441\n",
       "2000000        263\n",
       "5000000         78\n",
       "10000000        34\n",
       "20000000        18\n",
       "50000000        10\n",
       "Name: count, dtype: int64"
      ]
     },
     "execution_count": 69,
     "metadata": {},
     "output_type": "execute_result"
    }
   ],
   "source": [
    "ds['estimated_owners'] = ds['estimated_owners'].apply(lambda x: x.split('-')[0])\n",
    "ds['estimated_owners'].value_counts()"
   ]
  },
  {
   "cell_type": "markdown",
   "id": "180ae5d7",
   "metadata": {},
   "source": [
    "### Raggruppamento\n",
    "* Faccio raggruppamento\n",
    "    * raggruppo per 4 valori quindi 4 intervalli"
   ]
  },
  {
   "cell_type": "code",
   "execution_count": 70,
   "id": "4d59ccf5",
   "metadata": {},
   "outputs": [
    {
     "name": "stdout",
     "output_type": "stream",
     "text": [
      "success_class\n",
      "insuccesso        67288\n",
      "basso_successo    13274\n",
      "medio_successo     5441\n",
      "alto_successo       844\n",
      "Name: count, dtype: int64\n"
     ]
    }
   ],
   "source": [
    "# dopo il taglio era diventato stringhe\n",
    "ds['estimated_owners'] = pd.to_numeric(ds['estimated_owners'], errors='coerce')\n",
    "\n",
    "intervalli = [0, 5000, 50000, 500000, float('inf')]\n",
    "etichette = ['insuccesso', 'basso_successo', 'medio_successo', 'alto_successo']\n",
    "\n",
    "ds['success_class'] = pd.cut(ds['estimated_owners'], bins=intervalli, labels=etichette, include_lowest=True)\n",
    "\n",
    "# elimino colonna 'estimated_owners' non serve più - sostituita da 'success_class'\n",
    "ds.drop('estimated_owners', axis=1, inplace=True)\n",
    "\n",
    "print(ds['success_class'].value_counts())"
   ]
  },
  {
   "cell_type": "code",
   "execution_count": 71,
   "id": "9634d75d",
   "metadata": {},
   "outputs": [],
   "source": [
    "ds.to_csv('DataSet/games1.csv', index=False)"
   ]
  },
  {
   "cell_type": "markdown",
   "id": "70d7dae6",
   "metadata": {},
   "source": [
    "### Eseguo Undersampling\n",
    "* Dataset troppo sbilanciato meglio eseguire undersampling e portare tutte le classi di successo allo stesso valore della più piccola."
   ]
  },
  {
   "cell_type": "code",
   "execution_count": null,
   "id": "76109e84",
   "metadata": {},
   "outputs": [],
   "source": [
    "from imblearn.under_sampling import RandomUnderSampler\n",
    "\n",
    "# X = tutte le colonne tranne la target\n",
    "X = ds.drop(columns=['success_class'])\n",
    "\n",
    "# y = la target\n",
    "y = ds['success_class']\n",
    "\n",
    "undersampler = RandomUnderSampler( sampling_strategy='auto', random_state=42)\n",
    "\n",
    "# Eseguo Undersampling\n",
    "X_resampled, y_resampled = undersampler.fit_resample(X, y)\n",
    "\n",
    "# Ricombino in un nuovo DataFrame\n",
    "ds = pd.concat([X_resampled, y_resampled], axis=1)\n",
    "\n",
    "print(\"Distribuzione originale:\")\n",
    "print(y.value_counts())\n",
    "\n",
    "print(\"\\nDistribuzione dopo undersampling:\")\n",
    "print(y_resampled.value_counts())\n"
   ]
  },
  {
   "cell_type": "markdown",
   "id": "1ff263d9",
   "metadata": {},
   "source": [
    "# Lettura da games1.csv"
   ]
  },
  {
   "cell_type": "code",
   "execution_count": 72,
   "id": "92e84b38",
   "metadata": {},
   "outputs": [],
   "source": [
    "ds = pd.read_csv(\"DataSet/games1.csv\")\n",
    "#print(ds)"
   ]
  },
  {
   "cell_type": "markdown",
   "id": "5bf9998f",
   "metadata": {},
   "source": [
    "## Analisi Frequenze\n",
    "* Analizzo frequenze\n",
    "    * categorie generi publishers developers"
   ]
  },
  {
   "cell_type": "code",
   "execution_count": 73,
   "id": "d2ca6145",
   "metadata": {},
   "outputs": [
    {
     "name": "stdout",
     "output_type": "stream",
     "text": [
      "0        ['Action', 'Adventure', 'Massively Multiplayer...\n",
      "1                                  ['Action', 'Adventure']\n",
      "2                                               ['Action']\n",
      "3        ['Action', 'Adventure', 'Indie', 'Massively Mu...\n",
      "4                  ['Action', 'Adventure', 'Free To Play']\n",
      "                               ...                        \n",
      "86842                            ['Indie', 'Early Access']\n",
      "86843         ['Action', 'Adventure', 'Indie', 'Strategy']\n",
      "86844                            ['Indie', 'Early Access']\n",
      "86845       ['Adventure', 'RPG', 'Simulation', 'Strategy']\n",
      "86846                                  ['Action', 'Indie']\n",
      "Name: genres, Length: 86847, dtype: object\n"
     ]
    }
   ],
   "source": [
    "#print(dataset['genres'])\n",
    "print(ds['genres'])"
   ]
  },
  {
   "cell_type": "markdown",
   "id": "b954c9e2",
   "metadata": {},
   "source": [
    "## Analisi Generi\n",
    "* pulizia 'genres'"
   ]
  },
  {
   "cell_type": "code",
   "execution_count": null,
   "id": "e7956679",
   "metadata": {},
   "outputs": [],
   "source": [
    "import re\n",
    "import string\n",
    "import matplotlib.pyplot as plt\n",
    "from collections import Counter\n",
    "\n",
    "def rimuovi_spazi(match):\n",
    "    return match.group(0).replace(\" \", \"\")\n",
    "\n",
    "def clean_text(text):\n",
    "    # Rimuovi gli spazi extra\n",
    "    text = ' '.join(text.split())\n",
    "    # Rimuovi la punteggiatura\n",
    "    text = text.translate(str.maketrans('', '', string.punctuation))\n",
    "    # Rimuovi i numeri\n",
    "    text = re.sub(r'\\d+', '', text)\n",
    "    # Rimuovi i caratteri speciali e simboli\n",
    "    text = re.sub(r'[^a-zA-Z\\s]', '', text)\n",
    "    return text\n",
    "\n",
    "def tagDistribution(all_genres_list, top_n=35):\n",
    "    # Conta le ripetizioni di ogni tag\n",
    "    genres_counts = Counter(all_genres_list)\n",
    "\n",
    "    # Estrai i top N tag più comuni e i loro conteggi\n",
    "    top_genres = genres_counts.most_common(top_n)\n",
    "    other_count = sum(genres_counts.values()) - sum(count for genre, count in top_genres)\n",
    "\n",
    "    # Seleziona i tag e i conteggi per il grafico\n",
    "    genres = [genre for genre, count in top_genres] + ['Altro']\n",
    "    counts = [count for tag, count in top_genres] + [other_count]\n",
    "\n",
    "    # Crea il grafico a barre della distribuzione dei Generi\n",
    "    plt.figure(figsize=(20, 15))\n",
    "    plt.bar(genres, counts, color='skyblue')\n",
    "    plt.xlabel('Generi')\n",
    "    plt.ylabel('Numero di occorrenze')\n",
    "    plt.title('Distribuzione dei Generi')\n",
    "    plt.xticks(rotation=45)  # Ruota le etichette sull'asse x per una migliore leggibilità\n",
    "    plt.show()\n",
    "\n",
    "def frequenze_osservate_genres(ds):\n",
    "    # Calcola le statistiche descrittive del genres\n",
    "    genres_stats = ds['genres'].describe()\n",
    "\n",
    "    # Stampa le statistiche descrittive del genres\n",
    "    print(\"Statistiche descrittive del genres:\")\n",
    "    print(genres_stats)\n",
    "\n",
    "print(ds['genres'])\n",
    "\n",
    "# Applica la rimozione degli spazi a ogni riga della colonna 'genres'\n",
    "ds['genres'] = ds['genres'].apply(lambda x: re.sub(r\"'([^']*)'\", rimuovi_spazi, x))\n",
    "# Pulisce il dataset dei genres\n",
    "ds['genres'] = ds['genres'].apply(clean_text)\n",
    "# Estrai tutti i genres in un'unica stringa\n",
    "all_genres_string = ds['genres'].str.cat(sep=' ')\n",
    "# Dividi la stringa in una lista di singoli genres\n",
    "all_genres_list = all_genres_string.split()\n",
    "\n",
    "# Rimuove i duplicati convertendo la lista in un set e poi di nuovo in una lista\n",
    "unique_genres = list(set(all_genres_list))\n",
    "unique_genres.sort()\n",
    "\n",
    "# Calcola la distribuzione dei Generi\n",
    "print(\"\\nDISTRIBUZIONE VARIABILI\")\n",
    "tagDistribution(all_genres_list)\n",
    "\n",
    "print(\"\\ngenres\")\n",
    "frequenze_osservate_genres(ds)\n",
    "\n",
    "print(ds['genres'])\n"
   ]
  },
  {
   "cell_type": "markdown",
   "id": "68b651ad",
   "metadata": {},
   "source": [
    "# Feature engineering\n",
    "## feature selection basata sulla frequenza globale dei generi\n",
    "* Calcola frequenze per ogni genere \n",
    "* Ordina generi per ogni riga in base alla frequenza\n",
    "    * sceglie i primi 2 generi più frequenti \n",
    "    * crea colonna 1 con genere più frequente e colonna 2 con il secondo genere più frequente"
   ]
  },
  {
   "cell_type": "code",
   "execution_count": 74,
   "id": "1faa098a",
   "metadata": {},
   "outputs": [
    {
     "name": "stdout",
     "output_type": "stream",
     "text": [
      "                                              genres  \\\n",
      "0  ['Action', 'Adventure', 'Massively Multiplayer...   \n",
      "1                            ['Action', 'Adventure']   \n",
      "2                                         ['Action']   \n",
      "3  ['Action', 'Adventure', 'Indie', 'Massively Mu...   \n",
      "4            ['Action', 'Adventure', 'Free To Play']   \n",
      "\n",
      "                                         genres_list genre_top1 genre_top2  \n",
      "0  [Action, Adventure, Massively Multiplayer, Fre...     Action  Adventure  \n",
      "1                                [Action, Adventure]     Action  Adventure  \n",
      "2                                           [Action]     Action        NaN  \n",
      "3  [Action, Adventure, Indie, Massively Multiplay...      Indie     Action  \n",
      "4                  [Action, Adventure, Free To Play]     Action  Adventure  \n",
      "      release_date  required_age  price  windows    mac  linux  achievements  \\\n",
      "0       2017-12-21             0   0.00     True  False  False            37   \n",
      "1       2015-04-13            17   0.00     True  False  False            77   \n",
      "2       2015-12-01            17   3.99     True  False  False             0   \n",
      "3       2018-02-08             0  39.99     True   True  False            92   \n",
      "4       2020-11-04             0   0.00     True  False  False            12   \n",
      "...            ...           ...    ...      ...    ...    ...           ...   \n",
      "86842   2024-02-29             0   3.99     True  False  False             6   \n",
      "86843   2020-01-07             0  10.00     True  False  False             0   \n",
      "86844   2019-10-10             0   1.99     True  False  False             0   \n",
      "86845   2025-01-25             0  29.99     True  False  False            34   \n",
      "86846   2018-03-01             0   9.99     True  False  False            12   \n",
      "\n",
      "                  developers                         publishers  \\\n",
      "0       ['PUBG Corporation']                  ['KRAFTON, Inc.']   \n",
      "1         ['Rockstar North']                 ['Rockstar Games']   \n",
      "2       ['Ubisoft Montreal']                        ['Ubisoft']   \n",
      "3      ['Facepunch Studios']              ['Facepunch Studios']   \n",
      "4                ['Respawn']                ['Electronic Arts']   \n",
      "...                      ...                                ...   \n",
      "86842            ['TheBean']                        ['TheBean']   \n",
      "86843      ['Pyramid Games']  ['Orion Asistan Hizmetleri A.S.']   \n",
      "86844         ['Prime2Gold']                     ['Prime2Gold']   \n",
      "86845              ['XuJie']                          ['XuJie']   \n",
      "86846  ['Prime Time Studio']              ['Prime Time Studio']   \n",
      "\n",
      "                                              categories  \\\n",
      "0      ['Multi-player', 'PvP', 'Online PvP', 'Stats',...   \n",
      "1      ['Single-player', 'Multi-player', 'PvP', 'Onli...   \n",
      "2      ['Single-player', 'Multi-player', 'PvP', 'Onli...   \n",
      "3      ['Multi-player', 'MMO', 'PvP', 'Online PvP', '...   \n",
      "4      ['Multi-player', 'PvP', 'Online PvP', 'Co-op',...   \n",
      "...                                                  ...   \n",
      "86842  ['Single-player', 'Steam Achievements', 'Stats...   \n",
      "86843                ['Single-player', 'Family Sharing']   \n",
      "86844                ['Single-player', 'Family Sharing']   \n",
      "86845  ['Single-player', 'Multi-player', 'PvP', 'Onli...   \n",
      "86846  ['Single-player', 'Multi-player', 'PvP', 'Onli...   \n",
      "\n",
      "                                                  genres  success_class  \\\n",
      "0      ['Action', 'Adventure', 'Massively Multiplayer...  alto_successo   \n",
      "1                                ['Action', 'Adventure']  alto_successo   \n",
      "2                                             ['Action']  alto_successo   \n",
      "3      ['Action', 'Adventure', 'Indie', 'Massively Mu...  alto_successo   \n",
      "4                ['Action', 'Adventure', 'Free To Play']  alto_successo   \n",
      "...                                                  ...            ...   \n",
      "86842                          ['Indie', 'Early Access']     insuccesso   \n",
      "86843       ['Action', 'Adventure', 'Indie', 'Strategy']     insuccesso   \n",
      "86844                          ['Indie', 'Early Access']     insuccesso   \n",
      "86845     ['Adventure', 'RPG', 'Simulation', 'Strategy']     insuccesso   \n",
      "86846                                ['Action', 'Indie']     insuccesso   \n",
      "\n",
      "                                             genres_list genre_top1  \\\n",
      "0      [Action, Adventure, Massively Multiplayer, Fre...     Action   \n",
      "1                                    [Action, Adventure]     Action   \n",
      "2                                               [Action]     Action   \n",
      "3      [Action, Adventure, Indie, Massively Multiplay...      Indie   \n",
      "4                      [Action, Adventure, Free To Play]     Action   \n",
      "...                                                  ...        ...   \n",
      "86842                              [Indie, Early Access]      Indie   \n",
      "86843               [Action, Adventure, Indie, Strategy]      Indie   \n",
      "86844                              [Indie, Early Access]      Indie   \n",
      "86845             [Adventure, RPG, Simulation, Strategy]  Adventure   \n",
      "86846                                    [Action, Indie]      Indie   \n",
      "\n",
      "         genre_top2  \n",
      "0         Adventure  \n",
      "1         Adventure  \n",
      "2               NaN  \n",
      "3            Action  \n",
      "4         Adventure  \n",
      "...             ...  \n",
      "86842  Early Access  \n",
      "86843        Action  \n",
      "86844  Early Access  \n",
      "86845    Simulation  \n",
      "86846        Action  \n",
      "\n",
      "[86847 rows x 15 columns]\n"
     ]
    }
   ],
   "source": [
    "import ast\n",
    "import numpy as np\n",
    "import pandas as pd\n",
    "from collections import Counter\n",
    "import itertools\n",
    "\n",
    "# Parser robusto: assicura che ogni cella diventi una LISTA di generi #preso da stack\n",
    "def parse_genres_cell(x):\n",
    "    if isinstance(x, list):\n",
    "        return [str(s).strip() for s in x if str(s).strip() != \"\"]\n",
    "    if pd.isna(x):\n",
    "        return []\n",
    "    if isinstance(x, str):\n",
    "        s = x.strip()\n",
    "        # stringa che rappresenta una lista Python\n",
    "        if s.startswith('[') and s.endswith(']'):\n",
    "            try:\n",
    "                v = ast.literal_eval(s)\n",
    "                if isinstance(v, list):\n",
    "                    return [str(t).strip() for t in v if str(t).strip() != \"\"]\n",
    "            except Exception:\n",
    "                pass\n",
    "        # fallback: separo per virgola oppure tengo il token singolo\n",
    "        if ',' in s:\n",
    "            parts = [p.strip().strip(\"'\").strip('\"') for p in s.split(',')]\n",
    "            return [p for p in parts if p]\n",
    "        return [s.strip(\"'\").strip('\"')]\n",
    "    # qualunque altro tipo sconosciuto\n",
    "    return []\n",
    "\n",
    "# Crea colonna genres ripulita\n",
    "ds['genres_list'] = ds['genres'].apply(parse_genres_cell)\n",
    "\n",
    "# Frequenze globali dei generi\n",
    "all_genres = list(itertools.chain.from_iterable(ds['genres_list']))\n",
    "freq = Counter(all_genres)\n",
    "\n",
    "# Per ogni riga: prendi i 2 generi con frequenza globale più alta\n",
    "# tie-break: mantieni l'ordine originale della riga\n",
    "def top_two_from_row(genres):\n",
    "    if not genres:\n",
    "        return pd.Series([np.nan, np.nan], index=['genre_top1','genre_top2'])\n",
    "    # rimuove eventuali duplicati mantenendo l'ordine della riga\n",
    "    uniq = list(dict.fromkeys(genres))\n",
    "    pos = {g: i for i, g in enumerate(uniq)}\n",
    "    # ordina per (frequenza globale, ordine nella riga)\n",
    "    ordered = sorted(uniq, key=lambda g: (-freq.get(g, 0), pos[g]))\n",
    "    if len(ordered) == 1:\n",
    "        return pd.Series([ordered[0], np.nan], index=['genre_top1','genre_top2'])\n",
    "    return pd.Series(ordered[:2], index=['genre_top1','genre_top2'])\n",
    "\n",
    "ds[['genre_top1','genre_top2']] = ds['genres_list'].apply(top_two_from_row)\n",
    "\n",
    "print(ds[['genres','genres_list','genre_top1','genre_top2']].head())\n",
    "print(ds)\n"
   ]
  },
  {
   "cell_type": "code",
   "execution_count": 76,
   "id": "5fd57c8e",
   "metadata": {},
   "outputs": [],
   "source": [
    "ds.drop(['genres', 'genres_list'], axis=1, inplace=True)"
   ]
  },
  {
   "cell_type": "code",
   "execution_count": 77,
   "id": "42d9bbe7",
   "metadata": {},
   "outputs": [],
   "source": [
    "ds.to_csv('DataSet/games1.csv', index=False)"
   ]
  },
  {
   "cell_type": "markdown",
   "id": "adeabda6",
   "metadata": {},
   "source": [
    "## feature selection di platform\n",
    "* unificare windows/mac/linux facendone la somma e salvando in un'unica variabile 'platform'"
   ]
  },
  {
   "cell_type": "code",
   "execution_count": 10,
   "id": "88703a90",
   "metadata": {},
   "outputs": [
    {
     "data": {
      "text/plain": [
       "platform_count\n",
       "1    67353\n",
       "2    10838\n",
       "3     8656\n",
       "Name: count, dtype: int64"
      ]
     },
     "execution_count": 10,
     "metadata": {},
     "output_type": "execute_result"
    }
   ],
   "source": [
    "ds['platform_count'] = ds[['windows', 'mac', 'linux']].sum(axis=1).astype(int)\n",
    "\n",
    "ds.drop(['windows', 'mac', 'linux'], axis=1, inplace=True)\n",
    "\n",
    "ds['platform_count'].value_counts()"
   ]
  },
  {
   "cell_type": "code",
   "execution_count": 6,
   "id": "36d81c87",
   "metadata": {},
   "outputs": [],
   "source": [
    "import pandas as pd\n",
    "ds = pd.read_csv(\"DataSet/games1.csv\")"
   ]
  },
  {
   "cell_type": "code",
   "execution_count": 11,
   "id": "fc689743",
   "metadata": {},
   "outputs": [],
   "source": [
    "ds.to_csv(\"DataSet/games1.csv\")"
   ]
  },
  {
   "cell_type": "markdown",
   "id": "2d9ce91f",
   "metadata": {},
   "source": [
    "# Encoding delle variabili\n",
    "* Ci sono colonne che contengono liste di variabili.\n",
    "    * Eseguo Encoding su 'genres' e 'categories'\n",
    "\n",
    "### Encoding di genres e categories"
   ]
  },
  {
   "cell_type": "code",
   "execution_count": null,
   "id": "451476df",
   "metadata": {},
   "outputs": [],
   "source": [
    "import ast\n",
    "import numpy as np\n",
    "from sklearn.preprocessing import MultiLabelBinarizer\n",
    "\n",
    "# Per 'genres'\n",
    "# Converto le stringhe in liste\n",
    "ds['genres'] = ds['genres'].apply(ast.literal_eval)\n",
    "\n",
    "# mlb classe contiene ordine dei generi\n",
    "mlb = MultiLabelBinarizer()\n",
    "genres_encoded = mlb.fit_transform(ds['genres'])\n",
    "\n",
    "# Salvo in una colonna come array\n",
    "ds['genres_vector'] = list(genres_encoded)\n",
    "\n",
    "# Per 'categories'\n",
    "ds['categories'] = ds['categories'].apply(ast.literal_eval)\n",
    "\n",
    "mlb_categories = MultiLabelBinarizer()\n",
    "categories_encoded = mlb_categories.fit_transform(ds['categories'])\n",
    "\n",
    "ds['categories_vector'] = list(categories_encoded)\n",
    "\n",
    "# esempio\n",
    "print(ds['genres_vector'].iloc[0])\n",
    "print(ds['categories_vector'].iloc[0])\n"
   ]
  },
  {
   "cell_type": "markdown",
   "id": "c72fc033",
   "metadata": {},
   "source": [
    "### Encoding di developers e publishers"
   ]
  },
  {
   "cell_type": "code",
   "execution_count": null,
   "id": "6d1f5f10",
   "metadata": {},
   "outputs": [],
   "source": [
    "import ast\n",
    "import numpy as np\n",
    "from sklearn.preprocessing import MultiLabelBinarizer\n",
    "\n",
    "ds['developers'] = ds['developers'].apply(ast.literal_eval)\n",
    "mlb_developers = MultiLabelBinarizer()\n",
    "developers_encoded = mlb_developers.fit_transform(ds['developers'])\n",
    "ds['developers_vector'] = list(developers_encoded)\n",
    "\n",
    "\n",
    "ds['publishers'] = ds['publishers'].apply(ast.literal_eval)\n",
    "mlb_publishers = MultiLabelBinarizer()\n",
    "publishers_encoded = mlb_publishers.fit_transform(ds['publishers'])\n",
    "ds['publishers_vector'] = list(publishers_encoded)\n",
    "\n",
    "# esempio\n",
    "print(mlb_developers.classes_)\n",
    "print(ds['developers_vector'].iloc[0])\n",
    "print(ds['publishers_vector'].iloc[0])"
   ]
  },
  {
   "cell_type": "code",
   "execution_count": null,
   "id": "e444df16",
   "metadata": {},
   "outputs": [],
   "source": [
    "ds.drop(['genres', 'categories'], axis=1, inplace=True)\n",
    "ds.drop(['developers', 'publishers'], axis=1, inplace=True)"
   ]
  },
  {
   "cell_type": "code",
   "execution_count": null,
   "id": "e11c5e59",
   "metadata": {},
   "outputs": [],
   "source": [
    "ds.to_csv('DataSet/games1.csv', index=False)"
   ]
  },
  {
   "cell_type": "markdown",
   "id": "f3e39487",
   "metadata": {},
   "source": [
    "Estrarre feature dalla data\n",
    "non serve tutta la data, ma il periodo dell'anno in cui è stato pubblicato. "
   ]
  },
  {
   "cell_type": "code",
   "execution_count": null,
   "id": "15c3f9e4",
   "metadata": {},
   "outputs": [],
   "source": [
    "from sklearn.preprocessing import MultiLabelBinarizer\n",
    "\n",
    "ds['release_date'] = pd.to_datetime(ds['release_date'])\n",
    "ds['month'] = ds['release_date'].dt.month\n",
    "\n",
    "# Mappo i mesi in 4 trimestri\n",
    "def trimestre(month):\n",
    "    if month in [12, 1, 2]:\n",
    "        return \"winter\"\n",
    "    elif month in [3, 4, 5]:\n",
    "        return \"spring\"\n",
    "    elif month in [6, 7, 8]:\n",
    "        return \"summer\"\n",
    "    else:\n",
    "        return \"autumn\"\n",
    "\n",
    "ds['trimester'] = ds['month'].apply(trimestre)\n",
    "\n",
    "mlb_trimester = MultiLabelBinarizer()\n",
    "trimester_encoded = mlb_trimester.fit_transform(ds['trimester'].apply(lambda x: [x])) # prendo le singole 4 possibili opzioni\n",
    "ds['trimester_vector'] = list(trimester_encoded)\n",
    "\n",
    "print(mlb_trimester.classes_)\n",
    "print(ds['trimester_vector'].iloc[0])"
   ]
  },
  {
   "cell_type": "code",
   "execution_count": null,
   "id": "0e8ecbdd",
   "metadata": {},
   "outputs": [],
   "source": [
    "ds.drop('trimester', axis=1, inplace=True)\n",
    "ds.drop('release_date', axis=1, inplace=True)"
   ]
  },
  {
   "cell_type": "code",
   "execution_count": null,
   "id": "d968faac",
   "metadata": {},
   "outputs": [],
   "source": [
    "from sklearn.preprocessing import MultiLabelBinarizer\n",
    "\n",
    "mlb_success_class = MultiLabelBinarizer()\n",
    "success_class_encoded = mlb_success_class.fit_transform(ds['success_class'].apply(lambda x: [x])) # prendo le singole 4 possibili opzioni\n",
    "ds['success_class_vector'] = list(success_class_encoded)\n",
    "\n",
    "print(mlb_success_class.classes_)\n",
    "print(ds['success_class'].iloc[0])\n",
    "print(ds['success_class_vector'].iloc[0])"
   ]
  },
  {
   "cell_type": "code",
   "execution_count": null,
   "id": "517888ba",
   "metadata": {},
   "outputs": [],
   "source": [
    "ds.drop('success_class', axis=1, inplace=True)"
   ]
  },
  {
   "cell_type": "code",
   "execution_count": null,
   "id": "0661a8bc",
   "metadata": {},
   "outputs": [],
   "source": [
    "from sklearn.feature_extraction import FeatureHasher\n",
    "\n",
    "def vector_to_dict(vec):\n",
    "    return {f\"f{i}\": int(x) for i, x in enumerate(vec) if x == 1}\n",
    "\n",
    "fh = FeatureHasher(n_features=1, input_type='dict')\n",
    "\n",
    "hashed_genres = fh.transform(ds['genres_vector'].apply(vector_to_dict))\n",
    "ds['genres_hash'] = hashed_genres.toarray().ravel()\n",
    "\n",
    "hashed_publishers = fh.transform(ds['publishers_vector'].apply(vector_to_dict))\n",
    "ds['publishers_vector'] = hashed_publishers.toarray().ravel()\n",
    "\n",
    "hashed_categories = fh.transform(ds['categories_vector'].apply(vector_to_dict))\n",
    "ds['categories_hash'] = hashed_categories.toarray().ravel()\n",
    "\n",
    "hashed_developers = fh.transform(ds['developers_vector'].apply(vector_to_dict))\n",
    "ds['developers_hash'] = hashed_developers.toarray().ravel()\n",
    "\n",
    "hashed_success_class = fh.transform(ds['success_class_vector'].apply(vector_to_dict))\n",
    "ds['success_class_hash'] = hashed_success_class.toarray().ravel()\n",
    "\n",
    "hashed_trimester = fh.transform(ds['trimester_vector'].apply(vector_to_dict))\n",
    "ds['trimester_hash'] = hashed_trimester.toarray().ravel()\n",
    "\n",
    "print(ds)"
   ]
  },
  {
   "cell_type": "markdown",
   "id": "44975126",
   "metadata": {},
   "source": [
    "# Matrice di Correlazione\n",
    "* per asciugare ciò che non è correlato"
   ]
  },
  {
   "cell_type": "code",
   "execution_count": null,
   "id": "b6739f7c",
   "metadata": {},
   "outputs": [],
   "source": []
  },
  {
   "cell_type": "code",
   "execution_count": null,
   "id": "fdfc7fc4",
   "metadata": {},
   "outputs": [],
   "source": [
    "from sklearn.tree import DecisionTreeClassifier\n",
    "from sklearn.model_selection import train_test_split\n",
    "from sklearn.metrics import accuracy_score, precision_score\n",
    "\n",
    "# Separiamo i nostri dati in dati di training e dati di test\n",
    "# Specifichiamo la proporzione fra i due con test_size; in questo caso abbiamo impostato il training set al 90% e il test set al 10%\n",
    "X = ds.drop(columns=['success_class_vector'])  # tutte le colonne tranne il target\n",
    "y = ds['success_class_vector']  \n",
    "X_train, X_test, y_train, y_test = train_test_split( X, y, test_size=0.1, random_state=42)\n",
    "\n",
    "# Utilizziamo il training set per addestrare il modello\n",
    "model = DecisionTreeClassifier()\n",
    "model.fit(X_train, y_train)"
   ]
  }
 ],
 "metadata": {
  "kernelspec": {
   "display_name": "Python 3",
   "language": "python",
   "name": "python3"
  },
  "language_info": {
   "codemirror_mode": {
    "name": "ipython",
    "version": 3
   },
   "file_extension": ".py",
   "mimetype": "text/x-python",
   "name": "python",
   "nbconvert_exporter": "python",
   "pygments_lexer": "ipython3",
   "version": "3.12.0"
  }
 },
 "nbformat": 4,
 "nbformat_minor": 5
}
