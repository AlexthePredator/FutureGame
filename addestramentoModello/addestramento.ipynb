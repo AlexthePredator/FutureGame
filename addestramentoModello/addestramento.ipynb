{
 "cells": [
  {
   "cell_type": "markdown",
   "id": "c29b3e87",
   "metadata": {},
   "source": [
    "# Librerie\n",
    "caricamento librerie"
   ]
  },
  {
   "cell_type": "code",
   "execution_count": 63,
   "id": "c04bc75e",
   "metadata": {},
   "outputs": [],
   "source": [
    "import pandas as pd"
   ]
  },
  {
   "cell_type": "markdown",
   "id": "a7b0b3f3",
   "metadata": {},
   "source": [
    "### Carica DataSet\n",
    "games_march2025_cleaned"
   ]
  },
  {
   "cell_type": "code",
   "execution_count": 64,
   "id": "b5168750",
   "metadata": {},
   "outputs": [],
   "source": [
    "dataset = pd.read_csv(\"DataSet/games_march2025_cleaned.csv\")\n",
    "\n",
    "#dataset"
   ]
  },
  {
   "cell_type": "markdown",
   "id": "81b071e6",
   "metadata": {},
   "source": [
    "# Data Understanding"
   ]
  },
  {
   "cell_type": "code",
   "execution_count": 65,
   "id": "9c813b25",
   "metadata": {},
   "outputs": [
    {
     "name": "stdout",
     "output_type": "stream",
     "text": [
      "<class 'pandas.core.frame.DataFrame'>\n",
      "RangeIndex: 89618 entries, 0 to 89617\n",
      "Data columns (total 47 columns):\n",
      " #   Column                    Non-Null Count  Dtype  \n",
      "---  ------                    --------------  -----  \n",
      " 0   appid                     89618 non-null  int64  \n",
      " 1   name                      89618 non-null  object \n",
      " 2   release_date              89618 non-null  object \n",
      " 3   required_age              89618 non-null  int64  \n",
      " 4   price                     89618 non-null  float64\n",
      " 5   dlc_count                 89618 non-null  int64  \n",
      " 6   detailed_description      89421 non-null  object \n",
      " 7   about_the_game            89398 non-null  object \n",
      " 8   short_description         89498 non-null  object \n",
      " 9   reviews                   10401 non-null  object \n",
      " 10  header_image              89618 non-null  object \n",
      " 11  website                   41114 non-null  object \n",
      " 12  support_url               44110 non-null  object \n",
      " 13  support_email             78798 non-null  object \n",
      " 14  windows                   89618 non-null  bool   \n",
      " 15  mac                       89618 non-null  bool   \n",
      " 16  linux                     89618 non-null  bool   \n",
      " 17  metacritic_score          89618 non-null  int64  \n",
      " 18  metacritic_url            3547 non-null   object \n",
      " 19  achievements              89618 non-null  int64  \n",
      " 20  recommendations           89618 non-null  int64  \n",
      " 21  notes                     16643 non-null  object \n",
      " 22  supported_languages       89618 non-null  object \n",
      " 23  full_audio_languages      89618 non-null  object \n",
      " 24  packages                  89618 non-null  object \n",
      " 25  developers                89618 non-null  object \n",
      " 26  publishers                89618 non-null  object \n",
      " 27  categories                89618 non-null  object \n",
      " 28  genres                    89618 non-null  object \n",
      " 29  screenshots               89618 non-null  object \n",
      " 30  movies                    89618 non-null  object \n",
      " 31  user_score                89618 non-null  int64  \n",
      " 32  score_rank                39 non-null     float64\n",
      " 33  positive                  89618 non-null  int64  \n",
      " 34  negative                  89618 non-null  int64  \n",
      " 35  estimated_owners          89618 non-null  object \n",
      " 36  average_playtime_forever  89618 non-null  int64  \n",
      " 37  average_playtime_2weeks   89618 non-null  int64  \n",
      " 38  median_playtime_forever   89618 non-null  int64  \n",
      " 39  median_playtime_2weeks    89618 non-null  int64  \n",
      " 40  discount                  89618 non-null  int64  \n",
      " 41  peak_ccu                  89618 non-null  int64  \n",
      " 42  tags                      89618 non-null  object \n",
      " 43  pct_pos_total             89618 non-null  int64  \n",
      " 44  num_reviews_total         89618 non-null  int64  \n",
      " 45  pct_pos_recent            89618 non-null  int64  \n",
      " 46  num_reviews_recent        89618 non-null  int64  \n",
      "dtypes: bool(3), float64(2), int64(19), object(23)\n",
      "memory usage: 30.3+ MB\n"
     ]
    }
   ],
   "source": [
    "dataset.info()"
   ]
  },
  {
   "cell_type": "markdown",
   "id": "9adb9c47",
   "metadata": {},
   "source": [
    "score_rank troppi null \n",
    "metacritic_url non significativo\n",
    "\n"
   ]
  },
  {
   "cell_type": "code",
   "execution_count": 66,
   "id": "eabfe770",
   "metadata": {},
   "outputs": [
    {
     "data": {
      "text/html": [
       "<div>\n",
       "<style scoped>\n",
       "    .dataframe tbody tr th:only-of-type {\n",
       "        vertical-align: middle;\n",
       "    }\n",
       "\n",
       "    .dataframe tbody tr th {\n",
       "        vertical-align: top;\n",
       "    }\n",
       "\n",
       "    .dataframe thead th {\n",
       "        text-align: right;\n",
       "    }\n",
       "</style>\n",
       "<table border=\"1\" class=\"dataframe\">\n",
       "  <thead>\n",
       "    <tr style=\"text-align: right;\">\n",
       "      <th></th>\n",
       "      <th>appid</th>\n",
       "      <th>required_age</th>\n",
       "      <th>price</th>\n",
       "      <th>dlc_count</th>\n",
       "      <th>metacritic_score</th>\n",
       "      <th>achievements</th>\n",
       "      <th>recommendations</th>\n",
       "      <th>user_score</th>\n",
       "      <th>score_rank</th>\n",
       "      <th>positive</th>\n",
       "      <th>...</th>\n",
       "      <th>average_playtime_forever</th>\n",
       "      <th>average_playtime_2weeks</th>\n",
       "      <th>median_playtime_forever</th>\n",
       "      <th>median_playtime_2weeks</th>\n",
       "      <th>discount</th>\n",
       "      <th>peak_ccu</th>\n",
       "      <th>pct_pos_total</th>\n",
       "      <th>num_reviews_total</th>\n",
       "      <th>pct_pos_recent</th>\n",
       "      <th>num_reviews_recent</th>\n",
       "    </tr>\n",
       "  </thead>\n",
       "  <tbody>\n",
       "    <tr>\n",
       "      <th>count</th>\n",
       "      <td>8.961800e+04</td>\n",
       "      <td>89618.000000</td>\n",
       "      <td>89618.000000</td>\n",
       "      <td>89618.000000</td>\n",
       "      <td>89618.000000</td>\n",
       "      <td>89618.000000</td>\n",
       "      <td>8.961800e+04</td>\n",
       "      <td>89618.000000</td>\n",
       "      <td>39.000000</td>\n",
       "      <td>8.961800e+04</td>\n",
       "      <td>...</td>\n",
       "      <td>8.961800e+04</td>\n",
       "      <td>89618.000000</td>\n",
       "      <td>8.961800e+04</td>\n",
       "      <td>89618.000000</td>\n",
       "      <td>89618.000000</td>\n",
       "      <td>8.961800e+04</td>\n",
       "      <td>89618.000000</td>\n",
       "      <td>8.961800e+04</td>\n",
       "      <td>89618.000000</td>\n",
       "      <td>89618.000000</td>\n",
       "    </tr>\n",
       "    <tr>\n",
       "      <th>mean</th>\n",
       "      <td>1.656904e+06</td>\n",
       "      <td>0.183624</td>\n",
       "      <td>7.309623</td>\n",
       "      <td>0.595583</td>\n",
       "      <td>2.903245</td>\n",
       "      <td>20.552333</td>\n",
       "      <td>1.009401e+03</td>\n",
       "      <td>0.032817</td>\n",
       "      <td>99.128205</td>\n",
       "      <td>1.269896e+03</td>\n",
       "      <td>...</td>\n",
       "      <td>1.149119e+02</td>\n",
       "      <td>5.032694</td>\n",
       "      <td>1.147559e+02</td>\n",
       "      <td>5.301814</td>\n",
       "      <td>4.558627</td>\n",
       "      <td>9.833994e+01</td>\n",
       "      <td>45.352418</td>\n",
       "      <td>1.315490e+03</td>\n",
       "      <td>5.231639</td>\n",
       "      <td>15.584581</td>\n",
       "    </tr>\n",
       "    <tr>\n",
       "      <th>std</th>\n",
       "      <td>9.168390e+05</td>\n",
       "      <td>1.725594</td>\n",
       "      <td>13.331073</td>\n",
       "      <td>15.351920</td>\n",
       "      <td>14.445358</td>\n",
       "      <td>163.562418</td>\n",
       "      <td>2.204815e+04</td>\n",
       "      <td>1.615149</td>\n",
       "      <td>0.695076</td>\n",
       "      <td>3.181441e+04</td>\n",
       "      <td>...</td>\n",
       "      <td>6.814748e+03</td>\n",
       "      <td>181.100334</td>\n",
       "      <td>8.806711e+03</td>\n",
       "      <td>189.591095</td>\n",
       "      <td>16.538036</td>\n",
       "      <td>5.717544e+03</td>\n",
       "      <td>40.685695</td>\n",
       "      <td>3.542370e+04</td>\n",
       "      <td>22.335358</td>\n",
       "      <td>444.277307</td>\n",
       "    </tr>\n",
       "    <tr>\n",
       "      <th>min</th>\n",
       "      <td>2.000000e+01</td>\n",
       "      <td>-1.000000</td>\n",
       "      <td>0.000000</td>\n",
       "      <td>0.000000</td>\n",
       "      <td>0.000000</td>\n",
       "      <td>0.000000</td>\n",
       "      <td>0.000000e+00</td>\n",
       "      <td>0.000000</td>\n",
       "      <td>98.000000</td>\n",
       "      <td>0.000000e+00</td>\n",
       "      <td>...</td>\n",
       "      <td>0.000000e+00</td>\n",
       "      <td>0.000000</td>\n",
       "      <td>0.000000e+00</td>\n",
       "      <td>0.000000</td>\n",
       "      <td>0.000000</td>\n",
       "      <td>0.000000e+00</td>\n",
       "      <td>-1.000000</td>\n",
       "      <td>-1.000000e+00</td>\n",
       "      <td>-1.000000</td>\n",
       "      <td>-1.000000</td>\n",
       "    </tr>\n",
       "    <tr>\n",
       "      <th>25%</th>\n",
       "      <td>8.550525e+05</td>\n",
       "      <td>0.000000</td>\n",
       "      <td>0.990000</td>\n",
       "      <td>0.000000</td>\n",
       "      <td>0.000000</td>\n",
       "      <td>0.000000</td>\n",
       "      <td>0.000000e+00</td>\n",
       "      <td>0.000000</td>\n",
       "      <td>99.000000</td>\n",
       "      <td>1.000000e+00</td>\n",
       "      <td>...</td>\n",
       "      <td>0.000000e+00</td>\n",
       "      <td>0.000000</td>\n",
       "      <td>0.000000e+00</td>\n",
       "      <td>0.000000</td>\n",
       "      <td>0.000000</td>\n",
       "      <td>0.000000e+00</td>\n",
       "      <td>-1.000000</td>\n",
       "      <td>-1.000000e+00</td>\n",
       "      <td>-1.000000</td>\n",
       "      <td>-1.000000</td>\n",
       "    </tr>\n",
       "    <tr>\n",
       "      <th>50%</th>\n",
       "      <td>1.524730e+06</td>\n",
       "      <td>0.000000</td>\n",
       "      <td>4.990000</td>\n",
       "      <td>0.000000</td>\n",
       "      <td>0.000000</td>\n",
       "      <td>5.000000</td>\n",
       "      <td>0.000000e+00</td>\n",
       "      <td>0.000000</td>\n",
       "      <td>99.000000</td>\n",
       "      <td>1.000000e+01</td>\n",
       "      <td>...</td>\n",
       "      <td>0.000000e+00</td>\n",
       "      <td>0.000000</td>\n",
       "      <td>0.000000e+00</td>\n",
       "      <td>0.000000</td>\n",
       "      <td>0.000000</td>\n",
       "      <td>0.000000e+00</td>\n",
       "      <td>60.000000</td>\n",
       "      <td>1.500000e+01</td>\n",
       "      <td>-1.000000</td>\n",
       "      <td>-1.000000</td>\n",
       "    </tr>\n",
       "    <tr>\n",
       "      <th>75%</th>\n",
       "      <td>2.430852e+06</td>\n",
       "      <td>0.000000</td>\n",
       "      <td>9.990000</td>\n",
       "      <td>0.000000</td>\n",
       "      <td>0.000000</td>\n",
       "      <td>20.000000</td>\n",
       "      <td>0.000000e+00</td>\n",
       "      <td>0.000000</td>\n",
       "      <td>100.000000</td>\n",
       "      <td>5.800000e+01</td>\n",
       "      <td>...</td>\n",
       "      <td>0.000000e+00</td>\n",
       "      <td>0.000000</td>\n",
       "      <td>0.000000e+00</td>\n",
       "      <td>0.000000</td>\n",
       "      <td>0.000000</td>\n",
       "      <td>0.000000e+00</td>\n",
       "      <td>84.000000</td>\n",
       "      <td>8.100000e+01</td>\n",
       "      <td>-1.000000</td>\n",
       "      <td>-1.000000</td>\n",
       "    </tr>\n",
       "    <tr>\n",
       "      <th>max</th>\n",
       "      <td>3.542350e+06</td>\n",
       "      <td>21.000000</td>\n",
       "      <td>999.980000</td>\n",
       "      <td>3427.000000</td>\n",
       "      <td>97.000000</td>\n",
       "      <td>9821.000000</td>\n",
       "      <td>4.401572e+06</td>\n",
       "      <td>100.000000</td>\n",
       "      <td>100.000000</td>\n",
       "      <td>7.480813e+06</td>\n",
       "      <td>...</td>\n",
       "      <td>1.462997e+06</td>\n",
       "      <td>18568.000000</td>\n",
       "      <td>1.462997e+06</td>\n",
       "      <td>18568.000000</td>\n",
       "      <td>100.000000</td>\n",
       "      <td>1.212356e+06</td>\n",
       "      <td>100.000000</td>\n",
       "      <td>8.632939e+06</td>\n",
       "      <td>100.000000</td>\n",
       "      <td>96473.000000</td>\n",
       "    </tr>\n",
       "  </tbody>\n",
       "</table>\n",
       "<p>8 rows × 21 columns</p>\n",
       "</div>"
      ],
      "text/plain": [
       "              appid  required_age         price     dlc_count  \\\n",
       "count  8.961800e+04  89618.000000  89618.000000  89618.000000   \n",
       "mean   1.656904e+06      0.183624      7.309623      0.595583   \n",
       "std    9.168390e+05      1.725594     13.331073     15.351920   \n",
       "min    2.000000e+01     -1.000000      0.000000      0.000000   \n",
       "25%    8.550525e+05      0.000000      0.990000      0.000000   \n",
       "50%    1.524730e+06      0.000000      4.990000      0.000000   \n",
       "75%    2.430852e+06      0.000000      9.990000      0.000000   \n",
       "max    3.542350e+06     21.000000    999.980000   3427.000000   \n",
       "\n",
       "       metacritic_score  achievements  recommendations    user_score  \\\n",
       "count      89618.000000  89618.000000     8.961800e+04  89618.000000   \n",
       "mean           2.903245     20.552333     1.009401e+03      0.032817   \n",
       "std           14.445358    163.562418     2.204815e+04      1.615149   \n",
       "min            0.000000      0.000000     0.000000e+00      0.000000   \n",
       "25%            0.000000      0.000000     0.000000e+00      0.000000   \n",
       "50%            0.000000      5.000000     0.000000e+00      0.000000   \n",
       "75%            0.000000     20.000000     0.000000e+00      0.000000   \n",
       "max           97.000000   9821.000000     4.401572e+06    100.000000   \n",
       "\n",
       "       score_rank      positive  ...  average_playtime_forever  \\\n",
       "count   39.000000  8.961800e+04  ...              8.961800e+04   \n",
       "mean    99.128205  1.269896e+03  ...              1.149119e+02   \n",
       "std      0.695076  3.181441e+04  ...              6.814748e+03   \n",
       "min     98.000000  0.000000e+00  ...              0.000000e+00   \n",
       "25%     99.000000  1.000000e+00  ...              0.000000e+00   \n",
       "50%     99.000000  1.000000e+01  ...              0.000000e+00   \n",
       "75%    100.000000  5.800000e+01  ...              0.000000e+00   \n",
       "max    100.000000  7.480813e+06  ...              1.462997e+06   \n",
       "\n",
       "       average_playtime_2weeks  median_playtime_forever  \\\n",
       "count             89618.000000             8.961800e+04   \n",
       "mean                  5.032694             1.147559e+02   \n",
       "std                 181.100334             8.806711e+03   \n",
       "min                   0.000000             0.000000e+00   \n",
       "25%                   0.000000             0.000000e+00   \n",
       "50%                   0.000000             0.000000e+00   \n",
       "75%                   0.000000             0.000000e+00   \n",
       "max               18568.000000             1.462997e+06   \n",
       "\n",
       "       median_playtime_2weeks      discount      peak_ccu  pct_pos_total  \\\n",
       "count            89618.000000  89618.000000  8.961800e+04   89618.000000   \n",
       "mean                 5.301814      4.558627  9.833994e+01      45.352418   \n",
       "std                189.591095     16.538036  5.717544e+03      40.685695   \n",
       "min                  0.000000      0.000000  0.000000e+00      -1.000000   \n",
       "25%                  0.000000      0.000000  0.000000e+00      -1.000000   \n",
       "50%                  0.000000      0.000000  0.000000e+00      60.000000   \n",
       "75%                  0.000000      0.000000  0.000000e+00      84.000000   \n",
       "max              18568.000000    100.000000  1.212356e+06     100.000000   \n",
       "\n",
       "       num_reviews_total  pct_pos_recent  num_reviews_recent  \n",
       "count       8.961800e+04    89618.000000        89618.000000  \n",
       "mean        1.315490e+03        5.231639           15.584581  \n",
       "std         3.542370e+04       22.335358          444.277307  \n",
       "min        -1.000000e+00       -1.000000           -1.000000  \n",
       "25%        -1.000000e+00       -1.000000           -1.000000  \n",
       "50%         1.500000e+01       -1.000000           -1.000000  \n",
       "75%         8.100000e+01       -1.000000           -1.000000  \n",
       "max         8.632939e+06      100.000000        96473.000000  \n",
       "\n",
       "[8 rows x 21 columns]"
      ]
     },
     "execution_count": 66,
     "metadata": {},
     "output_type": "execute_result"
    }
   ],
   "source": [
    "dataset.describe()\n",
    "#statistiche del dataset"
   ]
  },
  {
   "cell_type": "code",
   "execution_count": null,
   "id": "8ae46b4c",
   "metadata": {},
   "outputs": [
    {
     "name": "stdout",
     "output_type": "stream",
     "text": [
      "<class 'pandas.core.frame.DataFrame'>\n",
      "RangeIndex: 89618 entries, 0 to 89617\n",
      "Data columns (total 47 columns):\n",
      " #   Column                    Non-Null Count  Dtype  \n",
      "---  ------                    --------------  -----  \n",
      " 0   appid                     89618 non-null  int64  \n",
      " 1   name                      89618 non-null  object \n",
      " 2   release_date              89618 non-null  object \n",
      " 3   required_age              89618 non-null  int64  \n",
      " 4   price                     89618 non-null  float64\n",
      " 5   dlc_count                 89618 non-null  int64  \n",
      " 6   detailed_description      89421 non-null  object \n",
      " 7   about_the_game            89398 non-null  object \n",
      " 8   short_description         89498 non-null  object \n",
      " 9   reviews                   10401 non-null  object \n",
      " 10  header_image              89618 non-null  object \n",
      " 11  website                   41114 non-null  object \n",
      " 12  support_url               44110 non-null  object \n",
      " 13  support_email             78798 non-null  object \n",
      " 14  windows                   89618 non-null  bool   \n",
      " 15  mac                       89618 non-null  bool   \n",
      " 16  linux                     89618 non-null  bool   \n",
      " 17  metacritic_score          89618 non-null  int64  \n",
      " 18  metacritic_url            3547 non-null   object \n",
      " 19  achievements              89618 non-null  int64  \n",
      " 20  recommendations           89618 non-null  int64  \n",
      " 21  notes                     16643 non-null  object \n",
      " 22  supported_languages       89618 non-null  object \n",
      " 23  full_audio_languages      89618 non-null  object \n",
      " 24  packages                  89618 non-null  object \n",
      " 25  developers                89618 non-null  object \n",
      " 26  publishers                89618 non-null  object \n",
      " 27  categories                89618 non-null  object \n",
      " 28  genres                    89618 non-null  object \n",
      " 29  screenshots               89618 non-null  object \n",
      " 30  movies                    89618 non-null  object \n",
      " 31  user_score                89618 non-null  int64  \n",
      " 32  score_rank                39 non-null     float64\n",
      " 33  positive                  89618 non-null  int64  \n",
      " 34  negative                  89618 non-null  int64  \n",
      " 35  estimated_owners          89618 non-null  object \n",
      " 36  average_playtime_forever  89618 non-null  int64  \n",
      " 37  average_playtime_2weeks   89618 non-null  int64  \n",
      " 38  median_playtime_forever   89618 non-null  int64  \n",
      " 39  median_playtime_2weeks    89618 non-null  int64  \n",
      " 40  discount                  89618 non-null  int64  \n",
      " 41  peak_ccu                  89618 non-null  int64  \n",
      " 42  tags                      89618 non-null  object \n",
      " 43  pct_pos_total             89618 non-null  int64  \n",
      " 44  num_reviews_total         89618 non-null  int64  \n",
      " 45  pct_pos_recent            89618 non-null  int64  \n",
      " 46  num_reviews_recent        89618 non-null  int64  \n",
      "dtypes: bool(3), float64(2), int64(19), object(23)\n",
      "memory usage: 30.3+ MB\n"
     ]
    }
   ],
   "source": [
    "#dataset.describe(include=['O'])\n",
    "dataset['user_score'].value_counts()\n",
    "dataset['metacritic_score'].value_counts()\n",
    "dataset['score_rank'].value_counts()\n",
    "dataset['positive'].value_counts()"
   ]
  },
  {
   "cell_type": "markdown",
   "id": "15f996b5",
   "metadata": {},
   "source": [
    "* Eliminiamo colonna 'appid', id interno al dataset di steam, non utile alla prediizione\n",
    "* Eliminiamo colonna della descrizione e raccomandazioni, sono testuali e non utili alla predizione.\n",
    "    * 'detailed_description' , 'about_the_game', 'short_description', 'reviews'\n",
    "* Eliminiamo url dell'immagine del gioco\n",
    "    * 'header_image'\n",
    "* Eliminiamo colonne testuali per supporto clienti e url vari\n",
    "    * 'website', 'support_url', 'support_email', 'metacritic_url', 'notes'\n",
    "* Eliminiamo colonne per trailer video e foto del gioco\n",
    "    * 'movies' , 'screenshots'\n",
    "* Elimino i punteggi che hanno troppi valori null\n",
    "    * 'user_score', 'score_rank'\n",
    "* Elimino le liste delle lingue supportate e dei pacchetti che non danno utilità\n",
    "    * 'supported_languages', 'full_audio_languages', 'packages'\n",
    "* Elimino numero di dlc e sconti che non danno informazioni o con molti valori nulli\n",
    "    * 'discount', 'dlc_count', 'tags'"
   ]
  },
  {
   "cell_type": "code",
   "execution_count": 68,
   "id": "bbe0cde5",
   "metadata": {},
   "outputs": [],
   "source": [
    "# drop elimina colonna, per eliminare più colonne contemporaneamente [ , ]\n",
    "dataset.drop('appid', axis=1, inplace=True)\n",
    "dataset.drop('name', axis=1, inplace=True)\n",
    "dataset.drop(['detailed_description','about_the_game', 'short_description', 'reviews', 'header_image'], axis=1, inplace=True)\n",
    "dataset.drop(['website', 'support_url', 'support_email', 'metacritic_url', 'notes'], axis=1, inplace=True)\n",
    "dataset.drop(['screenshots','movies'], axis=1, inplace=True)\n",
    "dataset.drop(['user_score', 'score_rank', 'metacritic_score'], axis=1, inplace=True)\n",
    "dataset.drop(['supported_languages', 'full_audio_languages', 'packages', 'tags'], axis=1, inplace=True)\n",
    "dataset.drop(['discount', 'dlc_count'], axis=1, inplace=True)"
   ]
  },
  {
   "cell_type": "markdown",
   "id": "15ed7809",
   "metadata": {},
   "source": [
    "### Salvo su nuovo dataset da poter usare comodamente"
   ]
  },
  {
   "cell_type": "code",
   "execution_count": 69,
   "id": "4943de8e",
   "metadata": {},
   "outputs": [],
   "source": [
    "# salvo dataset modificato in uno nuovo per poter ripartire da lì\n",
    "dataset.to_csv('DataSet/games1.csv', index=False)\n"
   ]
  },
  {
   "cell_type": "markdown",
   "id": "88aab6c0",
   "metadata": {},
   "source": [
    "# ds\n",
    "##### Salvo le modifiche in un nuovo dataset per poterlo utilizzare\n",
    "* Inizializzare da QUI"
   ]
  },
  {
   "cell_type": "code",
   "execution_count": 70,
   "id": "e2bf9cc3",
   "metadata": {},
   "outputs": [],
   "source": [
    "#NUOVO DATASET CON MODIFICHE\n",
    "\n",
    "ds = pd.read_csv(\"DataSet/games1.csv\")"
   ]
  },
  {
   "cell_type": "markdown",
   "id": "4b801b6d",
   "metadata": {},
   "source": [
    "* Creo nuova variabile che include differenza tra positivi e negativi\n",
    "    * elimino le due colonne di positivi e negativi"
   ]
  },
  {
   "cell_type": "code",
   "execution_count": 71,
   "id": "e62fe23b",
   "metadata": {},
   "outputs": [],
   "source": [
    "ds['absolute_score'] = ds['positive'] - ds['negative']\n",
    "\n",
    "ds.drop(['positive', 'negative'], axis=1, inplace=True)\n",
    "ds.to_csv('DataSet/games1.csv', index=False)\n"
   ]
  },
  {
   "cell_type": "markdown",
   "id": "4ec38423",
   "metadata": {},
   "source": [
    "### Taglio dataset sugli ultimi 10 anni:\n",
    "* taglio tutti i giochi usciti prima del 2015\n",
    "    * dataset arriva fino al 2025"
   ]
  },
  {
   "cell_type": "code",
   "execution_count": 72,
   "id": "b492b0e6",
   "metadata": {},
   "outputs": [
    {
     "name": "stdout",
     "output_type": "stream",
     "text": [
      "Righe rimanenti: 86847\n"
     ]
    }
   ],
   "source": [
    "ds['release_date'] = pd.to_datetime(ds['release_date'], format='%Y-%m-%d', errors='coerce')\n",
    "\n",
    "cutoff_date = pd.Timestamp('2015-01-01')\n",
    "\n",
    "# Filtriamo solo le righe dal 2015 in poi\n",
    "ds = ds[ds['release_date'] >= cutoff_date]\n",
    "\n",
    "print(f\"Righe rimanenti: {len(ds)}\")\n"
   ]
  },
  {
   "cell_type": "markdown",
   "id": "e7058b14",
   "metadata": {},
   "source": [
    "### Variabile Target num giocatori che hanno acquistato il gioco\n",
    "* per decretare successo del gioco"
   ]
  },
  {
   "cell_type": "code",
   "execution_count": 73,
   "id": "63f5c535",
   "metadata": {},
   "outputs": [
    {
     "data": {
      "text/plain": [
       "estimated_owners\n",
       "0            67288\n",
       "20000         9144\n",
       "50000         4130\n",
       "100000        2586\n",
       "200000        2022\n",
       "500000         833\n",
       "1000000        441\n",
       "2000000        263\n",
       "5000000         78\n",
       "10000000        34\n",
       "20000000        18\n",
       "50000000        10\n",
       "Name: count, dtype: int64"
      ]
     },
     "execution_count": 73,
     "metadata": {},
     "output_type": "execute_result"
    }
   ],
   "source": [
    "ds['estimated_owners'] = ds['estimated_owners'].apply(lambda x: x.split('-')[0])\n",
    "ds['estimated_owners'].value_counts()"
   ]
  },
  {
   "cell_type": "markdown",
   "id": "180ae5d7",
   "metadata": {},
   "source": [
    "### Raggruppamento\n",
    "* Faccio raggruppamento\n",
    "    * raggruppo per 4 valori quindi 4 intervalli"
   ]
  },
  {
   "cell_type": "code",
   "execution_count": 74,
   "id": "4d59ccf5",
   "metadata": {},
   "outputs": [
    {
     "name": "stdout",
     "output_type": "stream",
     "text": [
      "success_class\n",
      "insuccesso        67288\n",
      "basso_successo    13274\n",
      "medio_successo     5441\n",
      "alto_successo       844\n",
      "Name: count, dtype: int64\n"
     ]
    }
   ],
   "source": [
    "# dopo il taglio era diventato stringhe\n",
    "ds['estimated_owners'] = pd.to_numeric(ds['estimated_owners'], errors='coerce')\n",
    "\n",
    "intervalli = [0, 5000, 50000, 500000, float('inf')]\n",
    "etichette = ['insuccesso', 'basso_successo', 'medio_successo', 'alto_successo']\n",
    "\n",
    "ds['success_class'] = pd.cut(ds['estimated_owners'], bins=intervalli, labels=etichette, include_lowest=True)\n",
    "\n",
    "print(ds['success_class'].value_counts())"
   ]
  },
  {
   "cell_type": "markdown",
   "id": "70d7dae6",
   "metadata": {},
   "source": [
    "### Eseguo Undersampling\n",
    "* Dataset troppo sbilanciato meglio eseguire undersampling e portare tutte le classi di successo allo stesso valore della più piccola."
   ]
  },
  {
   "cell_type": "code",
   "execution_count": 75,
   "id": "76109e84",
   "metadata": {},
   "outputs": [
    {
     "name": "stdout",
     "output_type": "stream",
     "text": [
      "Distribuzione originale:\n",
      "success_class\n",
      "insuccesso        67288\n",
      "basso_successo    13274\n",
      "medio_successo     5441\n",
      "alto_successo       844\n",
      "Name: count, dtype: int64\n",
      "\n",
      "Distribuzione dopo undersampling:\n",
      "success_class\n",
      "insuccesso        844\n",
      "basso_successo    844\n",
      "medio_successo    844\n",
      "alto_successo     844\n",
      "Name: count, dtype: int64\n"
     ]
    }
   ],
   "source": [
    "from imblearn.under_sampling import RandomUnderSampler\n",
    "\n",
    "# X = tutte le colonne tranne la target\n",
    "X = ds.drop(columns=['success_class'])\n",
    "\n",
    "# y = la target\n",
    "y = ds['success_class']\n",
    "\n",
    "undersampler = RandomUnderSampler( sampling_strategy='auto', random_state=42)\n",
    "\n",
    "# Eseguo Undersampling\n",
    "X_resampled, y_resampled = undersampler.fit_resample(X, y)\n",
    "\n",
    "# Ricombino in un nuovo DataFrame\n",
    "ds = pd.concat([X_resampled, y_resampled], axis=1)\n",
    "\n",
    "# elimino colonna 'estimated_owners' non serve più - sostituita da 'success_class'\n",
    "ds.drop('estimated_owners', axis=1, inplace=True)\n",
    "\n",
    "print(\"Distribuzione originale:\")\n",
    "print(y.value_counts())\n",
    "\n",
    "print(\"\\nDistribuzione dopo undersampling:\")\n",
    "print(y_resampled.value_counts())\n"
   ]
  },
  {
   "cell_type": "markdown",
   "id": "0ac48550",
   "metadata": {},
   "source": [
    "### Elimino colonne che hanno troppe variabili nulle e che vanno a squilibrare il dataset\n",
    "* 'pct_pos_total', 'pct_pos_recent', 'num_reviews_total', 'num_reviews_recent', 'peak_ccu'\n",
    "    * hanno varibile nulla => 800"
   ]
  },
  {
   "cell_type": "code",
   "execution_count": 76,
   "id": "6a7a9782",
   "metadata": {},
   "outputs": [
    {
     "name": "stdout",
     "output_type": "stream",
     "text": [
      "num_reviews_recent\n",
      "-1       2154\n",
      " 10        25\n",
      " 11        23\n",
      " 12        23\n",
      " 13        23\n",
      "         ... \n",
      " 854        1\n",
      " 108        1\n",
      " 889        1\n",
      " 139        1\n",
      " 1101       1\n",
      "Name: count, Length: 577, dtype: int64\n"
     ]
    }
   ],
   "source": [
    "print(ds['num_reviews_recent'].value_counts())\n",
    "ds.drop(['pct_pos_total', 'pct_pos_recent', 'num_reviews_total', 'num_reviews_recent', 'peak_ccu'] , axis=1, inplace=True)\n",
    "\n",
    "ds.to_csv('DataSet/games1.csv', index=False)"
   ]
  },
  {
   "cell_type": "markdown",
   "id": "1ff263d9",
   "metadata": {},
   "source": [
    "# Lettura da games1.csv"
   ]
  },
  {
   "cell_type": "code",
   "execution_count": null,
   "id": "92e84b38",
   "metadata": {},
   "outputs": [],
   "source": [
    "ds = pd.read_csv(\"DataSet/games1.csv\")\n",
    "#print(ds)"
   ]
  },
  {
   "cell_type": "markdown",
   "id": "5bf9998f",
   "metadata": {},
   "source": [
    "## Analisi Frequenze\n",
    "* Analizzo frequenze\n",
    "    * categorie generi publishers developers"
   ]
  },
  {
   "cell_type": "code",
   "execution_count": 77,
   "id": "d2ca6145",
   "metadata": {},
   "outputs": [
    {
     "name": "stdout",
     "output_type": "stream",
     "text": [
      "1        ['Action', 'Adventure', 'Massively Multiplayer...\n",
      "3                                  ['Action', 'Adventure']\n",
      "4                                               ['Action']\n",
      "7        ['Action', 'Adventure', 'Indie', 'Massively Mu...\n",
      "9                  ['Action', 'Adventure', 'Free To Play']\n",
      "                               ...                        \n",
      "13920     ['Adventure', 'Casual', 'Free To Play', 'Indie']\n",
      "1461                               ['Action', 'Adventure']\n",
      "2724                                        ['Simulation']\n",
      "2206               ['Adventure', 'Casual', 'Indie', 'RPG']\n",
      "2406                       ['RPG', 'Simulation', 'Sports']\n",
      "Name: genres, Length: 3376, dtype: object\n"
     ]
    }
   ],
   "source": [
    "#print(dataset['genres'])\n",
    "print(ds['genres'])"
   ]
  },
  {
   "cell_type": "markdown",
   "id": "b954c9e2",
   "metadata": {},
   "source": [
    "## Analisi Generi\n",
    "* pulizia 'genres'"
   ]
  },
  {
   "cell_type": "code",
   "execution_count": 78,
   "id": "e7956679",
   "metadata": {},
   "outputs": [
    {
     "name": "stdout",
     "output_type": "stream",
     "text": [
      "1        ['Action', 'Adventure', 'Massively Multiplayer...\n",
      "3                                  ['Action', 'Adventure']\n",
      "4                                               ['Action']\n",
      "7        ['Action', 'Adventure', 'Indie', 'Massively Mu...\n",
      "9                  ['Action', 'Adventure', 'Free To Play']\n",
      "                               ...                        \n",
      "13920     ['Adventure', 'Casual', 'Free To Play', 'Indie']\n",
      "1461                               ['Action', 'Adventure']\n",
      "2724                                        ['Simulation']\n",
      "2206               ['Adventure', 'Casual', 'Indie', 'RPG']\n",
      "2406                       ['RPG', 'Simulation', 'Sports']\n",
      "Name: genres, Length: 3376, dtype: object\n",
      "\n",
      "DISTRIBUZIONE VARIABILI\n"
     ]
    },
    {
     "data": {
      "image/png": "[encoded data removed]",
      "text/plain": [
       "<Figure size 2000x1500 with 1 Axes>"
      ]
     },
     "metadata": {},
     "output_type": "display_data"
    },
    {
     "name": "stdout",
     "output_type": "stream",
     "text": [
      "\n",
      "genres\n",
      "Statistiche descrittive del genres:\n",
      "count             3376\n",
      "unique             566\n",
      "top       Action Indie\n",
      "freq               167\n",
      "Name: genres, dtype: object\n",
      "1        Action Adventure MassivelyMultiplayer FreeToPlay\n",
      "3                                        Action Adventure\n",
      "4                                                  Action\n",
      "7         Action Adventure Indie MassivelyMultiplayer RPG\n",
      "9                             Action Adventure FreeToPlay\n",
      "                               ...                       \n",
      "13920                   Adventure Casual FreeToPlay Indie\n",
      "1461                                     Action Adventure\n",
      "2724                                           Simulation\n",
      "2206                           Adventure Casual Indie RPG\n",
      "2406                                RPG Simulation Sports\n",
      "Name: genres, Length: 3376, dtype: object\n"
     ]
    }
   ],
   "source": [
    "import re\n",
    "import string\n",
    "import matplotlib.pyplot as plt\n",
    "from collections import Counter\n",
    "\n",
    "def rimuovi_spazi(match):\n",
    "    return match.group(0).replace(\" \", \"\")\n",
    "\n",
    "def clean_text(text):\n",
    "    # Rimuovi gli spazi extra\n",
    "    text = ' '.join(text.split())\n",
    "    # Rimuovi la punteggiatura\n",
    "    text = text.translate(str.maketrans('', '', string.punctuation))\n",
    "    # Rimuovi i numeri\n",
    "    text = re.sub(r'\\d+', '', text)\n",
    "    # Rimuovi i caratteri speciali e simboli\n",
    "    text = re.sub(r'[^a-zA-Z\\s]', '', text)\n",
    "    return text\n",
    "\n",
    "def tagDistribution(all_genres_list, top_n=35):\n",
    "    # Conta le ripetizioni di ogni tag\n",
    "    genres_counts = Counter(all_genres_list)\n",
    "\n",
    "    # Estrai i top N tag più comuni e i loro conteggi\n",
    "    top_genres = genres_counts.most_common(top_n)\n",
    "    other_count = sum(genres_counts.values()) - sum(count for genre, count in top_genres)\n",
    "\n",
    "    # Seleziona i tag e i conteggi per il grafico\n",
    "    genres = [genre for genre, count in top_genres] + ['Altro']\n",
    "    counts = [count for tag, count in top_genres] + [other_count]\n",
    "\n",
    "    # Crea il grafico a barre della distribuzione dei Generi\n",
    "    plt.figure(figsize=(20, 15))\n",
    "    plt.bar(genres, counts, color='skyblue')\n",
    "    plt.xlabel('Generi')\n",
    "    plt.ylabel('Numero di occorrenze')\n",
    "    plt.title('Distribuzione dei Generi')\n",
    "    plt.xticks(rotation=45)  # Ruota le etichette sull'asse x per una migliore leggibilità\n",
    "    plt.show()\n",
    "\n",
    "def frequenze_osservate_genres(ds):\n",
    "    # Calcola le statistiche descrittive del genres\n",
    "    genres_stats = ds['genres'].describe()\n",
    "\n",
    "    # Stampa le statistiche descrittive del genres\n",
    "    print(\"Statistiche descrittive del genres:\")\n",
    "    print(genres_stats)\n",
    "\n",
    "print(ds['genres'])\n",
    "\n",
    "# Applica la rimozione degli spazi a ogni riga della colonna 'genres'\n",
    "ds['genres'] = ds['genres'].apply(lambda x: re.sub(r\"'([^']*)'\", rimuovi_spazi, x))\n",
    "# Pulisce il dataset dei genres\n",
    "ds['genres'] = ds['genres'].apply(clean_text)\n",
    "# Estrai tutti i genres in un'unica stringa\n",
    "all_genres_string = ds['genres'].str.cat(sep=' ')\n",
    "# Dividi la stringa in una lista di singoli genres\n",
    "all_genres_list = all_genres_string.split()\n",
    "\n",
    "# Rimuovi i duplicati convertendo la lista in un set e poi di nuovo in una lista\n",
    "unique_genres = list(set(all_genres_list))\n",
    "unique_genres.sort()\n",
    "\n",
    "# Calcola la distribuzione dei Generi\n",
    "print(\"\\nDISTRIBUZIONE VARIABILI\")\n",
    "tagDistribution(all_genres_list)\n",
    "\n",
    "print(\"\\ngenres\")\n",
    "frequenze_osservate_genres(ds)\n",
    "\n",
    "print(ds['genres'])\n"
   ]
  },
  {
   "cell_type": "code",
   "execution_count": 79,
   "id": "6d1621be",
   "metadata": {},
   "outputs": [
    {
     "name": "stdout",
     "output_type": "stream",
     "text": [
      "1        Action Adventure MassivelyMultiplayer FreeToPlay\n",
      "3                                        Action Adventure\n",
      "4                                                  Action\n",
      "7         Action Adventure Indie MassivelyMultiplayer RPG\n",
      "9                             Action Adventure FreeToPlay\n",
      "                               ...                       \n",
      "13920                   Adventure Casual FreeToPlay Indie\n",
      "1461                                     Action Adventure\n",
      "2724                                           Simulation\n",
      "2206                           Adventure Casual Indie RPG\n",
      "2406                                RPG Simulation Sports\n",
      "Name: genres, Length: 3376, dtype: object\n"
     ]
    }
   ],
   "source": [
    "ds.to_csv('DataSet/games1.csv', index=False)\n",
    "print(ds['genres'])"
   ]
  },
  {
   "cell_type": "markdown",
   "id": "acb3f8fb",
   "metadata": {},
   "source": [
    "* Prendo per ogni riga solo due variabili dei generi 'genres', scegliendo le 2 più frequenti rispetto al dataset"
   ]
  },
  {
   "cell_type": "code",
   "execution_count": null,
   "id": "1faa098a",
   "metadata": {},
   "outputs": [],
   "source": []
  },
  {
   "cell_type": "markdown",
   "id": "2d9ce91f",
   "metadata": {},
   "source": [
    "# Encoding delle variabili\n",
    "* Ci sono colonne che contengono liste di variabili.\n",
    "    * Eseguo Encoding su 'genres' e 'categories'\n",
    "\n",
    "### Encoding di genres e categories"
   ]
  },
  {
   "cell_type": "code",
   "execution_count": 80,
   "id": "451476df",
   "metadata": {},
   "outputs": [
    {
     "ename": "SyntaxError",
     "evalue": "invalid syntax (<unknown>, line 1)",
     "output_type": "error",
     "traceback": [
      "Traceback \u001b[36m(most recent call last)\u001b[39m:\n",
      "  File \u001b[92m~\\AppData\\Roaming\\Python\\Python312\\site-packages\\IPython\\core\\interactiveshell.py:3699\u001b[39m in \u001b[95mrun_code\u001b[39m\n    exec(code_obj, self.user_global_ns, self.user_ns)\n",
      "  Cell \u001b[92mIn[80]\u001b[39m\u001b[92m, line 7\u001b[39m\n    ds['genres'] = ds['genres'].apply(ast.literal_eval)\n",
      "  File \u001b[92mc:\\Users\\Alex\\AppData\\Local\\Programs\\Python\\Python312\\Lib\\site-packages\\pandas\\core\\series.py:4935\u001b[39m in \u001b[95mapply\u001b[39m\n    ).apply()\n",
      "  File \u001b[92mc:\\Users\\Alex\\AppData\\Local\\Programs\\Python\\Python312\\Lib\\site-packages\\pandas\\core\\apply.py:1422\u001b[39m in \u001b[95mapply\u001b[39m\n    return self.apply_standard()\n",
      "  File \u001b[92mc:\\Users\\Alex\\AppData\\Local\\Programs\\Python\\Python312\\Lib\\site-packages\\pandas\\core\\apply.py:1502\u001b[39m in \u001b[95mapply_standard\u001b[39m\n    mapped = obj._map_values(\n",
      "  File \u001b[92mc:\\Users\\Alex\\AppData\\Local\\Programs\\Python\\Python312\\Lib\\site-packages\\pandas\\core\\base.py:925\u001b[39m in \u001b[95m_map_values\u001b[39m\n    return algorithms.map_array(arr, mapper, na_action=na_action, convert=convert)\n",
      "  File \u001b[92mc:\\Users\\Alex\\AppData\\Local\\Programs\\Python\\Python312\\Lib\\site-packages\\pandas\\core\\algorithms.py:1743\u001b[39m in \u001b[95mmap_array\u001b[39m\n    return lib.map_infer(values, mapper, convert=convert)\n",
      "  File \u001b[92mpandas/_libs/lib.pyx:2999\u001b[39m in \u001b[95mpandas._libs.lib.map_infer\u001b[39m\n",
      "  File \u001b[92mc:\\Users\\Alex\\AppData\\Local\\Programs\\Python\\Python312\\Lib\\ast.py:66\u001b[39m in \u001b[95mliteral_eval\u001b[39m\n    node_or_string = parse(node_or_string.lstrip(\" \\t\"), mode='eval')\n",
      "\u001b[36m  \u001b[39m\u001b[36mFile \u001b[39m\u001b[32mc:\\Users\\Alex\\AppData\\Local\\Programs\\Python\\Python312\\Lib\\ast.py:52\u001b[39m\u001b[36m in \u001b[39m\u001b[35mparse\u001b[39m\n\u001b[31m    \u001b[39m\u001b[31mreturn compile(source, filename, mode, flags,\u001b[39m\n",
      "  \u001b[36mFile \u001b[39m\u001b[32m<unknown>:1\u001b[39m\n\u001b[31m    \u001b[39m\u001b[31mAction Adventure MassivelyMultiplayer FreeToPlay\u001b[39m\n           ^\n\u001b[31mSyntaxError\u001b[39m\u001b[31m:\u001b[39m invalid syntax\n"
     ]
    }
   ],
   "source": [
    "import ast\n",
    "import numpy as np\n",
    "from sklearn.preprocessing import MultiLabelBinarizer\n",
    "\n",
    "# Per 'genres'\n",
    "# Converto le stringhe in liste\n",
    "ds['genres'] = ds['genres'].apply(ast.literal_eval)\n",
    "\n",
    "# mlb classe contiene ordine dei generi\n",
    "mlb = MultiLabelBinarizer()\n",
    "genres_encoded = mlb.fit_transform(ds['genres'])\n",
    "\n",
    "# Salvo in una colonna come array\n",
    "ds['genres_vector'] = list(genres_encoded)\n",
    "\n",
    "# Per 'categories'\n",
    "ds['categories'] = ds['categories'].apply(ast.literal_eval)\n",
    "\n",
    "mlb_categories = MultiLabelBinarizer()\n",
    "categories_encoded = mlb_categories.fit_transform(ds['categories'])\n",
    "\n",
    "ds['categories_vector'] = list(categories_encoded)\n",
    "\n",
    "# esempio\n",
    "print(ds['genres_vector'].iloc[0])\n",
    "print(ds['categories_vector'].iloc[0])\n"
   ]
  },
  {
   "cell_type": "markdown",
   "id": "c72fc033",
   "metadata": {},
   "source": [
    "### Encoding di developers e publishers"
   ]
  },
  {
   "cell_type": "code",
   "execution_count": null,
   "id": "6d1f5f10",
   "metadata": {},
   "outputs": [],
   "source": [
    "import ast\n",
    "import numpy as np\n",
    "from sklearn.preprocessing import MultiLabelBinarizer\n",
    "\n",
    "ds['developers'] = ds['developers'].apply(ast.literal_eval)\n",
    "mlb_developers = MultiLabelBinarizer()\n",
    "developers_encoded = mlb_developers.fit_transform(ds['developers'])\n",
    "ds['developers_vector'] = list(developers_encoded)\n",
    "\n",
    "\n",
    "ds['publishers'] = ds['publishers'].apply(ast.literal_eval)\n",
    "mlb_publishers = MultiLabelBinarizer()\n",
    "publishers_encoded = mlb_publishers.fit_transform(ds['publishers'])\n",
    "ds['publishers_vector'] = list(publishers_encoded)\n",
    "\n",
    "# esempio\n",
    "print(mlb_developers.classes_)\n",
    "print(ds['developers_vector'].iloc[0])\n",
    "print(ds['publishers_vector'].iloc[0])"
   ]
  },
  {
   "cell_type": "code",
   "execution_count": null,
   "id": "e444df16",
   "metadata": {},
   "outputs": [],
   "source": [
    "ds.drop(['genres', 'categories'], axis=1, inplace=True)\n",
    "ds.drop(['developers', 'publishers'], axis=1, inplace=True)"
   ]
  },
  {
   "cell_type": "code",
   "execution_count": null,
   "id": "e11c5e59",
   "metadata": {},
   "outputs": [],
   "source": [
    "ds.to_csv('DataSet/games1.csv', index=False)"
   ]
  },
  {
   "cell_type": "markdown",
   "id": "f3e39487",
   "metadata": {},
   "source": [
    "Estrarre feature dalla data\n",
    "non serve tutta la data, ma il periodo dell'anno in cui è stato pubblicato. "
   ]
  },
  {
   "cell_type": "code",
   "execution_count": null,
   "id": "15c3f9e4",
   "metadata": {},
   "outputs": [],
   "source": [
    "from sklearn.preprocessing import MultiLabelBinarizer\n",
    "\n",
    "ds['release_date'] = pd.to_datetime(ds['release_date'])\n",
    "ds['month'] = ds['release_date'].dt.month\n",
    "\n",
    "# Mappo i mesi in 4 trimestri\n",
    "def trimestre(month):\n",
    "    if month in [12, 1, 2]:\n",
    "        return \"winter\"\n",
    "    elif month in [3, 4, 5]:\n",
    "        return \"spring\"\n",
    "    elif month in [6, 7, 8]:\n",
    "        return \"summer\"\n",
    "    else:\n",
    "        return \"autumn\"\n",
    "\n",
    "ds['trimester'] = ds['month'].apply(trimestre)\n",
    "\n",
    "mlb_trimester = MultiLabelBinarizer()\n",
    "trimester_encoded = mlb_trimester.fit_transform(ds['trimester'].apply(lambda x: [x])) # prendo le singole 4 possibili opzioni\n",
    "ds['trimester_vector'] = list(trimester_encoded)\n",
    "\n",
    "print(mlb_trimester.classes_)\n",
    "print(ds['trimester_vector'].iloc[0])"
   ]
  },
  {
   "cell_type": "code",
   "execution_count": null,
   "id": "0e8ecbdd",
   "metadata": {},
   "outputs": [],
   "source": [
    "ds.drop('trimester', axis=1, inplace=True)\n",
    "ds.drop('release_date', axis=1, inplace=True)"
   ]
  },
  {
   "cell_type": "code",
   "execution_count": null,
   "id": "d968faac",
   "metadata": {},
   "outputs": [],
   "source": [
    "from sklearn.preprocessing import MultiLabelBinarizer\n",
    "\n",
    "mlb_success_class = MultiLabelBinarizer()\n",
    "success_class_encoded = mlb_success_class.fit_transform(ds['success_class'].apply(lambda x: [x])) # prendo le singole 4 possibili opzioni\n",
    "ds['success_class_vector'] = list(success_class_encoded)\n",
    "\n",
    "print(mlb_success_class.classes_)\n",
    "print(ds['success_class'].iloc[0])\n",
    "print(ds['success_class_vector'].iloc[0])"
   ]
  },
  {
   "cell_type": "code",
   "execution_count": null,
   "id": "517888ba",
   "metadata": {},
   "outputs": [],
   "source": [
    "ds.drop('success_class', axis=1, inplace=True)"
   ]
  },
  {
   "cell_type": "code",
   "execution_count": null,
   "id": "0661a8bc",
   "metadata": {},
   "outputs": [],
   "source": [
    "from sklearn.feature_extraction import FeatureHasher\n",
    "\n",
    "def vector_to_dict(vec):\n",
    "    return {f\"f{i}\": int(x) for i, x in enumerate(vec) if x == 1}\n",
    "\n",
    "fh = FeatureHasher(n_features=1, input_type='dict')\n",
    "\n",
    "hashed_genres = fh.transform(ds['genres_vector'].apply(vector_to_dict))\n",
    "ds['genres_hash'] = hashed_genres.toarray().ravel()\n",
    "\n",
    "hashed_publishers = fh.transform(ds['publishers_vector'].apply(vector_to_dict))\n",
    "ds['publishers_vector'] = hashed_publishers.toarray().ravel()\n",
    "\n",
    "hashed_categories = fh.transform(ds['categories_vector'].apply(vector_to_dict))\n",
    "ds['categories_hash'] = hashed_categories.toarray().ravel()\n",
    "\n",
    "hashed_developers = fh.transform(ds['developers_vector'].apply(vector_to_dict))\n",
    "ds['developers_hash'] = hashed_developers.toarray().ravel()\n",
    "\n",
    "hashed_success_class = fh.transform(ds['success_class_vector'].apply(vector_to_dict))\n",
    "ds['success_class_hash'] = hashed_success_class.toarray().ravel()\n",
    "\n",
    "hashed_trimester = fh.transform(ds['trimester_vector'].apply(vector_to_dict))\n",
    "ds['trimester_hash'] = hashed_trimester.toarray().ravel()\n",
    "\n",
    "print(ds)"
   ]
  },
  {
   "cell_type": "markdown",
   "id": "44975126",
   "metadata": {},
   "source": [
    "# Matrice di Correlazione\n",
    "* per asciugare ciò che non è correlato"
   ]
  },
  {
   "cell_type": "code",
   "execution_count": null,
   "id": "b6739f7c",
   "metadata": {},
   "outputs": [],
   "source": []
  },
  {
   "cell_type": "code",
   "execution_count": null,
   "id": "fdfc7fc4",
   "metadata": {},
   "outputs": [],
   "source": [
    "from sklearn.tree import DecisionTreeClassifier\n",
    "from sklearn.model_selection import train_test_split\n",
    "from sklearn.metrics import accuracy_score, precision_score\n",
    "\n",
    "# Separiamo i nostri dati in dati di training e dati di test\n",
    "# Specifichiamo la proporzione fra i due con test_size; in questo caso abbiamo impostato il training set al 90% e il test set al 10%\n",
    "X = ds.drop(columns=['success_class_vector'])  # tutte le colonne tranne il target\n",
    "y = ds['success_class_vector']  \n",
    "X_train, X_test, y_train, y_test = train_test_split( X, y, test_size=0.1, random_state=42)\n",
    "\n",
    "# Utilizziamo il training set per addestrare il modello\n",
    "model = DecisionTreeClassifier()\n",
    "model.fit(X_train, y_train)"
   ]
  }
 ],
 "metadata": {
  "kernelspec": {
   "display_name": "Python 3",
   "language": "python",
   "name": "python3"
  },
  "language_info": {
   "codemirror_mode": {
    "name": "ipython",
    "version": 3
   },
   "file_extension": ".py",
   "mimetype": "text/x-python",
   "name": "python",
   "nbconvert_exporter": "python",
   "pygments_lexer": "ipython3",
   "version": "3.12.0"
  }
 },
 "nbformat": 4,
 "nbformat_minor": 5
}
