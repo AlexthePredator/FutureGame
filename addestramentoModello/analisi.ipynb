{
 "cells": [
  {
   "cell_type": "markdown",
   "id": "c29b3e87",
   "metadata": {},
   "source": [
    "# Librerie\n",
    "caricamento librerie"
   ]
  },
  {
   "cell_type": "code",
   "execution_count": 87,
   "id": "c04bc75e",
   "metadata": {},
   "outputs": [],
   "source": [
    "import pandas as pd"
   ]
  },
  {
   "cell_type": "markdown",
   "id": "a7b0b3f3",
   "metadata": {},
   "source": [
    "### Carica DataSet\n",
    "games_march2025_cleaned"
   ]
  },
  {
   "cell_type": "code",
   "execution_count": 88,
   "id": "b5168750",
   "metadata": {},
   "outputs": [],
   "source": [
    "dataset = pd.read_csv(\"DataSet/games_march2025_cleaned.csv\")"
   ]
  },
  {
   "cell_type": "markdown",
   "id": "81b071e6",
   "metadata": {},
   "source": [
    "# Data Understanding"
   ]
  },
  {
   "cell_type": "code",
   "execution_count": 89,
   "id": "9c813b25",
   "metadata": {},
   "outputs": [
    {
     "name": "stdout",
     "output_type": "stream",
     "text": [
      "<class 'pandas.core.frame.DataFrame'>\n",
      "RangeIndex: 89618 entries, 0 to 89617\n",
      "Data columns (total 47 columns):\n",
      " #   Column                    Non-Null Count  Dtype  \n",
      "---  ------                    --------------  -----  \n",
      " 0   appid                     89618 non-null  int64  \n",
      " 1   name                      89618 non-null  object \n",
      " 2   release_date              89618 non-null  object \n",
      " 3   required_age              89618 non-null  int64  \n",
      " 4   price                     89618 non-null  float64\n",
      " 5   dlc_count                 89618 non-null  int64  \n",
      " 6   detailed_description      89421 non-null  object \n",
      " 7   about_the_game            89398 non-null  object \n",
      " 8   short_description         89498 non-null  object \n",
      " 9   reviews                   10401 non-null  object \n",
      " 10  header_image              89618 non-null  object \n",
      " 11  website                   41114 non-null  object \n",
      " 12  support_url               44110 non-null  object \n",
      " 13  support_email             78798 non-null  object \n",
      " 14  windows                   89618 non-null  bool   \n",
      " 15  mac                       89618 non-null  bool   \n",
      " 16  linux                     89618 non-null  bool   \n",
      " 17  metacritic_score          89618 non-null  int64  \n",
      " 18  metacritic_url            3547 non-null   object \n",
      " 19  achievements              89618 non-null  int64  \n",
      " 20  recommendations           89618 non-null  int64  \n",
      " 21  notes                     16643 non-null  object \n",
      " 22  supported_languages       89618 non-null  object \n",
      " 23  full_audio_languages      89618 non-null  object \n",
      " 24  packages                  89618 non-null  object \n",
      " 25  developers                89618 non-null  object \n",
      " 26  publishers                89618 non-null  object \n",
      " 27  categories                89618 non-null  object \n",
      " 28  genres                    89618 non-null  object \n",
      " 29  screenshots               89618 non-null  object \n",
      " 30  movies                    89618 non-null  object \n",
      " 31  user_score                89618 non-null  int64  \n",
      " 32  score_rank                39 non-null     float64\n",
      " 33  positive                  89618 non-null  int64  \n",
      " 34  negative                  89618 non-null  int64  \n",
      " 35  estimated_owners          89618 non-null  object \n",
      " 36  average_playtime_forever  89618 non-null  int64  \n",
      " 37  average_playtime_2weeks   89618 non-null  int64  \n",
      " 38  median_playtime_forever   89618 non-null  int64  \n",
      " 39  median_playtime_2weeks    89618 non-null  int64  \n",
      " 40  discount                  89618 non-null  int64  \n",
      " 41  peak_ccu                  89618 non-null  int64  \n",
      " 42  tags                      89618 non-null  object \n",
      " 43  pct_pos_total             89618 non-null  int64  \n",
      " 44  num_reviews_total         89618 non-null  int64  \n",
      " 45  pct_pos_recent            89618 non-null  int64  \n",
      " 46  num_reviews_recent        89618 non-null  int64  \n",
      "dtypes: bool(3), float64(2), int64(19), object(23)\n",
      "memory usage: 30.3+ MB\n"
     ]
    }
   ],
   "source": [
    "dataset.info()"
   ]
  },
  {
   "cell_type": "markdown",
   "id": "9adb9c47",
   "metadata": {},
   "source": [
    "score_rank troppi null \n",
    "metacritic_url non significativo\n",
    "\n"
   ]
  },
  {
   "cell_type": "code",
   "execution_count": 90,
   "id": "eabfe770",
   "metadata": {},
   "outputs": [
    {
     "data": {
      "text/html": [
       "<div>\n",
       "<style scoped>\n",
       "    .dataframe tbody tr th:only-of-type {\n",
       "        vertical-align: middle;\n",
       "    }\n",
       "\n",
       "    .dataframe tbody tr th {\n",
       "        vertical-align: top;\n",
       "    }\n",
       "\n",
       "    .dataframe thead th {\n",
       "        text-align: right;\n",
       "    }\n",
       "</style>\n",
       "<table border=\"1\" class=\"dataframe\">\n",
       "  <thead>\n",
       "    <tr style=\"text-align: right;\">\n",
       "      <th></th>\n",
       "      <th>appid</th>\n",
       "      <th>required_age</th>\n",
       "      <th>price</th>\n",
       "      <th>dlc_count</th>\n",
       "      <th>metacritic_score</th>\n",
       "      <th>achievements</th>\n",
       "      <th>recommendations</th>\n",
       "      <th>user_score</th>\n",
       "      <th>score_rank</th>\n",
       "      <th>positive</th>\n",
       "      <th>...</th>\n",
       "      <th>average_playtime_forever</th>\n",
       "      <th>average_playtime_2weeks</th>\n",
       "      <th>median_playtime_forever</th>\n",
       "      <th>median_playtime_2weeks</th>\n",
       "      <th>discount</th>\n",
       "      <th>peak_ccu</th>\n",
       "      <th>pct_pos_total</th>\n",
       "      <th>num_reviews_total</th>\n",
       "      <th>pct_pos_recent</th>\n",
       "      <th>num_reviews_recent</th>\n",
       "    </tr>\n",
       "  </thead>\n",
       "  <tbody>\n",
       "    <tr>\n",
       "      <th>count</th>\n",
       "      <td>8.961800e+04</td>\n",
       "      <td>89618.000000</td>\n",
       "      <td>89618.000000</td>\n",
       "      <td>89618.000000</td>\n",
       "      <td>89618.000000</td>\n",
       "      <td>89618.000000</td>\n",
       "      <td>8.961800e+04</td>\n",
       "      <td>89618.000000</td>\n",
       "      <td>39.000000</td>\n",
       "      <td>8.961800e+04</td>\n",
       "      <td>...</td>\n",
       "      <td>8.961800e+04</td>\n",
       "      <td>89618.000000</td>\n",
       "      <td>8.961800e+04</td>\n",
       "      <td>89618.000000</td>\n",
       "      <td>89618.000000</td>\n",
       "      <td>8.961800e+04</td>\n",
       "      <td>89618.000000</td>\n",
       "      <td>8.961800e+04</td>\n",
       "      <td>89618.000000</td>\n",
       "      <td>89618.000000</td>\n",
       "    </tr>\n",
       "    <tr>\n",
       "      <th>mean</th>\n",
       "      <td>1.656904e+06</td>\n",
       "      <td>0.183624</td>\n",
       "      <td>7.309623</td>\n",
       "      <td>0.595583</td>\n",
       "      <td>2.903245</td>\n",
       "      <td>20.552333</td>\n",
       "      <td>1.009401e+03</td>\n",
       "      <td>0.032817</td>\n",
       "      <td>99.128205</td>\n",
       "      <td>1.269896e+03</td>\n",
       "      <td>...</td>\n",
       "      <td>1.149119e+02</td>\n",
       "      <td>5.032694</td>\n",
       "      <td>1.147559e+02</td>\n",
       "      <td>5.301814</td>\n",
       "      <td>4.558627</td>\n",
       "      <td>9.833994e+01</td>\n",
       "      <td>45.352418</td>\n",
       "      <td>1.315490e+03</td>\n",
       "      <td>5.231639</td>\n",
       "      <td>15.584581</td>\n",
       "    </tr>\n",
       "    <tr>\n",
       "      <th>std</th>\n",
       "      <td>9.168390e+05</td>\n",
       "      <td>1.725594</td>\n",
       "      <td>13.331073</td>\n",
       "      <td>15.351920</td>\n",
       "      <td>14.445358</td>\n",
       "      <td>163.562418</td>\n",
       "      <td>2.204815e+04</td>\n",
       "      <td>1.615149</td>\n",
       "      <td>0.695076</td>\n",
       "      <td>3.181441e+04</td>\n",
       "      <td>...</td>\n",
       "      <td>6.814748e+03</td>\n",
       "      <td>181.100334</td>\n",
       "      <td>8.806711e+03</td>\n",
       "      <td>189.591095</td>\n",
       "      <td>16.538036</td>\n",
       "      <td>5.717544e+03</td>\n",
       "      <td>40.685695</td>\n",
       "      <td>3.542370e+04</td>\n",
       "      <td>22.335358</td>\n",
       "      <td>444.277307</td>\n",
       "    </tr>\n",
       "    <tr>\n",
       "      <th>min</th>\n",
       "      <td>2.000000e+01</td>\n",
       "      <td>-1.000000</td>\n",
       "      <td>0.000000</td>\n",
       "      <td>0.000000</td>\n",
       "      <td>0.000000</td>\n",
       "      <td>0.000000</td>\n",
       "      <td>0.000000e+00</td>\n",
       "      <td>0.000000</td>\n",
       "      <td>98.000000</td>\n",
       "      <td>0.000000e+00</td>\n",
       "      <td>...</td>\n",
       "      <td>0.000000e+00</td>\n",
       "      <td>0.000000</td>\n",
       "      <td>0.000000e+00</td>\n",
       "      <td>0.000000</td>\n",
       "      <td>0.000000</td>\n",
       "      <td>0.000000e+00</td>\n",
       "      <td>-1.000000</td>\n",
       "      <td>-1.000000e+00</td>\n",
       "      <td>-1.000000</td>\n",
       "      <td>-1.000000</td>\n",
       "    </tr>\n",
       "    <tr>\n",
       "      <th>25%</th>\n",
       "      <td>8.550525e+05</td>\n",
       "      <td>0.000000</td>\n",
       "      <td>0.990000</td>\n",
       "      <td>0.000000</td>\n",
       "      <td>0.000000</td>\n",
       "      <td>0.000000</td>\n",
       "      <td>0.000000e+00</td>\n",
       "      <td>0.000000</td>\n",
       "      <td>99.000000</td>\n",
       "      <td>1.000000e+00</td>\n",
       "      <td>...</td>\n",
       "      <td>0.000000e+00</td>\n",
       "      <td>0.000000</td>\n",
       "      <td>0.000000e+00</td>\n",
       "      <td>0.000000</td>\n",
       "      <td>0.000000</td>\n",
       "      <td>0.000000e+00</td>\n",
       "      <td>-1.000000</td>\n",
       "      <td>-1.000000e+00</td>\n",
       "      <td>-1.000000</td>\n",
       "      <td>-1.000000</td>\n",
       "    </tr>\n",
       "    <tr>\n",
       "      <th>50%</th>\n",
       "      <td>1.524730e+06</td>\n",
       "      <td>0.000000</td>\n",
       "      <td>4.990000</td>\n",
       "      <td>0.000000</td>\n",
       "      <td>0.000000</td>\n",
       "      <td>5.000000</td>\n",
       "      <td>0.000000e+00</td>\n",
       "      <td>0.000000</td>\n",
       "      <td>99.000000</td>\n",
       "      <td>1.000000e+01</td>\n",
       "      <td>...</td>\n",
       "      <td>0.000000e+00</td>\n",
       "      <td>0.000000</td>\n",
       "      <td>0.000000e+00</td>\n",
       "      <td>0.000000</td>\n",
       "      <td>0.000000</td>\n",
       "      <td>0.000000e+00</td>\n",
       "      <td>60.000000</td>\n",
       "      <td>1.500000e+01</td>\n",
       "      <td>-1.000000</td>\n",
       "      <td>-1.000000</td>\n",
       "    </tr>\n",
       "    <tr>\n",
       "      <th>75%</th>\n",
       "      <td>2.430852e+06</td>\n",
       "      <td>0.000000</td>\n",
       "      <td>9.990000</td>\n",
       "      <td>0.000000</td>\n",
       "      <td>0.000000</td>\n",
       "      <td>20.000000</td>\n",
       "      <td>0.000000e+00</td>\n",
       "      <td>0.000000</td>\n",
       "      <td>100.000000</td>\n",
       "      <td>5.800000e+01</td>\n",
       "      <td>...</td>\n",
       "      <td>0.000000e+00</td>\n",
       "      <td>0.000000</td>\n",
       "      <td>0.000000e+00</td>\n",
       "      <td>0.000000</td>\n",
       "      <td>0.000000</td>\n",
       "      <td>0.000000e+00</td>\n",
       "      <td>84.000000</td>\n",
       "      <td>8.100000e+01</td>\n",
       "      <td>-1.000000</td>\n",
       "      <td>-1.000000</td>\n",
       "    </tr>\n",
       "    <tr>\n",
       "      <th>max</th>\n",
       "      <td>3.542350e+06</td>\n",
       "      <td>21.000000</td>\n",
       "      <td>999.980000</td>\n",
       "      <td>3427.000000</td>\n",
       "      <td>97.000000</td>\n",
       "      <td>9821.000000</td>\n",
       "      <td>4.401572e+06</td>\n",
       "      <td>100.000000</td>\n",
       "      <td>100.000000</td>\n",
       "      <td>7.480813e+06</td>\n",
       "      <td>...</td>\n",
       "      <td>1.462997e+06</td>\n",
       "      <td>18568.000000</td>\n",
       "      <td>1.462997e+06</td>\n",
       "      <td>18568.000000</td>\n",
       "      <td>100.000000</td>\n",
       "      <td>1.212356e+06</td>\n",
       "      <td>100.000000</td>\n",
       "      <td>8.632939e+06</td>\n",
       "      <td>100.000000</td>\n",
       "      <td>96473.000000</td>\n",
       "    </tr>\n",
       "  </tbody>\n",
       "</table>\n",
       "<p>8 rows × 21 columns</p>\n",
       "</div>"
      ],
      "text/plain": [
       "              appid  required_age         price     dlc_count  \\\n",
       "count  8.961800e+04  89618.000000  89618.000000  89618.000000   \n",
       "mean   1.656904e+06      0.183624      7.309623      0.595583   \n",
       "std    9.168390e+05      1.725594     13.331073     15.351920   \n",
       "min    2.000000e+01     -1.000000      0.000000      0.000000   \n",
       "25%    8.550525e+05      0.000000      0.990000      0.000000   \n",
       "50%    1.524730e+06      0.000000      4.990000      0.000000   \n",
       "75%    2.430852e+06      0.000000      9.990000      0.000000   \n",
       "max    3.542350e+06     21.000000    999.980000   3427.000000   \n",
       "\n",
       "       metacritic_score  achievements  recommendations    user_score  \\\n",
       "count      89618.000000  89618.000000     8.961800e+04  89618.000000   \n",
       "mean           2.903245     20.552333     1.009401e+03      0.032817   \n",
       "std           14.445358    163.562418     2.204815e+04      1.615149   \n",
       "min            0.000000      0.000000     0.000000e+00      0.000000   \n",
       "25%            0.000000      0.000000     0.000000e+00      0.000000   \n",
       "50%            0.000000      5.000000     0.000000e+00      0.000000   \n",
       "75%            0.000000     20.000000     0.000000e+00      0.000000   \n",
       "max           97.000000   9821.000000     4.401572e+06    100.000000   \n",
       "\n",
       "       score_rank      positive  ...  average_playtime_forever  \\\n",
       "count   39.000000  8.961800e+04  ...              8.961800e+04   \n",
       "mean    99.128205  1.269896e+03  ...              1.149119e+02   \n",
       "std      0.695076  3.181441e+04  ...              6.814748e+03   \n",
       "min     98.000000  0.000000e+00  ...              0.000000e+00   \n",
       "25%     99.000000  1.000000e+00  ...              0.000000e+00   \n",
       "50%     99.000000  1.000000e+01  ...              0.000000e+00   \n",
       "75%    100.000000  5.800000e+01  ...              0.000000e+00   \n",
       "max    100.000000  7.480813e+06  ...              1.462997e+06   \n",
       "\n",
       "       average_playtime_2weeks  median_playtime_forever  \\\n",
       "count             89618.000000             8.961800e+04   \n",
       "mean                  5.032694             1.147559e+02   \n",
       "std                 181.100334             8.806711e+03   \n",
       "min                   0.000000             0.000000e+00   \n",
       "25%                   0.000000             0.000000e+00   \n",
       "50%                   0.000000             0.000000e+00   \n",
       "75%                   0.000000             0.000000e+00   \n",
       "max               18568.000000             1.462997e+06   \n",
       "\n",
       "       median_playtime_2weeks      discount      peak_ccu  pct_pos_total  \\\n",
       "count            89618.000000  89618.000000  8.961800e+04   89618.000000   \n",
       "mean                 5.301814      4.558627  9.833994e+01      45.352418   \n",
       "std                189.591095     16.538036  5.717544e+03      40.685695   \n",
       "min                  0.000000      0.000000  0.000000e+00      -1.000000   \n",
       "25%                  0.000000      0.000000  0.000000e+00      -1.000000   \n",
       "50%                  0.000000      0.000000  0.000000e+00      60.000000   \n",
       "75%                  0.000000      0.000000  0.000000e+00      84.000000   \n",
       "max              18568.000000    100.000000  1.212356e+06     100.000000   \n",
       "\n",
       "       num_reviews_total  pct_pos_recent  num_reviews_recent  \n",
       "count       8.961800e+04    89618.000000        89618.000000  \n",
       "mean        1.315490e+03        5.231639           15.584581  \n",
       "std         3.542370e+04       22.335358          444.277307  \n",
       "min        -1.000000e+00       -1.000000           -1.000000  \n",
       "25%        -1.000000e+00       -1.000000           -1.000000  \n",
       "50%         1.500000e+01       -1.000000           -1.000000  \n",
       "75%         8.100000e+01       -1.000000           -1.000000  \n",
       "max         8.632939e+06      100.000000        96473.000000  \n",
       "\n",
       "[8 rows x 21 columns]"
      ]
     },
     "execution_count": 90,
     "metadata": {},
     "output_type": "execute_result"
    }
   ],
   "source": [
    "#statistiche del dataset\n",
    "dataset.describe()"
   ]
  },
  {
   "cell_type": "code",
   "execution_count": 91,
   "id": "8ae46b4c",
   "metadata": {},
   "outputs": [
    {
     "data": {
      "text/plain": [
       "positive\n",
       "0         19425\n",
       "1          5297\n",
       "2          4093\n",
       "3          3372\n",
       "4          2857\n",
       "          ...  \n",
       "2171          1\n",
       "2013          1\n",
       "999           1\n",
       "2285          1\n",
       "956144        1\n",
       "Name: count, Length: 5087, dtype: int64"
      ]
     },
     "execution_count": 91,
     "metadata": {},
     "output_type": "execute_result"
    }
   ],
   "source": [
    "#dataset.describe(include=['O'])\n",
    "dataset['user_score'].value_counts()\n",
    "dataset['metacritic_score'].value_counts()\n",
    "dataset['score_rank'].value_counts()\n",
    "dataset['positive'].value_counts()"
   ]
  },
  {
   "cell_type": "markdown",
   "id": "15f996b5",
   "metadata": {},
   "source": [
    "* Eliminiamo colonna 'appid', id interno al dataset di steam, non utile alla predizione\n",
    "* Eliminiamo colonna della descrizione e raccomandazioni, sono testuali e non utili alla predizione.\n",
    "    * 'detailed_description' , 'about_the_game', 'short_description', 'reviews'\n",
    "* Eliminiamo url dell'immagine del gioco\n",
    "    * 'header_image'\n",
    "* Eliminiamo colonne testuali per supporto clienti e url vari\n",
    "    * 'website', 'support_url', 'support_email', 'metacritic_url', 'notes'\n",
    "* Eliminiamo colonne per trailer video e foto del gioco\n",
    "    * 'movies' , 'screenshots'\n",
    "* Elimino i punteggi che hanno troppi valori null\n",
    "    * 'user_score', 'score_rank'\n",
    "* Elimino le liste delle lingue supportate e dei pacchetti che non danno utilità\n",
    "    * 'supported_languages', 'full_audio_languages', 'packages'\n",
    "* Elimino numero di dlc e sconti che non danno informazioni o con molti valori nulli\n",
    "    * 'discount', 'dlc_count', 'tags'\n",
    "* Elimino dall’input tutte le variabili post-lancio\n",
    "    * 'recommendations', 'average_playtime_forever', 'average_playtime_2weeks', 'median_playtime_2weeks', 'median_playtime_forever'\n",
    "    * 'positive', 'negative'\n",
    "    * 'peak_ccu', 'pct_pos_total', 'num_reviews_total', 'pct_pos_recent', 'num_reviews_recent\n",
    "        * hanno varibile nulla => 800"
   ]
  },
  {
   "cell_type": "code",
   "execution_count": 92,
   "id": "bbe0cde5",
   "metadata": {},
   "outputs": [],
   "source": [
    "# drop elimina colonna, per eliminare più colonne contemporaneamente [ , ]\n",
    "#dataset.drop('appid', axis=1, inplace=True)\n",
    "dataset.drop('name', axis=1, inplace=True)\n",
    "dataset.drop(['detailed_description','about_the_game', 'short_description', 'reviews', 'header_image'], axis=1, inplace=True)\n",
    "dataset.drop(['website', 'support_url', 'support_email', 'metacritic_url', 'notes'], axis=1, inplace=True)\n",
    "dataset.drop(['screenshots','movies'], axis=1, inplace=True)\n",
    "dataset.drop(['user_score', 'score_rank', 'metacritic_score'], axis=1, inplace=True)\n",
    "dataset.drop(['supported_languages', 'full_audio_languages', 'packages', 'tags'], axis=1, inplace=True)\n",
    "dataset.drop(['discount', 'dlc_count'], axis=1, inplace=True)\n",
    "dataset.drop(['recommendations', 'average_playtime_forever', 'average_playtime_2weeks'], axis=1, inplace=True)\n",
    "dataset.drop(['median_playtime_2weeks', 'median_playtime_forever'], axis=1, inplace=True)\n",
    "dataset.drop(['positive', 'negative'], axis=1, inplace=True)\n",
    "dataset.drop(['peak_ccu', 'pct_pos_total', 'num_reviews_total', 'pct_pos_recent', 'num_reviews_recent'], axis=1, inplace=True)"
   ]
  },
  {
   "cell_type": "markdown",
   "id": "15ed7809",
   "metadata": {},
   "source": [
    "### Salvo su nuovo dataset da poter usare comodamente"
   ]
  },
  {
   "cell_type": "code",
   "execution_count": 93,
   "id": "4943de8e",
   "metadata": {},
   "outputs": [],
   "source": [
    "# salvo dataset modificato in uno nuovo per poter ripartire da lì\n",
    "dataset.to_csv('DataSet/games1.csv', index=False)"
   ]
  },
  {
   "cell_type": "markdown",
   "id": "88aab6c0",
   "metadata": {},
   "source": [
    "# ds\n",
    "##### Salvo le modifiche in un nuovo dataset per poterlo utilizzare\n",
    "* Inizializzare da QUI"
   ]
  },
  {
   "cell_type": "code",
   "execution_count": 94,
   "id": "e2bf9cc3",
   "metadata": {},
   "outputs": [],
   "source": [
    "#NUOVO DATASET CON MODIFICHE\n",
    "ds = pd.read_csv(\"DataSet/games1.csv\")"
   ]
  },
  {
   "cell_type": "markdown",
   "id": "4ec38423",
   "metadata": {},
   "source": [
    "### Taglio dataset sugli ultimi 10 anni:\n",
    "* taglio tutti i giochi usciti prima del 2015\n",
    "    * dataset arriva fino al 2025"
   ]
  },
  {
   "cell_type": "code",
   "execution_count": 95,
   "id": "b492b0e6",
   "metadata": {},
   "outputs": [
    {
     "name": "stdout",
     "output_type": "stream",
     "text": [
      "Righe rimanenti: 86847\n"
     ]
    }
   ],
   "source": [
    "ds['release_date'] = pd.to_datetime(ds['release_date'], format='%Y-%m-%d', errors='coerce')\n",
    "\n",
    "cutoff_date = pd.Timestamp('2015-01-01')\n",
    "\n",
    "# Filtriamo solo le righe dal 2015 in poi\n",
    "ds = ds[ds['release_date'] >= cutoff_date]\n",
    "\n",
    "print(f\"Righe rimanenti: {len(ds)}\")\n"
   ]
  },
  {
   "cell_type": "markdown",
   "id": "e7058b14",
   "metadata": {},
   "source": [
    "## Variabile Target num giocatori che hanno acquistato il gioco\n",
    "* per decretare successo del gioco"
   ]
  },
  {
   "cell_type": "code",
   "execution_count": 96,
   "id": "63f5c535",
   "metadata": {},
   "outputs": [
    {
     "data": {
      "text/plain": [
       "estimated_owners\n",
       "0            67288\n",
       "20000         9144\n",
       "50000         4130\n",
       "100000        2586\n",
       "200000        2022\n",
       "500000         833\n",
       "1000000        441\n",
       "2000000        263\n",
       "5000000         78\n",
       "10000000        34\n",
       "20000000        18\n",
       "50000000        10\n",
       "Name: count, dtype: int64"
      ]
     },
     "execution_count": 96,
     "metadata": {},
     "output_type": "execute_result"
    }
   ],
   "source": [
    "ds['estimated_owners'] = ds['estimated_owners'].apply(lambda x: x.split('-')[0])\n",
    "ds['estimated_owners'].value_counts()"
   ]
  },
  {
   "cell_type": "markdown",
   "id": "180ae5d7",
   "metadata": {},
   "source": [
    "### Raggruppamento\n",
    "* Faccio raggruppamento\n",
    "    * raggruppo per 4 valori quindi 4 intervalli"
   ]
  },
  {
   "cell_type": "code",
   "execution_count": 97,
   "id": "4d59ccf5",
   "metadata": {},
   "outputs": [
    {
     "name": "stdout",
     "output_type": "stream",
     "text": [
      "success_class\n",
      "insuccesso        67288\n",
      "basso_successo    13274\n",
      "medio_successo     5441\n",
      "alto_successo       844\n",
      "Name: count, dtype: int64\n"
     ]
    }
   ],
   "source": [
    "# dopo il taglio era diventato stringhe\n",
    "ds['estimated_owners'] = pd.to_numeric(ds['estimated_owners'], errors='coerce')\n",
    "\n",
    "intervalli = [0, 5000, 50000, 500000, float('inf')]\n",
    "etichette = ['insuccesso', 'basso_successo', 'medio_successo', 'alto_successo']\n",
    "\n",
    "ds['success_class'] = pd.cut(ds['estimated_owners'], bins=intervalli, labels=etichette, include_lowest=True)\n",
    "\n",
    "# elimino colonna 'estimated_owners' non serve più - sostituita da 'success_class'\n",
    "ds.drop('estimated_owners', axis=1, inplace=True)\n",
    "\n",
    "print(ds['success_class'].value_counts())"
   ]
  },
  {
   "cell_type": "code",
   "execution_count": 98,
   "id": "9634d75d",
   "metadata": {},
   "outputs": [],
   "source": [
    "ds.to_csv('DataSet/games1.csv', index=False)"
   ]
  },
  {
   "cell_type": "markdown",
   "id": "1ff263d9",
   "metadata": {},
   "source": [
    "# Lettura da games1.csv"
   ]
  },
  {
   "cell_type": "code",
   "execution_count": 99,
   "id": "92e84b38",
   "metadata": {},
   "outputs": [],
   "source": [
    "ds = pd.read_csv(\"DataSet/games1.csv\", index_col=0)"
   ]
  },
  {
   "cell_type": "markdown",
   "id": "5bf9998f",
   "metadata": {},
   "source": [
    "## Analisi Frequenze\n",
    "* Analizzo frequenze\n",
    "    * categorie generi publishers developers"
   ]
  },
  {
   "cell_type": "code",
   "execution_count": 100,
   "id": "d2ca6145",
   "metadata": {},
   "outputs": [
    {
     "name": "stdout",
     "output_type": "stream",
     "text": [
      "appid\n",
      "578080     ['Action', 'Adventure', 'Massively Multiplayer...\n",
      "271590                               ['Action', 'Adventure']\n",
      "359550                                            ['Action']\n",
      "252490     ['Action', 'Adventure', 'Indie', 'Massively Mu...\n",
      "1172470              ['Action', 'Adventure', 'Free To Play']\n",
      "                                 ...                        \n",
      "2115110                            ['Indie', 'Early Access']\n",
      "1174200         ['Action', 'Adventure', 'Indie', 'Strategy']\n",
      "1160190                            ['Indie', 'Early Access']\n",
      "3380340       ['Adventure', 'RPG', 'Simulation', 'Strategy']\n",
      "763730                                   ['Action', 'Indie']\n",
      "Name: genres, Length: 86847, dtype: object\n"
     ]
    }
   ],
   "source": [
    "#print(dataset['genres'])\n",
    "print(ds['genres'])"
   ]
  },
  {
   "cell_type": "markdown",
   "id": "b954c9e2",
   "metadata": {},
   "source": [
    "## Analisi Generi\n",
    "* analisi per pulizia 'genres'"
   ]
  },
  {
   "cell_type": "code",
   "execution_count": 101,
   "id": "e7956679",
   "metadata": {},
   "outputs": [
    {
     "name": "stdout",
     "output_type": "stream",
     "text": [
      "appid\n",
      "578080     ['Action', 'Adventure', 'Massively Multiplayer...\n",
      "271590                               ['Action', 'Adventure']\n",
      "359550                                            ['Action']\n",
      "252490     ['Action', 'Adventure', 'Indie', 'Massively Mu...\n",
      "1172470              ['Action', 'Adventure', 'Free To Play']\n",
      "                                 ...                        \n",
      "2115110                            ['Indie', 'Early Access']\n",
      "1174200         ['Action', 'Adventure', 'Indie', 'Strategy']\n",
      "1160190                            ['Indie', 'Early Access']\n",
      "3380340       ['Adventure', 'RPG', 'Simulation', 'Strategy']\n",
      "763730                                   ['Action', 'Indie']\n",
      "Name: genres, Length: 86847, dtype: object\n",
      "\n",
      "DISTRIBUZIONE VARIABILI\n"
     ]
    },
    {
     "data": {
      "image/png": "[encoded data removed]",
      "text/plain": [
       "<Figure size 2000x1500 with 1 Axes>"
      ]
     },
     "metadata": {},
     "output_type": "display_data"
    },
    {
     "name": "stdout",
     "output_type": "stream",
     "text": [
      "\n",
      "genres\n",
      "Statistiche descrittive del genres:\n",
      "count            86847\n",
      "unique            2660\n",
      "top       Casual Indie\n",
      "freq              5047\n",
      "Name: genres, dtype: object\n",
      "appid\n",
      "578080     Action Adventure MassivelyMultiplayer FreeToPlay\n",
      "271590                                     Action Adventure\n",
      "359550                                               Action\n",
      "252490      Action Adventure Indie MassivelyMultiplayer RPG\n",
      "1172470                         Action Adventure FreeToPlay\n",
      "                                 ...                       \n",
      "2115110                                   Indie EarlyAccess\n",
      "1174200                     Action Adventure Indie Strategy\n",
      "1160190                                   Indie EarlyAccess\n",
      "3380340                   Adventure RPG Simulation Strategy\n",
      "763730                                         Action Indie\n",
      "Name: genres, Length: 86847, dtype: object\n"
     ]
    }
   ],
   "source": [
    "import re\n",
    "import string\n",
    "import matplotlib.pyplot as plt\n",
    "from collections import Counter\n",
    "\n",
    "def rimuovi_spazi(match):\n",
    "    return match.group(0).replace(\" \", \"\")\n",
    "\n",
    "def clean_text(text):\n",
    "    # Rimuovi gli spazi extra\n",
    "    text = ' '.join(text.split())\n",
    "    # Rimuovi la punteggiatura\n",
    "    text = text.translate(str.maketrans('', '', string.punctuation))\n",
    "    # Rimuovi i numeri\n",
    "    text = re.sub(r'\\d+', '', text)\n",
    "    # Rimuovi i caratteri speciali e simboli\n",
    "    text = re.sub(r'[^a-zA-Z\\s]', '', text)\n",
    "    return text\n",
    "\n",
    "def tagDistribution(all_genres_list, top_n=35):\n",
    "    # Conta le ripetizioni di ogni tag\n",
    "    genres_counts = Counter(all_genres_list)\n",
    "\n",
    "    # Estrai i top N tag più comuni e i loro conteggi\n",
    "    top_genres = genres_counts.most_common(top_n)\n",
    "    other_count = sum(genres_counts.values()) - sum(count for genre, count in top_genres)\n",
    "\n",
    "    # Seleziona i tag e i conteggi per il grafico\n",
    "    genres = [genre for genre, count in top_genres] + ['Altro']\n",
    "    counts = [count for tag, count in top_genres] + [other_count]\n",
    "\n",
    "    # Crea il grafico a barre della distribuzione dei Generi\n",
    "    plt.figure(figsize=(20, 15))\n",
    "    plt.bar(genres, counts, color='skyblue')\n",
    "    plt.xlabel('Generi')\n",
    "    plt.ylabel('Numero di occorrenze')\n",
    "    plt.title('Distribuzione dei Generi')\n",
    "    plt.xticks(rotation=45)  # Ruota le etichette sull'asse x per una migliore leggibilità\n",
    "    plt.show()\n",
    "\n",
    "def frequenze_osservate_genres(ds):\n",
    "    # Calcola le statistiche descrittive del genres\n",
    "    genres_stats = ds['genres'].describe()\n",
    "\n",
    "    # Stampa le statistiche descrittive del genres\n",
    "    print(\"Statistiche descrittive del genres:\")\n",
    "    print(genres_stats)\n",
    "\n",
    "print(ds['genres'])\n",
    "\n",
    "# Applica la rimozione degli spazi a ogni riga della colonna 'genres'\n",
    "ds['genres'] = ds['genres'].apply(lambda x: re.sub(r\"'([^']*)'\", rimuovi_spazi, x))\n",
    "# Pulisce il dataset dei genres\n",
    "ds['genres'] = ds['genres'].apply(clean_text)\n",
    "# Estrai tutti i genres in un'unica stringa\n",
    "all_genres_string = ds['genres'].str.cat(sep=' ')\n",
    "# Dividi la stringa in una lista di singoli genres\n",
    "all_genres_list = all_genres_string.split()\n",
    "\n",
    "# Rimuove i duplicati convertendo la lista in un set e poi di nuovo in una lista\n",
    "unique_genres = list(set(all_genres_list))\n",
    "unique_genres.sort()\n",
    "\n",
    "# Calcola la distribuzione dei Generi\n",
    "print(\"\\nDISTRIBUZIONE VARIABILI\")\n",
    "tagDistribution(all_genres_list)\n",
    "\n",
    "print(\"\\ngenres\")\n",
    "frequenze_osservate_genres(ds)\n",
    "\n",
    "print(ds['genres'])\n",
    "\n",
    "# così da cancellare le modifiche fatte per la sola lettura delle frequenze \n",
    "ds = pd.read_csv(\"DataSet/games1.csv\", index_col=0)\n"
   ]
  },
  {
   "cell_type": "markdown",
   "id": "68b651ad",
   "metadata": {},
   "source": [
    "# Feature engineering\n",
    "## feature selection basata sulla frequenza globale dei generi\n",
    "* Calcola frequenze per ogni genere \n",
    "* Ordina generi per ogni riga in base alla frequenza\n",
    "    * sceglie i primi 2 generi più frequenti \n",
    "    * crea colonna 1 con genere più frequente e colonna 2 con il secondo genere più frequente"
   ]
  },
  {
   "cell_type": "code",
   "execution_count": null,
   "id": "1faa098a",
   "metadata": {},
   "outputs": [
    {
     "name": "stdout",
     "output_type": "stream",
     "text": [
      "                                                    genres  \\\n",
      "appid                                                        \n",
      "578080   ['Action', 'Adventure', 'Massively Multiplayer...   \n",
      "271590                             ['Action', 'Adventure']   \n",
      "359550                                          ['Action']   \n",
      "252490   ['Action', 'Adventure', 'Indie', 'Massively Mu...   \n",
      "1172470            ['Action', 'Adventure', 'Free To Play']   \n",
      "\n",
      "                                               genres_list genre_top1  \\\n",
      "appid                                                                   \n",
      "578080   [Action, Adventure, Massively Multiplayer, Fre...     Action   \n",
      "271590                                 [Action, Adventure]     Action   \n",
      "359550                                            [Action]     Action   \n",
      "252490   [Action, Adventure, Indie, Massively Multiplay...      Indie   \n",
      "1172470                  [Action, Adventure, Free To Play]     Action   \n",
      "\n",
      "        genre_top2  \n",
      "appid               \n",
      "578080   Adventure  \n",
      "271590   Adventure  \n",
      "359550         NaN  \n",
      "252490      Action  \n",
      "1172470  Adventure  \n"
     ]
    }
   ],
   "source": [
    "import numpy as np\n",
    "import pandas as pd\n",
    "from collections import Counter\n",
    "import itertools\n",
    "from funzioni import parse_fromString_toList \n",
    "\n",
    "# Crea colonna genres ripulita\n",
    "ds['genres_list'] = ds['genres'].apply(parse_fromString_toList)\n",
    "\n",
    "# Frequenze globali dei generi\n",
    "all_genres = list(itertools.chain.from_iterable(ds['genres_list']))\n",
    "freq = Counter(all_genres)\n",
    "\n",
    "# Per ogni riga: prendi i 2 generi con frequenza globale più alta\n",
    "# tie-break: mantieni l'ordine originale della riga\n",
    "def top_two_from_row(genres):\n",
    "    if not genres:\n",
    "        return pd.Series([np.nan, np.nan], index=['genre_top1','genre_top2'])\n",
    "    # rimuove eventuali duplicati mantenendo l'ordine della riga\n",
    "    uniq = list(dict.fromkeys(genres))\n",
    "    pos = {g: i for i, g in enumerate(uniq)}\n",
    "    # ordina per (frequenza globale, ordine nella riga)\n",
    "    ordered = sorted(uniq, key=lambda g: (-freq.get(g, 0), pos[g]))\n",
    "    if len(ordered) == 1:\n",
    "        return pd.Series([ordered[0], np.nan], index=['genre_top1','genre_top2'])\n",
    "    return pd.Series(ordered[:2], index=['genre_top1','genre_top2'])\n",
    "\n",
    "ds[['genre_top1','genre_top2']] = ds['genres_list'].apply(top_two_from_row)\n",
    "\n",
    "print(ds[['genres','genres_list','genre_top1','genre_top2']].head())\n"
   ]
  },
  {
   "cell_type": "code",
   "execution_count": 103,
   "id": "42d9bbe7",
   "metadata": {},
   "outputs": [],
   "source": [
    "ds.to_csv('DataSet/games1.csv')"
   ]
  },
  {
   "cell_type": "markdown",
   "id": "adeabda6",
   "metadata": {},
   "source": [
    "## feature selection di platform\n",
    "* unificare windows/mac/linux facendone la somma e salvando in un'unica variabile 'platform_count'"
   ]
  },
  {
   "cell_type": "code",
   "execution_count": 104,
   "id": "88703a90",
   "metadata": {},
   "outputs": [
    {
     "data": {
      "text/plain": [
       "platform_count\n",
       "1    67353\n",
       "2    10838\n",
       "3     8656\n",
       "Name: count, dtype: int64"
      ]
     },
     "execution_count": 104,
     "metadata": {},
     "output_type": "execute_result"
    }
   ],
   "source": [
    "ds['platform_count'] = ds[['windows', 'mac', 'linux']].sum(axis=1).astype(int)\n",
    "\n",
    "ds.drop(['windows', 'mac', 'linux'], axis=1, inplace=True)\n",
    "\n",
    "ds['platform_count'].value_counts()"
   ]
  },
  {
   "cell_type": "markdown",
   "id": "941580f3",
   "metadata": {},
   "source": [
    "## Normalizzazione\n",
    "normalizzazione logaritma del prezzo 'price'"
   ]
  },
  {
   "cell_type": "code",
   "execution_count": null,
   "id": "61d83e3a",
   "metadata": {},
   "outputs": [
    {
     "name": "stdout",
     "output_type": "stream",
     "text": [
      "price_log\n",
      "0.000000    13915\n",
      "1.790091     9291\n",
      "0.688135     8295\n",
      "2.396986     7487\n",
      "1.095273     6206\n",
      "            ...  \n",
      "3.978934        1\n",
      "2.760010        1\n",
      "2.034706        1\n",
      "2.769459        1\n",
      "2.867331        1\n",
      "Name: count, Length: 611, dtype: int64\n"
     ]
    }
   ],
   "source": [
    "# Flag che indica se il gioco è gratuito\n",
    "ds['is_free'] = (ds['price'] == 0).astype(int)\n",
    "\n",
    "# Trasformazione logaritmica del prezzo (aggiunge 1 per evitare log(0))\n",
    "ds['price_log'] = np.log1p(ds['price'])\n",
    "\n",
    "print(ds['price_log'].value_counts())\n",
    "#print(ds['price'].value_counts())\n",
    "\n",
    "ds.drop('price', axis=1, inplace=True)"
   ]
  },
  {
   "cell_type": "markdown",
   "id": "a5932bb9",
   "metadata": {},
   "source": [
    "## Elimino righe che hanno: free to play e insuccesso \n",
    "\n",
    "Siccome ho notato nell'analisi dei dati che 67288 giochi sono stati acquistati da 0 persone e lo stesso numero equivale alla classe 'insuccesso', ho pensato che in questi dati possano essere compresi anche i giochi free to play.\n",
    "Infatti eliminino tutte le righe che sono free to play e non hanno successo.\n",
    "\n",
    "insuccesso : 67288 \n",
    "\n",
    "0 : 67288"
   ]
  },
  {
   "cell_type": "code",
   "execution_count": 106,
   "id": "61b0e739",
   "metadata": {},
   "outputs": [
    {
     "name": "stdout",
     "output_type": "stream",
     "text": [
      "success_class\n",
      "basso_successo    13274\n",
      "insuccesso        10733\n",
      "medio_successo     5441\n",
      "alto_successo       844\n",
      "Name: count, dtype: int64\n"
     ]
    }
   ],
   "source": [
    "ds.drop(\n",
    "    ds[(ds['is_free'] == 0) & (ds['success_class'] == 'insuccesso')].index,\n",
    "    inplace=True\n",
    ")\n",
    "\n",
    "print(ds['success_class'].value_counts())\n"
   ]
  },
  {
   "cell_type": "markdown",
   "id": "7b676eb3",
   "metadata": {},
   "source": [
    "## Feature selection\n",
    "* Non serve tutta la data, ma il periodo dell'anno (trimestre di rilascio) in cui è stato pubblicato. \n",
    "* estraggo mese e poi trimestre di appartenenza"
   ]
  },
  {
   "cell_type": "code",
   "execution_count": null,
   "id": "44657578",
   "metadata": {},
   "outputs": [
    {
     "name": "stdout",
     "output_type": "stream",
     "text": [
      "trimester\n",
      "3    8066\n",
      "1    7642\n",
      "2    7325\n",
      "4    7259\n",
      "Name: count, dtype: int64\n"
     ]
    }
   ],
   "source": [
    "from sklearn.preprocessing import MultiLabelBinarizer\n",
    "\n",
    "ds['release_date'] = pd.to_datetime(ds['release_date'])\n",
    "ds['month'] = ds['release_date'].dt.month\n",
    "\n",
    "# Mappo i mesi in 4 trimestri\n",
    "def trimestre(month):\n",
    "    if month in [12, 1, 2]:\n",
    "        return 4 # inverno\n",
    "    elif month in [3, 4, 5]:\n",
    "        return 1 # primavera\n",
    "    elif month in [6, 7, 8]:\n",
    "        return 2 # estate\n",
    "    else:\n",
    "        return 3 # autunno\n",
    "\n",
    "ds['trimester'] = ds['month'].apply(trimestre)\n",
    "\n",
    "print(ds['trimester'].value_counts())"
   ]
  },
  {
   "cell_type": "code",
   "execution_count": 108,
   "id": "85d292cd",
   "metadata": {},
   "outputs": [],
   "source": [
    "ds.drop('month', axis=1, inplace=True)\n",
    "ds.drop('release_date', axis=1, inplace=True)"
   ]
  },
  {
   "cell_type": "code",
   "execution_count": 109,
   "id": "fc689743",
   "metadata": {},
   "outputs": [],
   "source": [
    "ds.to_csv(\"DataSet/games1.csv\")"
   ]
  },
  {
   "cell_type": "code",
   "execution_count": 110,
   "id": "609adcf7",
   "metadata": {},
   "outputs": [],
   "source": [
    "ds = pd.read_csv(\"DataSet/games1.csv\", index_col=0)"
   ]
  },
  {
   "cell_type": "code",
   "execution_count": 111,
   "id": "967b7a0f",
   "metadata": {},
   "outputs": [
    {
     "name": "stdout",
     "output_type": "stream",
     "text": [
      "['required_age', 'achievements', 'developers', 'publishers', 'categories', 'genres', 'success_class', 'genres_list', 'genre_top1', 'genre_top2', 'platform_count', 'is_free', 'price_log', 'trimester']\n"
     ]
    }
   ],
   "source": [
    "print(ds.columns.tolist())"
   ]
  },
  {
   "cell_type": "markdown",
   "id": "2d9ce91f",
   "metadata": {},
   "source": [
    "# Encoding delle variabili\n",
    "## Encoding success_class\n",
    "* Encoding variabile target success_class\n",
    "'insuccesso'=0\n",
    "'basso_successo' =1\n",
    "'medio_successo' =2\n",
    "'alto_successo'= 3"
   ]
  },
  {
   "cell_type": "code",
   "execution_count": 112,
   "id": "e5fda21d",
   "metadata": {},
   "outputs": [],
   "source": [
    "from sklearn.preprocessing import LabelEncoder\n",
    "\n",
    "mapping = {\n",
    "    'insuccesso': 0,\n",
    "    'basso_successo': 1,\n",
    "    'medio_successo': 2,\n",
    "    'alto_successo': 3\n",
    "}\n",
    "\n",
    "ds['success_class_encoded'] = ds['success_class'].map(mapping)\n",
    "\n",
    "# 'success_class_encoded' è la y da usare in train/test\n",
    "y = ds['success_class_encoded']"
   ]
  },
  {
   "cell_type": "code",
   "execution_count": 113,
   "id": "8a610147",
   "metadata": {},
   "outputs": [
    {
     "name": "stdout",
     "output_type": "stream",
     "text": [
      "success_class_encoded\n",
      "1    13274\n",
      "0    10733\n",
      "2     5441\n",
      "3      844\n",
      "Name: count, dtype: int64\n"
     ]
    }
   ],
   "source": [
    "ds.drop('success_class', axis=1, inplace=True)\n",
    "\n",
    "print(ds['success_class_encoded'].value_counts())"
   ]
  },
  {
   "cell_type": "markdown",
   "id": "e17c8091",
   "metadata": {},
   "source": [
    "## Encoding per genres\n",
    "* Encoding per frequenza"
   ]
  },
  {
   "cell_type": "code",
   "execution_count": null,
   "id": "cacedbe2",
   "metadata": {},
   "outputs": [],
   "source": [
    "from funzioni import parse_fromString_toList \n",
    "\n",
    "# Crea colonna genres ripulita (da stringa a lista) con parse_fromString_toList\n",
    "ds['genres_list'] = ds['genres'].apply(parse_fromString_toList)\n",
    "\n",
    "# Conta la frequenza di tutti i generi\n",
    "all_genres = list(itertools.chain.from_iterable(ds['genres_list']))\n",
    "freq_map_genre = Counter(all_genres)\n",
    "\n",
    "# Aggiunge encoding numerico basato sulle frequenze\n",
    "ds['top1_genre_freq'] = ds['genre_top1'].map(freq_map_genre).fillna(0)\n",
    "ds['top2_genre_freq'] = ds['genre_top2'].map(freq_map_genre).fillna(0)"
   ]
  },
  {
   "cell_type": "markdown",
   "id": "75168a53",
   "metadata": {},
   "source": [
    "* Salvo in un file i dizionari per genre appena creati, per poterli usare nella demo o eseguibile"
   ]
  },
  {
   "cell_type": "code",
   "execution_count": 115,
   "id": "a79528a3",
   "metadata": {},
   "outputs": [
    {
     "data": {
      "text/plain": [
       "['map/freq_map_genre.pkl']"
      ]
     },
     "execution_count": 115,
     "metadata": {},
     "output_type": "execute_result"
    }
   ],
   "source": [
    "import joblib\n",
    "\n",
    "joblib.dump(freq_map_genre, \"map/freq_map_genre.pkl\")"
   ]
  },
  {
   "cell_type": "markdown",
   "id": "9e811b9d",
   "metadata": {},
   "source": [
    "* One hot encoding per top generi più frequenti"
   ]
  },
  {
   "cell_type": "code",
   "execution_count": null,
   "id": "7687c6b5",
   "metadata": {},
   "outputs": [
    {
     "name": "stdout",
     "output_type": "stream",
     "text": [
      "Top 12 generi: ['Indie', 'Action', 'Adventure', 'Casual', 'Free To Play', 'RPG', 'Strategy', 'Simulation', 'Early Access', 'Massively Multiplayer', 'Sports', 'Racing']\n",
      "         genre_Indie  genre_Action  genre_Adventure  genre_Casual  \\\n",
      "appid                                                               \n",
      "578080             0             1                1             0   \n",
      "271590             0             1                1             0   \n",
      "359550             0             1                0             0   \n",
      "252490             1             1                1             0   \n",
      "1172470            0             1                1             0   \n",
      "\n",
      "         genre_Free To Play  genre_RPG  genre_Strategy  genre_Simulation  \\\n",
      "appid                                                                      \n",
      "578080                    1          0               0                 0   \n",
      "271590                    0          0               0                 0   \n",
      "359550                    0          0               0                 0   \n",
      "252490                    0          1               0                 0   \n",
      "1172470                   1          0               0                 0   \n",
      "\n",
      "         genre_Early Access  genre_Massively Multiplayer  genre_Sports  \\\n",
      "appid                                                                    \n",
      "578080                    0                            1             0   \n",
      "271590                    0                            0             0   \n",
      "359550                    0                            0             0   \n",
      "252490                    0                            1             0   \n",
      "1172470                   0                            0             0   \n",
      "\n",
      "         genre_Racing  \n",
      "appid                  \n",
      "578080              0  \n",
      "271590              0  \n",
      "359550              0  \n",
      "252490              0  \n",
      "1172470             0  \n"
     ]
    }
   ],
   "source": [
    "# all_genres è lista ripulita i generi come elementi di una lista\n",
    "# (creato precedentemente per conteggio frequenze)\n",
    "genre_counts = Counter(all_genres)\n",
    "\n",
    "# Prendo i 12 generi più frequenti\n",
    "top_genres = [g for g, _ in genre_counts.most_common(12)]\n",
    "print(\"Top 12 generi:\", top_genres)\n",
    "\n",
    "# Multi-hot encoding solo per i top generi\n",
    "for g in top_genres:\n",
    "    ds[f\"genre_{g}\"] = ds['genres_list'].apply(lambda x: int(g in x))\n",
    "\n",
    "print(ds[[f\"genre_{g}\" for g in top_genres]].head())"
   ]
  },
  {
   "cell_type": "code",
   "execution_count": 117,
   "id": "7a5cf93d",
   "metadata": {},
   "outputs": [
    {
     "name": "stdout",
     "output_type": "stream",
     "text": [
      "['required_age', 'achievements', 'developers', 'publishers', 'categories', 'platform_count', 'is_free', 'price_log', 'trimester', 'success_class_encoded', 'top1_genre_freq', 'top2_genre_freq', 'genre_Indie', 'genre_Action', 'genre_Adventure', 'genre_Casual', 'genre_Free To Play', 'genre_RPG', 'genre_Strategy', 'genre_Simulation', 'genre_Early Access', 'genre_Massively Multiplayer', 'genre_Sports', 'genre_Racing']\n"
     ]
    }
   ],
   "source": [
    "ds.drop(['genre_top1', 'genre_top2'], axis=1, inplace=True)\n",
    "ds.drop(['genres', 'genres_list'], axis=1, inplace=True)\n",
    "print(ds.columns.tolist())"
   ]
  },
  {
   "cell_type": "code",
   "execution_count": 118,
   "id": "0e65391d",
   "metadata": {},
   "outputs": [],
   "source": [
    "ds.to_csv('DataSet/games1.csv', index=False)"
   ]
  },
  {
   "cell_type": "markdown",
   "id": "a3e9edcb",
   "metadata": {},
   "source": [
    "## Encoding di categories\n",
    "* Ci sono colonne che contengono liste di variabili, queste sono prestabilite sono una ventina. Procedo con multi-hot encoding e le divido in più colonne."
   ]
  },
  {
   "cell_type": "code",
   "execution_count": 119,
   "id": "eff6dd3d",
   "metadata": {},
   "outputs": [],
   "source": [
    "import ast\n",
    "from sklearn.preprocessing import MultiLabelBinarizer\n",
    "\n",
    "# parsing (se è stringa con [])\n",
    "ds['categories_list'] = ds['categories'].apply(lambda x: ast.literal_eval(x) if isinstance(x,str) else x)\n",
    "\n",
    "mlb = MultiLabelBinarizer()\n",
    "cat_encoded = mlb.fit_transform(ds['categories_list'])\n",
    "\n",
    "cat_df = pd.DataFrame(cat_encoded, columns=[f\"cat_{c}\" for c in mlb.classes_], index=ds.index)\n",
    "\n",
    "# aggiungo al dataset\n",
    "ds = pd.concat([ds, cat_df], axis=1)\n",
    "\n",
    "ds.drop(columns=['categories','categories_list'], inplace=True)"
   ]
  },
  {
   "cell_type": "markdown",
   "id": "3a9d2cdd",
   "metadata": {},
   "source": [
    "#### Elimino le categorie meno utilizzate\n"
   ]
  },
  {
   "cell_type": "code",
   "execution_count": 120,
   "id": "d158fb84",
   "metadata": {},
   "outputs": [
    {
     "name": "stdout",
     "output_type": "stream",
     "text": [
      "['required_age', 'achievements', 'developers', 'publishers', 'platform_count', 'is_free', 'price_log', 'trimester', 'success_class_encoded', 'top1_genre_freq', 'top2_genre_freq', 'genre_Indie', 'genre_Action', 'genre_Adventure', 'genre_Casual', 'genre_Free To Play', 'genre_RPG', 'genre_Strategy', 'genre_Simulation', 'genre_Early Access', 'genre_Massively Multiplayer', 'genre_Sports', 'genre_Racing', 'cat_Captions available', 'cat_Co-op', 'cat_Cross-Platform Multiplayer', 'cat_Family Sharing', 'cat_Full controller support', 'cat_In-App Purchases', 'cat_Includes Source SDK', 'cat_Includes level editor', 'cat_LAN Co-op', 'cat_LAN PvP', 'cat_MMO', 'cat_Multi-player', 'cat_Online Co-op', 'cat_Online PvP', 'cat_PvP', 'cat_Shared/Split Screen', 'cat_Shared/Split Screen Co-op', 'cat_Shared/Split Screen PvP', 'cat_Single-player', 'cat_Steam Trading Cards']\n"
     ]
    }
   ],
   "source": [
    "# eliminare dalla colonna x alla colonna y (consecutive)\n",
    "ds.drop(columns=ds.loc[:, \"cat_Steam Turn Notifications\":\"cat_Valve Anti-Cheat enabled\"].columns, inplace=True)\n",
    "ds.drop(columns=ds.loc[:, \"cat_Stats\":\"cat_Steam Timeline\"].columns, inplace=True)\n",
    "ds.drop(columns=ds.loc[:, \"cat_Remote Play Together\":\"cat_Remote Play on Tablet\"].columns, inplace=True)\n",
    "ds.drop(['cat_HDR available', 'cat_Partial Controller Support', 'cat_Commentary available'], axis=1, inplace=True)\n",
    "\n",
    "print(ds.columns.tolist())"
   ]
  },
  {
   "cell_type": "markdown",
   "id": "be5f7610",
   "metadata": {},
   "source": [
    "## Encoding publisher\n",
    "* Prendo primo publisher per importanza.\n"
   ]
  },
  {
   "cell_type": "code",
   "execution_count": 121,
   "id": "709445d1",
   "metadata": {},
   "outputs": [],
   "source": [
    "from funzioni import estrai_primo\n",
    "\n",
    "ds['publishers_main'] = ds['publishers'].apply(estrai_primo)\n",
    "\n",
    "freq_map_pub = ds['publishers_main'].value_counts().to_dict()\n",
    "ds['publishers_freq'] = ds['publishers_main'].map(freq_map_pub).fillna(0)"
   ]
  },
  {
   "cell_type": "markdown",
   "id": "f452a969",
   "metadata": {},
   "source": [
    "## Encoding Developer\n",
    "* Prendo primo developer per importanza.\n"
   ]
  },
  {
   "cell_type": "code",
   "execution_count": 122,
   "id": "8a1e7d7a",
   "metadata": {},
   "outputs": [],
   "source": [
    "from funzioni import estrai_primo\n",
    "\n",
    "ds['developers_main'] = ds['developers'].apply(estrai_primo)\n",
    "\n",
    "freq_map_dev = ds['developers_main'].value_counts().to_dict()\n",
    "ds['developer_freq'] = ds['developers_main'].map(freq_map_dev).fillna(0)"
   ]
  },
  {
   "cell_type": "markdown",
   "id": "739f4547",
   "metadata": {},
   "source": [
    "* Salvo in un file i dizionari appena creati, per poterli usare nella demo o eseguibile"
   ]
  },
  {
   "cell_type": "code",
   "execution_count": 123,
   "id": "17f2f15f",
   "metadata": {},
   "outputs": [
    {
     "data": {
      "text/plain": [
       "['map/freq_map_dev.pkl']"
      ]
     },
     "execution_count": 123,
     "metadata": {},
     "output_type": "execute_result"
    }
   ],
   "source": [
    "import joblib\n",
    "\n",
    "# FutureGame/addestramentoModello/map/\n",
    "joblib.dump(freq_map_pub, \"map/freq_map_pub.pkl\")\n",
    "joblib.dump(freq_map_dev, \"map/freq_map_dev.pkl\")"
   ]
  },
  {
   "cell_type": "markdown",
   "id": "eb5782eb",
   "metadata": {},
   "source": [
    "### Encoding Developers e publishers per frequenze e valori comuni\n",
    "* frequency encoding\n",
    "* one-hot dei top valori più comuni"
   ]
  },
  {
   "cell_type": "code",
   "execution_count": 124,
   "id": "39c46806",
   "metadata": {},
   "outputs": [],
   "source": [
    "# Top 20 publishers\n",
    "top_pub = ds['publishers_main'].value_counts().nlargest(20).index\n",
    "ds['pub_top'] = ds['publishers_main'].where(ds['publishers_main'].isin(top_pub), 'other')\n",
    "\n",
    "# Top 20 developers\n",
    "top_dev = ds['developers_main'].value_counts().nlargest(20).index\n",
    "ds['dev_top'] = ds['developers_main'].where(ds['developers_main'].isin(top_dev), 'other')\n",
    "\n",
    "# One-hot encoding\n",
    "ds = pd.get_dummies(ds, columns=['pub_top', 'dev_top'], drop_first=True)\n"
   ]
  },
  {
   "cell_type": "code",
   "execution_count": 125,
   "id": "e11c5e59",
   "metadata": {},
   "outputs": [],
   "source": [
    "ds.drop(columns=['publishers','publishers_main', 'developers', 'developers_main'], inplace=True)"
   ]
  },
  {
   "cell_type": "code",
   "execution_count": 126,
   "id": "c96bbfe1",
   "metadata": {},
   "outputs": [],
   "source": [
    "ds.to_csv('DataSet/games1.csv', index=False)"
   ]
  },
  {
   "cell_type": "code",
   "execution_count": 127,
   "id": "df1e7102",
   "metadata": {},
   "outputs": [
    {
     "name": "stdout",
     "output_type": "stream",
     "text": [
      "['required_age', 'achievements', 'platform_count', 'is_free', 'price_log', 'trimester', 'success_class_encoded', 'top1_genre_freq', 'top2_genre_freq', 'genre_Indie', 'genre_Action', 'genre_Adventure', 'genre_Casual', 'genre_Free To Play', 'genre_RPG', 'genre_Strategy', 'genre_Simulation', 'genre_Early Access', 'genre_Massively Multiplayer', 'genre_Sports', 'genre_Racing', 'cat_Captions available', 'cat_Co-op', 'cat_Cross-Platform Multiplayer', 'cat_Family Sharing', 'cat_Full controller support', 'cat_In-App Purchases', 'cat_Includes Source SDK', 'cat_Includes level editor', 'cat_LAN Co-op', 'cat_LAN PvP', 'cat_MMO', 'cat_Multi-player', 'cat_Online Co-op', 'cat_Online PvP', 'cat_PvP', 'cat_Shared/Split Screen', 'cat_Shared/Split Screen Co-op', 'cat_Shared/Split Screen PvP', 'cat_Single-player', 'cat_Steam Trading Cards', 'publishers_freq', 'developer_freq', 'pub_top_Big Fish Games', 'pub_top_Conglomerate 5', 'pub_top_Daedalic Entertainment', 'pub_top_Devolver Digital', 'pub_top_DigiPen Institute of Technology', 'pub_top_Electronic Arts', 'pub_top_GrabTheGames', 'pub_top_KOEI TECMO GAMES CO., LTD.', 'pub_top_Kagura Games', 'pub_top_Nacon', 'pub_top_PLAYISM', 'pub_top_SA Industry', 'pub_top_SEGA', 'pub_top_Sekai Project', 'pub_top_Square Enix', 'pub_top_THQ Nordic', 'pub_top_Ubisoft', 'pub_top_Volens Nolens Games', 'pub_top_other', 'pub_top_tinyBuild', 'dev_top_Arc System Works', 'dev_top_Boogygames Studios', 'dev_top_CAPCOM Co., Ltd.', 'dev_top_Creobit', 'dev_top_Do Games Limited', 'dev_top_EnsenaSoft', 'dev_top_FIVE-BN GAMES', 'dev_top_KOEI TECMO GAMES CO., LTD.', 'dev_top_Laush Dmitriy Sergeevich', 'dev_top_MAGIX Software GmbH', 'dev_top_Milestone S.r.l.', 'dev_top_Nihon Falcom', 'dev_top_Quiet River', 'dev_top_RewindApp', 'dev_top_Ripknot Systems', 'dev_top_Square Enix', 'dev_top_TigerQiuQiu', 'dev_top_Warfare Studios', 'dev_top_Winged Cloud', 'dev_top_other']\n"
     ]
    }
   ],
   "source": [
    "print(ds.columns.tolist())"
   ]
  },
  {
   "cell_type": "code",
   "execution_count": 128,
   "id": "b1861215",
   "metadata": {},
   "outputs": [],
   "source": [
    "ds = pd.read_csv(\"DataSet/games1.csv\", index_col=0)"
   ]
  }
 ],
 "metadata": {
  "kernelspec": {
   "display_name": "Python 3",
   "language": "python",
   "name": "python3"
  },
  "language_info": {
   "codemirror_mode": {
    "name": "ipython",
    "version": 3
   },
   "file_extension": ".py",
   "mimetype": "text/x-python",
   "name": "python",
   "nbconvert_exporter": "python",
   "pygments_lexer": "ipython3",
   "version": "3.12.0"
  }
 },
 "nbformat": 4,
 "nbformat_minor": 5
}
